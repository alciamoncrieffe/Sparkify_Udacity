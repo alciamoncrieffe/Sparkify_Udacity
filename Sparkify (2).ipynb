{
 "cells": [
  {
   "cell_type": "markdown",
   "metadata": {},
   "source": [
    "# Sparkify Project Workspace\n",
    "This workspace contains a tiny subset (128MB) of the full dataset available (12GB). Feel free to use this workspace to build your project, or to explore a smaller subset with Spark before deploying your cluster on the cloud. Instructions for setting up your Spark cluster is included in the last lesson of the Extracurricular Spark Course content.\n",
    "\n",
    "You can follow the steps below to guide your data analysis and model building portion of this project."
   ]
  },
  {
   "cell_type": "code",
   "execution_count": 1,
   "metadata": {},
   "outputs": [],
   "source": [
    "# import libraries\n",
    "from pyspark.sql import SparkSession\n",
    "#from pyspark.sql import SparkContext\n",
    "from pyspark.sql.functions import isnan, when, count, col, concat, concat_ws, asc, desc, explode, lit, min, max\n",
    "from pyspark.sql.functions import sum as Fsum, split, udf, countDistinct, date_format, when, to_date\n",
    "from pyspark.sql.types import IntegerType\n",
    "\n",
    "import random\n",
    "import re\n",
    "import datetime\n",
    "from datetime import date\n",
    "import pandas as pd\n",
    "import numpy as np\n",
    "import matplotlib.pyplot as plt\n",
    "import seaborn as sns\n",
    "%matplotlib inline\n",
    "\n",
    "from pyspark.ml import Pipeline\n",
    "from pyspark.ml.classification import RandomForestClassifier\n",
    "#from pyspark.ml.classification import LogisticRegression\n",
    "#from pyspark.ml.regression import LinearRegression\n",
    "from pyspark.ml.feature import CountVectorizer, IDF, Normalizer, PCA, RegexTokenizer, StandardScaler, StopWordsRemover\n",
    "from pyspark.ml.feature import StringIndexer, VectorAssembler, MinMaxScaler, IndexToString, VectorIndexer\n",
    "from pyspark.ml.evaluation import MulticlassClassificationEvaluator\n",
    "from pyspark.ml.tuning import CrossValidator, ParamGridBuilder"
   ]
  },
  {
   "cell_type": "code",
   "execution_count": 2,
   "metadata": {},
   "outputs": [],
   "source": [
    "# create a Spark session\n",
    "spark = SparkSession.builder\\\n",
    "                    .master('local')\\\n",
    "                    .appName('SparkifyApp')\\\n",
    "                    .getOrCreate()\n",
    "#sc = SparkContext()"
   ]
  },
  {
   "cell_type": "markdown",
   "metadata": {},
   "source": [
    "# Load and Clean Dataset\n",
    "In this workspace, the mini-dataset file is `mini_sparkify_event_data.json`. Load and clean the dataset, checking for invalid or missing data - for example, records without userids or sessionids. "
   ]
  },
  {
   "cell_type": "code",
   "execution_count": 3,
   "metadata": {},
   "outputs": [],
   "source": [
    "sparkify_data = 'mini_sparkify_event_data.json'\n",
    "df = spark.read.json(sparkify_data)\n",
    "#when working on the full dataset create subset of records to do EDA on"
   ]
  },
  {
   "cell_type": "markdown",
   "metadata": {},
   "source": [
    "**1st step** to examine the dataframe contents and data types below."
   ]
  },
  {
   "cell_type": "code",
   "execution_count": 4,
   "metadata": {},
   "outputs": [
    {
     "data": {
      "text/plain": [
       "Row(artist='Martha Tilston', auth='Logged In', firstName='Colin', gender='M', itemInSession=50, lastName='Freeman', length=277.89016, level='paid', location='Bakersfield, CA', method='PUT', page='NextSong', registration=1538173362000, sessionId=29, song='Rockpools', status=200, ts=1538352117000, userAgent='Mozilla/5.0 (Windows NT 6.1; WOW64; rv:31.0) Gecko/20100101 Firefox/31.0', userId='30')"
      ]
     },
     "execution_count": 4,
     "metadata": {},
     "output_type": "execute_result"
    }
   ],
   "source": [
    "df.head()"
   ]
  },
  {
   "cell_type": "code",
   "execution_count": 5,
   "metadata": {},
   "outputs": [
    {
     "name": "stdout",
     "output_type": "stream",
     "text": [
      "root\n",
      " |-- artist: string (nullable = true)\n",
      " |-- auth: string (nullable = true)\n",
      " |-- firstName: string (nullable = true)\n",
      " |-- gender: string (nullable = true)\n",
      " |-- itemInSession: long (nullable = true)\n",
      " |-- lastName: string (nullable = true)\n",
      " |-- length: double (nullable = true)\n",
      " |-- level: string (nullable = true)\n",
      " |-- location: string (nullable = true)\n",
      " |-- method: string (nullable = true)\n",
      " |-- page: string (nullable = true)\n",
      " |-- registration: long (nullable = true)\n",
      " |-- sessionId: long (nullable = true)\n",
      " |-- song: string (nullable = true)\n",
      " |-- status: long (nullable = true)\n",
      " |-- ts: long (nullable = true)\n",
      " |-- userAgent: string (nullable = true)\n",
      " |-- userId: string (nullable = true)\n",
      "\n"
     ]
    }
   ],
   "source": [
    "df.printSchema()"
   ]
  },
  {
   "cell_type": "code",
   "execution_count": 6,
   "metadata": {},
   "outputs": [
    {
     "data": {
      "text/plain": [
       "286500"
      ]
     },
     "execution_count": 6,
     "metadata": {},
     "output_type": "execute_result"
    }
   ],
   "source": [
    "#Total number of records \n",
    "df.count()"
   ]
  },
  {
   "cell_type": "code",
   "execution_count": 7,
   "metadata": {},
   "outputs": [
    {
     "name": "stdout",
     "output_type": "stream",
     "text": [
      "+-------+-----------------+---------+--------+------+------------------+------+--------------------+\n",
      "|summary|           userId|firstName|lastName|gender|            status| level|        registration|\n",
      "+-------+-----------------+---------+--------+------+------------------+------+--------------------+\n",
      "|  count|           286500|   278154|  278154|278154|            286500|286500|              278154|\n",
      "|   mean|59682.02278593872|     null|    null|  null|210.05459685863875|  null|1.535358834084427...|\n",
      "| stddev|109091.9499991047|     null|    null|  null| 31.50507848842214|  null| 3.291321616327586E9|\n",
      "|    min|                 | Adelaida|   Adams|     F|               200|  free|       1521380675000|\n",
      "|    max|               99|   Zyonna|  Wright|     M|               404|  paid|       1543247354000|\n",
      "+-------+-----------------+---------+--------+------+------------------+------+--------------------+\n",
      "\n"
     ]
    }
   ],
   "source": [
    "df.describe('userId', 'firstName', 'lastName', 'gender', 'status', 'level', 'registration').show()"
   ]
  },
  {
   "cell_type": "code",
   "execution_count": 8,
   "metadata": {},
   "outputs": [
    {
     "name": "stdout",
     "output_type": "stream",
     "text": [
      "+-------+------------------+--------------------+-----------------+----------+-------+------+\n",
      "|summary|            artist|                song|           length|      auth|   page|method|\n",
      "+-------+------------------+--------------------+-----------------+----------+-------+------+\n",
      "|  count|            228108|              228108|           228108|    286500| 286500|286500|\n",
      "|   mean| 551.0852017937219|            Infinity|249.1171819778458|      null|   null|  null|\n",
      "| stddev|1217.7693079161374|                 NaN|99.23517921058361|      null|   null|  null|\n",
      "|    min|               !!!|\u001c",
      "ÃÂg ÃÂtti Gr...|          0.78322| Cancelled|  About|   GET|\n",
      "|    max| ÃÂlafur Arnalds|ÃÂau hafa slopp...|       3024.66567|Logged Out|Upgrade|   PUT|\n",
      "+-------+------------------+--------------------+-----------------+----------+-------+------+\n",
      "\n"
     ]
    }
   ],
   "source": [
    "df.describe('artist', 'song', 'length', 'auth', 'page', 'method').show()"
   ]
  },
  {
   "cell_type": "code",
   "execution_count": 9,
   "metadata": {},
   "outputs": [
    {
     "name": "stdout",
     "output_type": "stream",
     "text": [
      "+-------+-----------------+------------------+--------------------+--------------------+-----------------+\n",
      "|summary|        sessionId|     itemInSession|                  ts|           userAgent|         location|\n",
      "+-------+-----------------+------------------+--------------------+--------------------+-----------------+\n",
      "|  count|           286500|            286500|              286500|              278154|           278154|\n",
      "|   mean|1041.526554973822|114.41421291448516|1.540956889810483...|                null|             null|\n",
      "| stddev|726.7762634630741|129.76726201140994|1.5075439608226302E9|                null|             null|\n",
      "|    min|                1|                 0|       1538352117000|\"Mozilla/5.0 (Mac...|       Albany, OR|\n",
      "|    max|             2474|              1321|       1543799476000|Mozilla/5.0 (comp...|Winston-Salem, NC|\n",
      "+-------+-----------------+------------------+--------------------+--------------------+-----------------+\n",
      "\n"
     ]
    }
   ],
   "source": [
    "df.describe('sessionId', 'itemInSession', 'ts', 'userAgent', 'location').show()"
   ]
  },
  {
   "cell_type": "markdown",
   "metadata": {},
   "source": [
    "From the above column counts it looks like every user log record has a 'userId' but some are missing user information like 'firstName', 'lastName', 'gender' and 'registration'."
   ]
  },
  {
   "cell_type": "code",
   "execution_count": 10,
   "metadata": {},
   "outputs": [],
   "source": [
    "#df.select([count(when(isnan(c), c)).alias(c) for c in df.columns]).show()"
   ]
  },
  {
   "cell_type": "code",
   "execution_count": 11,
   "metadata": {},
   "outputs": [],
   "source": [
    "#df.select('lastName').dropna().count()"
   ]
  },
  {
   "cell_type": "code",
   "execution_count": 12,
   "metadata": {},
   "outputs": [],
   "source": [
    "#df.select('lastName').dropDuplicates().count()"
   ]
  },
  {
   "cell_type": "code",
   "execution_count": 13,
   "metadata": {},
   "outputs": [],
   "source": [
    "#df.select('userId').dropDuplicates().count()"
   ]
  },
  {
   "cell_type": "code",
   "execution_count": 14,
   "metadata": {},
   "outputs": [
    {
     "name": "stdout",
     "output_type": "stream",
     "text": [
      "+------+----------+---------+------+-------------+--------+------+-----+--------+------+-----+------------+---------+----+------+-------------+---------+------+\n",
      "|artist|      auth|firstName|gender|itemInSession|lastName|length|level|location|method| page|registration|sessionId|song|status|           ts|userAgent|userId|\n",
      "+------+----------+---------+------+-------------+--------+------+-----+--------+------+-----+------------+---------+----+------+-------------+---------+------+\n",
      "|  null|Logged Out|     null|  null|          100|    null|  null| free|    null|   GET| Home|        null|        8|null|   200|1538355745000|     null|      |\n",
      "|  null|Logged Out|     null|  null|          101|    null|  null| free|    null|   GET| Help|        null|        8|null|   200|1538355807000|     null|      |\n",
      "|  null|Logged Out|     null|  null|          102|    null|  null| free|    null|   GET| Home|        null|        8|null|   200|1538355841000|     null|      |\n",
      "|  null|Logged Out|     null|  null|          103|    null|  null| free|    null|   PUT|Login|        null|        8|null|   307|1538355842000|     null|      |\n",
      "|  null|Logged Out|     null|  null|            2|    null|  null| free|    null|   GET| Home|        null|      240|null|   200|1538356678000|     null|      |\n",
      "+------+----------+---------+------+-------------+--------+------+-----+--------+------+-----+------------+---------+----+------+-------------+---------+------+\n",
      "only showing top 5 rows\n",
      "\n"
     ]
    }
   ],
   "source": [
    "df.filter(df.lastName.isNull()).show(5)"
   ]
  },
  {
   "cell_type": "code",
   "execution_count": 15,
   "metadata": {},
   "outputs": [
    {
     "data": {
      "text/plain": [
       "8346"
      ]
     },
     "execution_count": 15,
     "metadata": {},
     "output_type": "execute_result"
    }
   ],
   "source": [
    "df.filter(df.lastName.isNull()).count()"
   ]
  },
  {
   "cell_type": "code",
   "execution_count": 16,
   "metadata": {},
   "outputs": [
    {
     "data": {
      "text/plain": [
       "8346"
      ]
     },
     "execution_count": 16,
     "metadata": {},
     "output_type": "execute_result"
    }
   ],
   "source": [
    "df.filter(df.userId=='').count()"
   ]
  },
  {
   "cell_type": "markdown",
   "metadata": {},
   "source": [
    "Exclude records where userId='' since these will not provide any helpful information regarding cancelled. These users are either not yet logged in, or just browsing and cannot be identified as at a starting payment tier."
   ]
  },
  {
   "cell_type": "code",
   "execution_count": 17,
   "metadata": {},
   "outputs": [
    {
     "data": {
      "text/plain": [
       "278154"
      ]
     },
     "execution_count": 17,
     "metadata": {},
     "output_type": "execute_result"
    }
   ],
   "source": [
    "df = df.filter(df.userId!='')\n",
    "df.count()"
   ]
  },
  {
   "cell_type": "markdown",
   "metadata": {},
   "source": [
    "Examining the available user interactions"
   ]
  },
  {
   "cell_type": "code",
   "execution_count": 18,
   "metadata": {},
   "outputs": [
    {
     "name": "stdout",
     "output_type": "stream",
     "text": [
      "+---------+--------------------+------+\n",
      "|     auth|                page|method|\n",
      "+---------+--------------------+------+\n",
      "|Logged In|               About|   GET|\n",
      "|Logged In|          Add Friend|   PUT|\n",
      "|Logged In|     Add to Playlist|   PUT|\n",
      "|Logged In|              Cancel|   PUT|\n",
      "|Cancelled|Cancellation Conf...|   GET|\n",
      "|Logged In|           Downgrade|   GET|\n",
      "|Logged In|               Error|   GET|\n",
      "|Logged In|                Help|   GET|\n",
      "|Logged In|                Home|   GET|\n",
      "|Logged In|              Logout|   PUT|\n",
      "|Logged In|            NextSong|   PUT|\n",
      "|Logged In|         Roll Advert|   GET|\n",
      "|Logged In|       Save Settings|   PUT|\n",
      "|Logged In|            Settings|   GET|\n",
      "|Logged In|    Submit Downgrade|   PUT|\n",
      "|Logged In|      Submit Upgrade|   PUT|\n",
      "|Logged In|         Thumbs Down|   PUT|\n",
      "|Logged In|           Thumbs Up|   PUT|\n",
      "|Logged In|             Upgrade|   GET|\n",
      "+---------+--------------------+------+\n",
      "\n"
     ]
    }
   ],
   "source": [
    "df.select('auth','page', 'method').dropDuplicates().sort('page').show()"
   ]
  },
  {
   "cell_type": "code",
   "execution_count": 19,
   "metadata": {},
   "outputs": [
    {
     "name": "stdout",
     "output_type": "stream",
     "text": [
      "+---------+-------------+-------------+--------------------+--------------------+\n",
      "|sessionId|itemInSession|           ts|           userAgent|            location|\n",
      "+---------+-------------+-------------+--------------------+--------------------+\n",
      "|       29|           50|1538352117000|Mozilla/5.0 (Wind...|     Bakersfield, CA|\n",
      "|        8|           79|1538352180000|\"Mozilla/5.0 (Win...|Boston-Cambridge-...|\n",
      "|       29|           51|1538352394000|Mozilla/5.0 (Wind...|     Bakersfield, CA|\n",
      "|        8|           80|1538352416000|\"Mozilla/5.0 (Win...|Boston-Cambridge-...|\n",
      "|       29|           52|1538352676000|Mozilla/5.0 (Wind...|     Bakersfield, CA|\n",
      "+---------+-------------+-------------+--------------------+--------------------+\n",
      "only showing top 5 rows\n",
      "\n"
     ]
    }
   ],
   "source": [
    "df.select('sessionId', 'itemInSession', 'ts', 'userAgent', 'location').show(5)"
   ]
  },
  {
   "cell_type": "code",
   "execution_count": 20,
   "metadata": {
    "scrolled": true
   },
   "outputs": [
    {
     "name": "stdout",
     "output_type": "stream",
     "text": [
      "+--------------------+---------+---------+------+-------------+--------+---------+-----+-----------+------+---------+-------------+---------+--------------------+------+-------------+--------------------+------+\n",
      "|              artist|     auth|firstName|gender|itemInSession|lastName|   length|level|   location|method|     page| registration|sessionId|                song|status|           ts|           userAgent|userId|\n",
      "+--------------------+---------+---------+------+-------------+--------+---------+-----+-----------+------+---------+-------------+---------+--------------------+------+-------------+--------------------+------+\n",
      "|         Al Di Meola|Logged In|  Natalee|     F|            0| Charles|286.40608| paid|Raleigh, NC|   PUT| NextSong|1536799770000|        1|      Roller Jubilee|   200|1538974195000|\"Mozilla/5.0 (Win...|     2|\n",
      "|      Karamelo Santo|Logged In|  Natalee|     F|            1| Charles|180.84526| paid|Raleigh, NC|   PUT| NextSong|1536799770000|        1|    El Baile Oficial|   200|1538974481000|\"Mozilla/5.0 (Win...|     2|\n",
      "|              Hinder|Logged In|  Natalee|     F|            2| Charles|229.69424| paid|Raleigh, NC|   PUT| NextSong|1536799770000|        1|              Use Me|   200|1538974661000|\"Mozilla/5.0 (Win...|     2|\n",
      "|       Milli Vanilli|Logged In|  Natalee|     F|            3| Charles|248.52853| paid|Raleigh, NC|   PUT| NextSong|1536799770000|        1|Blame It On The Rain|   200|1538974890000|\"Mozilla/5.0 (Win...|     2|\n",
      "|         The Killers|Logged In|  Natalee|     F|            4| Charles|360.75057| paid|Raleigh, NC|   PUT| NextSong|1536799770000|        1|               Human|   200|1538975138000|\"Mozilla/5.0 (Win...|     2|\n",
      "|       Dwight Yoakam|Logged In|  Natalee|     F|            5| Charles| 239.3073| paid|Raleigh, NC|   PUT| NextSong|1536799770000|        1|      You're The One|   200|1538975498000|\"Mozilla/5.0 (Win...|     2|\n",
      "|      Ray LaMontagne|Logged In|  Natalee|     F|            6| Charles|173.87057| paid|Raleigh, NC|   PUT| NextSong|1536799770000|        1|                Burn|   200|1538975737000|\"Mozilla/5.0 (Win...|     2|\n",
      "|  The Avett Brothers|Logged In|  Natalee|     F|            7| Charles| 94.74567| paid|Raleigh, NC|   PUT| NextSong|1536799770000|        1|          Wanted Man|   200|1538975910000|\"Mozilla/5.0 (Win...|     2|\n",
      "|         Jay Reatard|Logged In|  Natalee|     F|            8| Charles| 91.84608| paid|Raleigh, NC|   PUT| NextSong|1536799770000|        1|       Blood Visions|   200|1538976004000|\"Mozilla/5.0 (Win...|     2|\n",
      "|             Maxwell|Logged In|  Natalee|     F|            9| Charles|262.42567| paid|Raleigh, NC|   PUT| NextSong|1536799770000|        1|      Get To Know Ya|   200|1538976095000|\"Mozilla/5.0 (Win...|     2|\n",
      "|                null|Logged In|  Natalee|     F|           10| Charles|     null| paid|Raleigh, NC|   GET|     Home|1536799770000|        1|                null|   200|1538976114000|\"Mozilla/5.0 (Win...|     2|\n",
      "|Switchblade Symphony|Logged In|  Natalee|     F|           11| Charles|248.34567| paid|Raleigh, NC|   PUT| NextSong|1536799770000|        1|           Dollhouse|   200|1538976357000|\"Mozilla/5.0 (Win...|     2|\n",
      "|                MGMT|Logged In|  Natalee|     F|           12| Charles|249.36444| paid|Raleigh, NC|   PUT| NextSong|1536799770000|        1| Song For Dan Treacy|   200|1538976605000|\"Mozilla/5.0 (Win...|     2|\n",
      "|                null|Logged In|  Natalee|     F|           13| Charles|     null| paid|Raleigh, NC|   PUT|   Logout|1536799770000|        1|                null|   307|1538976606000|\"Mozilla/5.0 (Win...|     2|\n",
      "|                null|Logged In|  Natalee|     F|           16| Charles|     null| paid|Raleigh, NC|   GET|     Home|1536799770000|        1|                null|   200|1538976813000|\"Mozilla/5.0 (Win...|     2|\n",
      "|                null|Logged In|  Natalee|     F|           17| Charles|     null| paid|Raleigh, NC|   GET|     Home|1536799770000|        1|                null|   200|1538976832000|\"Mozilla/5.0 (Win...|     2|\n",
      "|             Molotov|Logged In|  Natalee|     F|           18| Charles|247.45751| paid|Raleigh, NC|   PUT| NextSong|1536799770000|        1|        Apocalypshit|   200|1538976854000|\"Mozilla/5.0 (Win...|     2|\n",
      "|                null|Logged In|  Natalee|     F|           19| Charles|     null| paid|Raleigh, NC|   GET|Downgrade|1536799770000|        1|                null|   200|1538976932000|\"Mozilla/5.0 (Win...|     2|\n",
      "|             Shakira|Logged In|  Natalee|     F|           20| Charles|571.79383| paid|Raleigh, NC|   PUT| NextSong|1536799770000|        1|       Estoy AquÃÂ­|   200|1538977101000|\"Mozilla/5.0 (Win...|     2|\n",
      "|Enrique Iglesias ...|Logged In|  Natalee|     F|           21| Charles|230.39955| paid|Raleigh, NC|   PUT| NextSong|1536799770000|        1| Takin' Back My Love|   200|1538977672000|\"Mozilla/5.0 (Win...|     2|\n",
      "+--------------------+---------+---------+------+-------------+--------+---------+-----+-----------+------+---------+-------------+---------+--------------------+------+-------------+--------------------+------+\n",
      "only showing top 20 rows\n",
      "\n"
     ]
    }
   ],
   "source": [
    "df.filter(df.sessionId==1).show()"
   ]
  },
  {
   "cell_type": "code",
   "execution_count": 21,
   "metadata": {},
   "outputs": [
    {
     "data": {
      "text/plain": [
       "278154"
      ]
     },
     "execution_count": 21,
     "metadata": {},
     "output_type": "execute_result"
    }
   ],
   "source": [
    "df.dropna(how='any',subset=['userId','sessionId']).count()"
   ]
  },
  {
   "cell_type": "code",
   "execution_count": 22,
   "metadata": {},
   "outputs": [],
   "source": [
    "#df = df.withColumn('ts_short', df.ts / lit(1000))\n",
    "get_year = udf(lambda x: datetime.datetime.fromtimestamp(x/1000.0).year)\n",
    "get_month = udf(lambda x: datetime.datetime.fromtimestamp(x/1000.0).month) \n",
    "get_day = udf(lambda x: datetime.datetime.fromtimestamp(x/1000.0).day) \n",
    "get_hour = udf(lambda x: datetime.datetime.fromtimestamp(x/1000.0).hour)\n",
    "df = df.withColumn('year', get_year(col('ts')))\n",
    "df = df.withColumn('month', get_month(col('ts')))\n",
    "df = df.withColumn('day', get_day(col('ts')))\n",
    "df = df.withColumn('hour', get_hour(col('ts')))\n",
    "cols = [\"year\",\"month\",\"day\"]\n",
    "df = df.withColumn(\"date\", to_date(concat_ws(\"-\",*cols),\"yyyy-MM-dd\").cast(\"date\"))"
   ]
  },
  {
   "cell_type": "code",
   "execution_count": 23,
   "metadata": {},
   "outputs": [],
   "source": [
    "#registration timestamp\n",
    "df = df.withColumn('reg_year', get_year(col('registration')))\n",
    "df = df.withColumn('reg_month', get_month(col('registration')))\n",
    "df = df.withColumn('reg_day', get_day(col('registration')))\n",
    "cols = [\"reg_year\",\"reg_month\",\"reg_day\"]\n",
    "df = df.withColumn(\"reg_date\", to_date(concat_ws(\"-\",*cols),\"yyyy-MM-dd\").cast(\"date\"))"
   ]
  },
  {
   "cell_type": "code",
   "execution_count": 24,
   "metadata": {},
   "outputs": [
    {
     "data": {
      "text/plain": [
       "Row(artist='Martha Tilston', auth='Logged In', firstName='Colin', gender='M', itemInSession=50, lastName='Freeman', length=277.89016, level='paid', location='Bakersfield, CA', method='PUT', page='NextSong', registration=1538173362000, sessionId=29, song='Rockpools', status=200, ts=1538352117000, userAgent='Mozilla/5.0 (Windows NT 6.1; WOW64; rv:31.0) Gecko/20100101 Firefox/31.0', userId='30', year='2018', month='10', day='1', hour='0', date=datetime.date(2018, 10, 1), reg_year='2018', reg_month='9', reg_day='28', reg_date=datetime.date(2018, 9, 28))"
      ]
     },
     "execution_count": 24,
     "metadata": {},
     "output_type": "execute_result"
    }
   ],
   "source": [
    "df.head()"
   ]
  },
  {
   "cell_type": "markdown",
   "metadata": {},
   "source": [
    "# Exploratory Data Analysis\n",
    "When you're working with the full dataset, perform EDA by loading a small subset of the data and doing basic manipulations within Spark. In this workspace, you are already provided a small subset of data you can explore.\n",
    "\n",
    "### Define cancelled\n",
    "\n",
    "Once you've done some preliminary analysis, create a column `cancelled` to use as the label for your model. I suggest using the `Cancellation Confirmation` events to define your cancelled, which happen for both paid and free users. As a bonus task, you can also look into the `Downgrade` events.\n",
    "\n",
    "### Explore Data\n",
    "Once you've defined cancelled, perform some exploratory data analysis to observe the behavior for users who stayed vs users who cancelled. You can start by exploring aggregates on these two groups of users, observing how much of a specific action they experienced per a certain time unit or number of songs played."
   ]
  },
  {
   "cell_type": "code",
   "execution_count": 25,
   "metadata": {},
   "outputs": [],
   "source": [
    "flag_cancelled = udf(lambda x: 1 if x=='Cancellation Confirmation' else 0, IntegerType())\n",
    "df = df.withColumn('cancelled', flag_cancelled('page'))\n",
    "\n",
    "flag_downgrade = udf(lambda x: 1 if x=='Submit Downgrade' else 0, IntegerType())\n",
    "df = df.withColumn('downgraded', flag_downgrade('page'))"
   ]
  },
  {
   "cell_type": "code",
   "execution_count": 26,
   "metadata": {},
   "outputs": [
    {
     "data": {
      "text/plain": [
       "Row(artist='Martha Tilston', auth='Logged In', firstName='Colin', gender='M', itemInSession=50, lastName='Freeman', length=277.89016, level='paid', location='Bakersfield, CA', method='PUT', page='NextSong', registration=1538173362000, sessionId=29, song='Rockpools', status=200, ts=1538352117000, userAgent='Mozilla/5.0 (Windows NT 6.1; WOW64; rv:31.0) Gecko/20100101 Firefox/31.0', userId='30', year='2018', month='10', day='1', hour='0', date=datetime.date(2018, 10, 1), reg_year='2018', reg_month='9', reg_day='28', reg_date=datetime.date(2018, 9, 28), cancelled=0, downgraded=0)"
      ]
     },
     "execution_count": 26,
     "metadata": {},
     "output_type": "execute_result"
    }
   ],
   "source": [
    "df.head()"
   ]
  },
  {
   "cell_type": "code",
   "execution_count": 27,
   "metadata": {},
   "outputs": [],
   "source": [
    "from pyspark.sql import Window\n",
    "windowval = Window.partitionBy('userId').orderBy(desc('ts')).rangeBetween(Window.unboundedPreceding,0)\n",
    "df = df.withColumn('pre_cancelled_events',Fsum('cancelled').over(windowval))\n",
    "df = df.withColumn('pre_downgraded_events',Fsum('downgraded').over(windowval))"
   ]
  },
  {
   "cell_type": "code",
   "execution_count": 28,
   "metadata": {
    "scrolled": true
   },
   "outputs": [
    {
     "name": "stdout",
     "output_type": "stream",
     "text": [
      "+------+----------+-------------+----------------+-----+----------+---------------------+---------+--------------------+\n",
      "|userId| firstname|           ts|            page|level|downgraded|pre_downgraded_events|cancelled|pre_cancelled_events|\n",
      "+------+----------+-------------+----------------+-----+----------+---------------------+---------+--------------------+\n",
      "|    96|Alexandria|1541722970000|Submit Downgrade| paid|         1|                    1|        0|                   0|\n",
      "|    96|Alexandria|1541722969000|       Downgrade| paid|         0|                    1|        0|                   0|\n",
      "|    96|Alexandria|1541722956000|        NextSong| paid|         0|                    1|        0|                   0|\n",
      "|    96|Alexandria|1541722674000|        NextSong| paid|         0|                    1|        0|                   0|\n",
      "|    96|Alexandria|1541722415000|        NextSong| paid|         0|                    1|        0|                   0|\n",
      "|    96|Alexandria|1541722188000|        NextSong| paid|         0|                    1|        0|                   0|\n",
      "|    96|Alexandria|1541721975000| Add to Playlist| paid|         0|                    1|        0|                   0|\n",
      "|    96|Alexandria|1541721965000|        NextSong| paid|         0|                    1|        0|                   0|\n",
      "|    96|Alexandria|1541721749000|        NextSong| paid|         0|                    1|        0|                   0|\n",
      "|    96|Alexandria|1541721472000|        NextSong| paid|         0|                    1|        0|                   0|\n",
      "|    96|Alexandria|1541721298000|       Thumbs Up| paid|         0|                    1|        0|                   0|\n",
      "|    96|Alexandria|1541721297000|        NextSong| paid|         0|                    1|        0|                   0|\n",
      "|    96|Alexandria|1541721048000|       Thumbs Up| paid|         0|                    1|        0|                   0|\n",
      "|    96|Alexandria|1541721047000|        NextSong| paid|         0|                    1|        0|                   0|\n",
      "|    96|Alexandria|1541720963000|        NextSong| paid|         0|                    1|        0|                   0|\n",
      "|    96|Alexandria|1541720727000|        NextSong| paid|         0|                    1|        0|                   0|\n",
      "|    96|Alexandria|1541720501000|        NextSong| paid|         0|                    1|        0|                   0|\n",
      "|    96|Alexandria|1541720036000|        NextSong| paid|         0|                    1|        0|                   0|\n",
      "|    96|Alexandria|1541719739000|        NextSong| paid|         0|                    1|        0|                   0|\n",
      "|    96|Alexandria|1541719469000|        NextSong| paid|         0|                    1|        0|                   0|\n",
      "+------+----------+-------------+----------------+-----+----------+---------------------+---------+--------------------+\n",
      "only showing top 20 rows\n",
      "\n"
     ]
    }
   ],
   "source": [
    "df.select(['userId','firstname','ts','page','level','downgraded','pre_downgraded_events','cancelled','pre_cancelled_events']\n",
    "         ).where(df.pre_downgraded_events=='1').sort(['userId','ts'], ascending=False).dropDuplicates().show()"
   ]
  },
  {
   "cell_type": "code",
   "execution_count": 29,
   "metadata": {
    "scrolled": true
   },
   "outputs": [
    {
     "name": "stdout",
     "output_type": "stream",
     "text": [
      "+------+---------+-------------+--------------------+-----+----------+---------------------+---------+--------------------+\n",
      "|userId|firstname|           ts|                page|level|downgraded|pre_downgraded_events|cancelled|pre_cancelled_events|\n",
      "+------+---------+-------------+--------------------+-----+----------+---------------------+---------+--------------------+\n",
      "|    87|Christian|1540050556000|Cancellation Conf...| paid|         0|                    0|        1|                   1|\n",
      "|    87|Christian|1540050538000|              Cancel| paid|         0|                    0|        0|                   1|\n",
      "|    87|Christian|1540050537000|           Downgrade| paid|         0|                    0|        0|                   1|\n",
      "|    87|Christian|1540050464000|            NextSong| paid|         0|                    0|        0|                   1|\n",
      "|    87|Christian|1540050304000|            NextSong| paid|         0|                    0|        0|                   1|\n",
      "|    87|Christian|1540050062000|            NextSong| paid|         0|                    0|        0|                   1|\n",
      "|    87|Christian|1540049846000|         Thumbs Down| paid|         0|                    0|        0|                   1|\n",
      "|    87|Christian|1540049845000|            NextSong| paid|         0|                    0|        0|                   1|\n",
      "|    87|Christian|1540049628000|            NextSong| paid|         0|                    0|        0|                   1|\n",
      "|    87|Christian|1540049391000|            NextSong| paid|         0|                    0|        0|                   1|\n",
      "|    87|Christian|1540049014000|            NextSong| paid|         0|                    0|        0|                   1|\n",
      "|    87|Christian|1540048879000|            NextSong| paid|         0|                    0|        0|                   1|\n",
      "|    87|Christian|1540048531000|            NextSong| paid|         0|                    0|        0|                   1|\n",
      "|    87|Christian|1540048382000|            NextSong| paid|         0|                    0|        0|                   1|\n",
      "|    87|Christian|1540048183000|            NextSong| paid|         0|                    0|        0|                   1|\n",
      "|    87|Christian|1540047963000|            NextSong| paid|         0|                    0|        0|                   1|\n",
      "|    87|Christian|1540047756000|            NextSong| paid|         0|                    0|        0|                   1|\n",
      "|    87|Christian|1540047503000|            NextSong| paid|         0|                    0|        0|                   1|\n",
      "|    87|Christian|1540047243000|            NextSong| paid|         0|                    0|        0|                   1|\n",
      "|    87|Christian|1540046985000|           Thumbs Up| paid|         0|                    0|        0|                   1|\n",
      "+------+---------+-------------+--------------------+-----+----------+---------------------+---------+--------------------+\n",
      "only showing top 20 rows\n",
      "\n"
     ]
    }
   ],
   "source": [
    "df.select(['userId','firstname','ts','page','level','downgraded','pre_downgraded_events','cancelled','pre_cancelled_events'\n",
    "          ]).where(df.pre_cancelled_events=='1').sort(['userId','ts'], ascending=False).dropDuplicates().show()"
   ]
  },
  {
   "cell_type": "markdown",
   "metadata": {},
   "source": [
    "Checking that downgrade submission results in a change of paid tier"
   ]
  },
  {
   "cell_type": "code",
   "execution_count": 30,
   "metadata": {},
   "outputs": [],
   "source": [
    "downgraded_users = [int(row.userId) for row in df.select('userId').where(\n",
    "    df.page=='Submit Downgrade').dropDuplicates().collect()]\n",
    "\n",
    "cancelled_users = [int(row.userId) for row in df.select('userId').where(\n",
    "    df.page=='Cancellation Confirmation').dropDuplicates().collect()]\n",
    "\n",
    "#free_users = "
   ]
  },
  {
   "cell_type": "code",
   "execution_count": 31,
   "metadata": {},
   "outputs": [
    {
     "data": {
      "text/plain": [
       "[54, 11, 30, 59, 85]"
      ]
     },
     "execution_count": 31,
     "metadata": {},
     "output_type": "execute_result"
    }
   ],
   "source": [
    "downgraded_users[:5]"
   ]
  },
  {
   "cell_type": "code",
   "execution_count": 32,
   "metadata": {
    "scrolled": true
   },
   "outputs": [],
   "source": [
    "others_pivot = df.select('userId','level').dropDuplicates() \\\n",
    "    .filter(~df.userId.isin(downgraded_users)&~df.userId.isin(cancelled_users))\\\n",
    "    .groupBy(\"userId\") \\\n",
    "    .pivot(\"level\") \\\n",
    "    .count()"
   ]
  },
  {
   "cell_type": "code",
   "execution_count": 33,
   "metadata": {},
   "outputs": [
    {
     "name": "stdout",
     "output_type": "stream",
     "text": [
      "+------+----+----+\n",
      "|userId|free|paid|\n",
      "+------+----+----+\n",
      "|200002|   1|   1|\n",
      "|100010|   1|null|\n",
      "|     7|   1|null|\n",
      "|   124|null|   1|\n",
      "|    15|null|   1|\n",
      "+------+----+----+\n",
      "only showing top 5 rows\n",
      "\n"
     ]
    }
   ],
   "source": [
    "others_pivot.show(5)"
   ]
  },
  {
   "cell_type": "code",
   "execution_count": 34,
   "metadata": {},
   "outputs": [],
   "source": [
    "free_only_users = [int(row.userId) for row in others_pivot.select('userId').where(\n",
    "    others_pivot.paid.isNull()).collect()]"
   ]
  },
  {
   "cell_type": "code",
   "execution_count": 35,
   "metadata": {},
   "outputs": [
    {
     "data": {
      "text/plain": [
       "[100010, 7, 154, 112, 64]"
      ]
     },
     "execution_count": 35,
     "metadata": {},
     "output_type": "execute_result"
    }
   ],
   "source": [
    "free_only_users[:5]"
   ]
  },
  {
   "cell_type": "code",
   "execution_count": 36,
   "metadata": {},
   "outputs": [],
   "source": [
    "df = df.withColumn('user_type', \\\n",
    "    when(df.userId.isin(downgraded_users),lit('downgraded')) \\\n",
    "    .when(df.userId.isin(cancelled_users),lit('cancelled')) \\\n",
    "    .when(df.userId.isin(free_only_users),lit('free only')) \\\n",
    "     .otherwise(lit('paying')) )"
   ]
  },
  {
   "cell_type": "code",
   "execution_count": 37,
   "metadata": {},
   "outputs": [],
   "source": [
    "backward_date = max('date') - 'date' "
   ]
  },
  {
   "cell_type": "code",
   "execution_count": 38,
   "metadata": {},
   "outputs": [],
   "source": [
    "df = df.withColumn('churn', \\\n",
    "    when(df.userId.isin(downgraded_users),lit(1)) \\\n",
    "    .when(df.userId.isin(cancelled_users),lit(1)) \\\n",
    "    .otherwise(lit(0)) )"
   ]
  },
  {
   "cell_type": "markdown",
   "metadata": {},
   "source": [
    "Looking at an example of a user who downgraded, though it looks like this one downgraded and then upgraded again a while later."
   ]
  },
  {
   "cell_type": "code",
   "execution_count": 39,
   "metadata": {},
   "outputs": [
    {
     "data": {
      "text/plain": [
       "201"
      ]
     },
     "execution_count": 39,
     "metadata": {},
     "output_type": "execute_result"
    }
   ],
   "source": [
    "df.select(['userId','firstname','sessionId','ts','page','level','downgraded','pre_downgraded_events']).where(\n",
    "            (df.userId=='11') & (df.page!='NextSong')).sort('ts', ascending=False).count()"
   ]
  },
  {
   "cell_type": "code",
   "execution_count": 40,
   "metadata": {
    "scrolled": true
   },
   "outputs": [
    {
     "name": "stdout",
     "output_type": "stream",
     "text": [
      "+------+---------+---------+-------------+----------------+-----+----------+---------------------+---------+--------------------+\n",
      "|userId|firstname|sessionId|           ts|            page|level|downgraded|pre_downgraded_events|cancelled|pre_cancelled_events|\n",
      "+------+---------+---------+-------------+----------------+-----+----------+---------------------+---------+--------------------+\n",
      "|    11|      Zoe|     2092|1543308850000|       Thumbs Up| paid|         0|                    0|        0|                   0|\n",
      "|    11|      Zoe|     2092|1543308631000|       Thumbs Up| paid|         0|                    0|        0|                   0|\n",
      "|    11|      Zoe|     2092|1543306154000|       Thumbs Up| paid|         0|                    0|        0|                   0|\n",
      "|    11|      Zoe|     2092|1543305128000| Add to Playlist| paid|         0|                    0|        0|                   0|\n",
      "|    11|      Zoe|     2016|1542667700000|       Thumbs Up| paid|         0|                    0|        0|                   0|\n",
      "|    11|      Zoe|     2016|1542664926000|            Home| paid|         0|                    0|        0|                   0|\n",
      "|    11|      Zoe|     2016|1542664189000|       Downgrade| paid|         0|                    0|        0|                   0|\n",
      "|    11|      Zoe|     2016|1542664172000|       Downgrade| paid|         0|                    0|        0|                   0|\n",
      "|    11|      Zoe|     2016|1542662829000|            Home| paid|         0|                    0|        0|                   0|\n",
      "|    11|      Zoe|     2016|1542662439000|     Thumbs Down| paid|         0|                    0|        0|                   0|\n",
      "|    11|      Zoe|     2016|1542661759000|     Roll Advert| paid|         0|                    0|        0|                   0|\n",
      "|    11|      Zoe|     2016|1542657932000|       Thumbs Up| paid|         0|                    0|        0|                   0|\n",
      "|    11|      Zoe|     2016|1542657320000| Add to Playlist| paid|         0|                    0|        0|                   0|\n",
      "|    11|      Zoe|     2016|1542657305000|       Thumbs Up| paid|         0|                    0|        0|                   0|\n",
      "|    11|      Zoe|     2016|1542656660000|      Add Friend| paid|         0|                    0|        0|                   0|\n",
      "|    11|      Zoe|     2016|1542656494000|           Error| paid|         0|                    0|        0|                   0|\n",
      "|    11|      Zoe|     2016|1542656481000|        Settings| paid|         0|                    0|        0|                   0|\n",
      "|    11|      Zoe|     2016|1542654281000|     Thumbs Down| paid|         0|                    0|        0|                   0|\n",
      "|    11|      Zoe|     2016|1542654045000|       Thumbs Up| paid|         0|                    0|        0|                   0|\n",
      "|    11|      Zoe|     2016|1542653877000|            Home| paid|         0|                    0|        0|                   0|\n",
      "|    11|      Zoe|     2016|1542653830000|           About| paid|         0|                    0|        0|                   0|\n",
      "|    11|      Zoe|     1824|1542406166000| Add to Playlist| paid|         0|                    0|        0|                   0|\n",
      "|    11|      Zoe|     1824|1542405923000|            Home| paid|         0|                    0|        0|                   0|\n",
      "|    11|      Zoe|     1824|1542405919000|           About| paid|         0|                    0|        0|                   0|\n",
      "|    11|      Zoe|     1824|1542403606000| Add to Playlist| paid|         0|                    0|        0|                   0|\n",
      "|    11|      Zoe|     1824|1542400207000|            Home| paid|         0|                    0|        0|                   0|\n",
      "|    11|      Zoe|     1824|1542400205000|       Downgrade| paid|         0|                    0|        0|                   0|\n",
      "|    11|      Zoe|     1824|1542398606000| Add to Playlist| paid|         0|                    0|        0|                   0|\n",
      "|    11|      Zoe|     1824|1542393126000|       Downgrade| paid|         0|                    0|        0|                   0|\n",
      "|    11|      Zoe|     1824|1542392699000| Add to Playlist| paid|         0|                    0|        0|                   0|\n",
      "|    11|      Zoe|     1824|1542391617000| Add to Playlist| paid|         0|                    0|        0|                   0|\n",
      "|    11|      Zoe|     1824|1542385964000|            Home| paid|         0|                    0|        0|                   0|\n",
      "|    11|      Zoe|     1824|1542385909000|  Submit Upgrade| free|         0|                    0|        0|                   0|\n",
      "|    11|      Zoe|     1824|1542385908000|         Upgrade| free|         0|                    0|        0|                   0|\n",
      "|    11|      Zoe|     1824|1542385877000|         Upgrade| free|         0|                    0|        0|                   0|\n",
      "|    11|      Zoe|     1824|1542381197000|       Thumbs Up| free|         0|                    0|        0|                   0|\n",
      "|    11|      Zoe|     1824|1542380759000|            Home| free|         0|                    0|        0|                   0|\n",
      "|    11|      Zoe|     1824|1542379940000|       Thumbs Up| free|         0|                    0|        0|                   0|\n",
      "|    11|      Zoe|     1824|1542379455000|            Home| free|         0|                    0|        0|                   0|\n",
      "|    11|      Zoe|     1824|1542379174000|     Roll Advert| free|         0|                    0|        0|                   0|\n",
      "|    11|      Zoe|     1824|1542379155000|     Roll Advert| free|         0|                    0|        0|                   0|\n",
      "|    11|      Zoe|     1824|1542378903000|     Roll Advert| free|         0|                    0|        0|                   0|\n",
      "|    11|      Zoe|     1824|1542376538000| Add to Playlist| free|         0|                    0|        0|                   0|\n",
      "|    11|      Zoe|     1824|1542376324000| Add to Playlist| free|         0|                    0|        0|                   0|\n",
      "|    11|      Zoe|     1824|1542375297000|       Thumbs Up| free|         0|                    0|        0|                   0|\n",
      "|    11|      Zoe|     1824|1542373248000|     Roll Advert| free|         0|                    0|        0|                   0|\n",
      "|    11|      Zoe|     1824|1542372412000|       Thumbs Up| free|         0|                    0|        0|                   0|\n",
      "|    11|      Zoe|     1824|1542371689000|     Thumbs Down| free|         0|                    0|        0|                   0|\n",
      "|    11|      Zoe|     1824|1542370046000| Add to Playlist| free|         0|                    0|        0|                   0|\n",
      "|    11|      Zoe|     1824|1542368042000|         Upgrade| free|         0|                    0|        0|                   0|\n",
      "|    11|      Zoe|     1824|1542367477000|     Roll Advert| free|         0|                    0|        0|                   0|\n",
      "|    11|      Zoe|     1824|1542365973000|     Roll Advert| free|         0|                    0|        0|                   0|\n",
      "|    11|      Zoe|     1824|1542365708000|            Home| free|         0|                    0|        0|                   0|\n",
      "|    11|      Zoe|     1824|1542365693000|          Logout| free|         0|                    0|        0|                   0|\n",
      "|    11|      Zoe|     1824|1542364860000|     Roll Advert| free|         0|                    0|        0|                   0|\n",
      "|    11|      Zoe|     1687|1541930196000|       Thumbs Up| free|         0|                    0|        0|                   0|\n",
      "|    11|      Zoe|     1687|1541928856000|     Roll Advert| free|         0|                    0|        0|                   0|\n",
      "|    11|      Zoe|     1687|1541928255000|            Home| free|         0|                    0|        0|                   0|\n",
      "|    11|      Zoe|     1687|1541927847000|         Upgrade| free|         0|                    0|        0|                   0|\n",
      "|    11|      Zoe|     1687|1541927442000|      Add Friend| free|         0|                    0|        0|                   0|\n",
      "|    11|      Zoe|     1687|1541926122000|       Thumbs Up| free|         0|                    0|        0|                   0|\n",
      "|    11|      Zoe|     1687|1541925372000|     Roll Advert| free|         0|                    0|        0|                   0|\n",
      "|    11|      Zoe|     1687|1541925039000|            Home| free|         0|                    0|        0|                   0|\n",
      "|    11|      Zoe|     1687|1541924899000|     Roll Advert| free|         0|                    0|        0|                   0|\n",
      "|    11|      Zoe|     1687|1541923232000|            Home| free|         0|                    0|        0|                   0|\n",
      "|    11|      Zoe|     1633|1541567769000|          Logout| free|         0|                    0|        0|                   0|\n",
      "|    11|      Zoe|     1633|1541567638000|       Thumbs Up| free|         0|                    0|        0|                   0|\n",
      "|    11|      Zoe|     1633|1541567488000|            Home| free|         0|                    0|        0|                   0|\n",
      "|    11|      Zoe|     1633|1541567464000|          Logout| free|         0|                    0|        0|                   0|\n",
      "|    11|      Zoe|     1633|1541567213000|         Upgrade| free|         0|                    0|        0|                   0|\n",
      "|    11|      Zoe|     1633|1541567067000|            Home| free|         0|                    0|        0|                   0|\n",
      "|    11|      Zoe|     1633|1541567063000|   Save Settings| free|         0|                    0|        0|                   0|\n",
      "|    11|      Zoe|     1633|1541567062000|        Settings| free|         0|                    0|        0|                   0|\n",
      "|    11|      Zoe|     1633|1541566856000|     Roll Advert| free|         0|                    0|        0|                   0|\n",
      "|    11|      Zoe|     1633|1541566337000|       Thumbs Up| free|         0|                    0|        0|                   0|\n",
      "|    11|      Zoe|     1633|1541564892000|       Thumbs Up| free|         0|                    0|        0|                   0|\n",
      "|    11|      Zoe|     1633|1541564045000|     Roll Advert| free|         0|                    0|        0|                   0|\n",
      "|    11|      Zoe|     1547|1541435166000|            Home| free|         0|                    0|        0|                   0|\n",
      "|    11|      Zoe|     1547|1541434561000|         Upgrade| free|         0|                    0|        0|                   0|\n",
      "|    11|      Zoe|     1547|1541434506000|       Thumbs Up| free|         0|                    0|        0|                   0|\n",
      "|    11|      Zoe|     1547|1541432369000|       Thumbs Up| free|         0|                    0|        0|                   0|\n",
      "|    11|      Zoe|     1547|1541432042000|       Thumbs Up| free|         0|                    0|        0|                   0|\n",
      "|    11|      Zoe|     1547|1541430970000|     Roll Advert| free|         0|                    0|        0|                   0|\n",
      "|    11|      Zoe|     1547|1541430694000|     Roll Advert| free|         0|                    0|        0|                   0|\n",
      "|    11|      Zoe|     1547|1541430667000|            Home| free|         0|                    0|        0|                   0|\n",
      "|    11|      Zoe|     1547|1541430641000|          Logout| free|         0|                    0|        0|                   0|\n",
      "|    11|      Zoe|     1547|1541430524000|       Thumbs Up| free|         0|                    0|        0|                   0|\n",
      "|    11|      Zoe|     1547|1541430217000|       Thumbs Up| free|         0|                    0|        0|                   0|\n",
      "|    11|      Zoe|     1547|1541429786000| Add to Playlist| free|         0|                    0|        0|                   0|\n",
      "|    11|      Zoe|     1547|1541429785000|       Thumbs Up| free|         0|                    0|        0|                   0|\n",
      "|    11|      Zoe|     1547|1541429131000|     Roll Advert| free|         0|                    0|        0|                   0|\n",
      "|    11|      Zoe|     1452|1541167182000|        Settings| free|         0|                    0|        0|                   0|\n",
      "|    11|      Zoe|     1452|1541167169000|            Home| free|         0|                    0|        0|                   0|\n",
      "|    11|      Zoe|     1452|1541167111000|          Logout| free|         0|                    0|        0|                   0|\n",
      "|    11|      Zoe|     1452|1541166804000|         Upgrade| free|         0|                    0|        0|                   0|\n",
      "|    11|      Zoe|     1452|1541166050000|     Roll Advert| free|         0|                    0|        0|                   0|\n",
      "|    11|      Zoe|     1452|1541164091000|       Thumbs Up| free|         0|                    0|        0|                   0|\n",
      "|    11|      Zoe|     1452|1541162681000|       Thumbs Up| free|         0|                    0|        0|                   0|\n",
      "|    11|      Zoe|     1452|1541162333000|        Settings| free|         0|                    0|        0|                   0|\n",
      "|    11|      Zoe|     1452|1541162329000|            Help| free|         0|                    0|        0|                   0|\n",
      "|    11|      Zoe|     1452|1541162300000| Add to Playlist| free|         0|                    0|        0|                   0|\n",
      "|    11|      Zoe|     1452|1541161083000| Add to Playlist| free|         0|                    0|        0|                   0|\n",
      "|    11|      Zoe|     1452|1541160334000|           About| free|         0|                    0|        0|                   0|\n",
      "|    11|      Zoe|     1452|1541160333000|        Settings| free|         0|                    0|        0|                   0|\n",
      "|    11|      Zoe|     1452|1541160290000|      Add Friend| free|         0|                    0|        0|                   0|\n",
      "|    11|      Zoe|     1452|1541159508000|     Roll Advert| free|         0|                    0|        0|                   0|\n",
      "|    11|      Zoe|     1452|1541159278000| Add to Playlist| free|         0|                    0|        0|                   0|\n",
      "|    11|      Zoe|     1452|1541157257000|           About| free|         0|                    0|        0|                   0|\n",
      "|    11|      Zoe|     1452|1541157250000|      Add Friend| free|         0|                    0|        0|                   0|\n",
      "|    11|      Zoe|     1452|1541157102000| Add to Playlist| free|         0|                    0|        0|                   0|\n",
      "|    11|      Zoe|     1452|1541156904000|     Thumbs Down| free|         0|                    0|        0|                   0|\n",
      "|    11|      Zoe|     1452|1541155898000|            Home| free|         0|                    0|        0|                   0|\n",
      "|    11|      Zoe|     1452|1541155898000|            Help| free|         0|                    0|        0|                   0|\n",
      "|    11|      Zoe|     1452|1541155233000|       Thumbs Up| free|         0|                    0|        0|                   0|\n",
      "|    11|      Zoe|     1452|1541154980000| Add to Playlist| free|         0|                    0|        0|                   0|\n",
      "|    11|      Zoe|     1452|1541154534000|            Home| free|         0|                    0|        0|                   0|\n",
      "|    11|      Zoe|     1404|1540946667000|     Roll Advert| free|         0|                    0|        0|                   0|\n",
      "|    11|      Zoe|     1404|1540945873000|       Thumbs Up| free|         0|                    0|        0|                   0|\n",
      "|    11|      Zoe|     1404|1540945470000|           About| free|         0|                    0|        0|                   0|\n",
      "|    11|      Zoe|     1404|1540944771000|     Roll Advert| free|         0|                    0|        0|                   0|\n",
      "|    11|      Zoe|     1404|1540942480000| Add to Playlist| free|         0|                    0|        0|                   0|\n",
      "|    11|      Zoe|     1404|1540942195000|      Add Friend| free|         0|                    0|        0|                   0|\n",
      "|    11|      Zoe|     1404|1540941483000|            Home| free|         0|                    0|        0|                   0|\n",
      "|    11|      Zoe|     1404|1540940749000|       Thumbs Up| free|         0|                    0|        0|                   0|\n",
      "|    11|      Zoe|     1404|1540940449000|       Thumbs Up| free|         0|                    0|        0|                   0|\n",
      "|    11|      Zoe|     1404|1540940251000| Add to Playlist| free|         0|                    0|        0|                   0|\n",
      "|    11|      Zoe|     1404|1540939568000|     Thumbs Down| free|         0|                    0|        0|                   0|\n",
      "|    11|      Zoe|     1404|1540937519000|       Thumbs Up| free|         0|                    0|        0|                   0|\n",
      "|    11|      Zoe|     1388|1540848244000|            Home| free|         0|                    0|        0|                   0|\n",
      "|    11|      Zoe|     1388|1540848198000|          Logout| free|         0|                    0|        0|                   0|\n",
      "|    11|      Zoe|     1388|1540847610000|     Roll Advert| free|         0|                    0|        0|                   0|\n",
      "|    11|      Zoe|     1388|1540847325000|     Roll Advert| free|         0|                    0|        0|                   0|\n",
      "|    11|      Zoe|     1388|1540846348000|            Home| free|         0|                    0|        0|                   0|\n",
      "|    11|      Zoe|     1388|1540846316000|          Logout| free|         0|                    0|        0|                   0|\n",
      "|    11|      Zoe|     1388|1540845921000|     Roll Advert| free|         0|                    0|        0|                   0|\n",
      "|    11|      Zoe|     1388|1540844832000|     Thumbs Down| free|         0|                    0|        0|                   0|\n",
      "|    11|      Zoe|     1388|1540844185000|            Home| free|         0|                    0|        0|                   0|\n",
      "|    11|      Zoe|     1388|1540844141000|          Logout| free|         0|                    0|        0|                   0|\n",
      "|    11|      Zoe|     1388|1540843209000|       Thumbs Up| free|         0|                    0|        0|                   0|\n",
      "|    11|      Zoe|     1388|1540841143000|     Roll Advert| free|         0|                    0|        0|                   0|\n",
      "|    11|      Zoe|     1388|1540840075000|         Upgrade| free|         0|                    0|        0|                   0|\n",
      "|    11|      Zoe|     1388|1540838784000|     Thumbs Down| free|         0|                    0|        0|                   0|\n",
      "|    11|      Zoe|     1388|1540837380000|     Roll Advert| free|         0|                    0|        0|                   0|\n",
      "|    11|      Zoe|     1388|1540836911000|            Home| free|         0|                    0|        0|                   0|\n",
      "|    11|      Zoe|     1388|1540836553000|      Add Friend| free|         0|                    0|        0|                   0|\n",
      "|    11|      Zoe|     1388|1540836552000|           About| free|         0|                    0|        0|                   0|\n",
      "|    11|      Zoe|     1388|1540836113000|     Roll Advert| free|         0|                    0|        0|                   0|\n",
      "|    11|      Zoe|     1388|1540835842000|            Home| free|         0|                    0|        0|                   0|\n",
      "|    11|      Zoe|     1388|1540835681000|            Home| free|         0|                    0|        0|                   0|\n",
      "|    11|      Zoe|     1388|1540834352000|     Roll Advert| free|         0|                    0|        0|                   0|\n",
      "|    11|      Zoe|     1388|1540834006000|     Roll Advert| free|         0|                    0|        0|                   0|\n",
      "|    11|      Zoe|     1388|1540833786000|       Thumbs Up| free|         0|                    0|        0|                   0|\n",
      "|    11|      Zoe|     1388|1540829082000|            Home| free|         0|                    0|        0|                   0|\n",
      "|    11|      Zoe|     1350|1540825532000|          Logout| free|         0|                    0|        0|                   0|\n",
      "|    11|      Zoe|     1350|1540825531000|     Roll Advert| free|         0|                    0|        0|                   0|\n",
      "|    11|      Zoe|     1350|1540824232000|           About| free|         0|                    0|        0|                   0|\n",
      "|    11|      Zoe|     1350|1540824227000|            Home| free|         0|                    0|        0|                   0|\n",
      "|    11|      Zoe|     1265|1540713765000|          Logout| free|         0|                    0|        0|                   0|\n",
      "|    11|      Zoe|     1265|1540713524000|     Roll Advert| free|         0|                    0|        0|                   0|\n",
      "|    11|      Zoe|     1265|1540711502000|     Roll Advert| free|         0|                    0|        0|                   0|\n",
      "|    11|      Zoe|      853|1540469055000|     Thumbs Down| free|         0|                    0|        0|                   0|\n",
      "|    11|      Zoe|      853|1540467624000|       Thumbs Up| free|         0|                    0|        0|                   0|\n",
      "|    11|      Zoe|      853|1540467610000|            Home| free|         0|                    0|        0|                   0|\n",
      "|    11|      Zoe|      822|1539569675000|          Logout| free|         0|                    0|        0|                   0|\n",
      "|    11|      Zoe|      822|1539568683000|     Roll Advert| free|         0|                    0|        0|                   0|\n",
      "|    11|      Zoe|      822|1539568472000|            Home| free|         0|                    0|        0|                   0|\n",
      "|    11|      Zoe|      822|1539568470000|          Logout| free|         0|                    0|        0|                   0|\n",
      "|    11|      Zoe|      822|1539568288000|     Roll Advert| free|         0|                    0|        0|                   0|\n",
      "|    11|      Zoe|      822|1539568038000|       Thumbs Up| free|         0|                    0|        0|                   0|\n",
      "|    11|      Zoe|      822|1539563600000|       Thumbs Up| free|         0|                    0|        0|                   0|\n",
      "|    11|      Zoe|      822|1539563417000|            Home| free|         0|                    0|        0|                   0|\n",
      "|    11|      Zoe|      822|1539563414000|            Help| free|         0|                    0|        0|                   0|\n",
      "|    11|      Zoe|      822|1539563398000|            Home| free|         0|                    0|        0|                   0|\n",
      "|    11|      Zoe|      739|1539453905000|          Logout| free|         0|                    0|        0|                   0|\n",
      "|    11|      Zoe|      739|1539451008000|     Roll Advert| free|         0|                    0|        0|                   0|\n",
      "|    11|      Zoe|      739|1539450488000|       Thumbs Up| free|         0|                    0|        0|                   0|\n",
      "|    11|      Zoe|      739|1539448682000|            Home| free|         0|                    0|        0|                   0|\n",
      "|    11|      Zoe|      739|1539448671000|          Logout| free|         0|                    0|        0|                   0|\n",
      "|    11|      Zoe|      739|1539448483000|     Roll Advert| free|         0|                    0|        0|                   0|\n",
      "|    11|      Zoe|      739|1539447844000|       Thumbs Up| free|         0|                    0|        0|                   0|\n",
      "|    11|      Zoe|      739|1539447506000|     Roll Advert| free|         0|                    0|        0|                   0|\n",
      "|    11|      Zoe|      739|1539447092000|     Roll Advert| free|         0|                    0|        0|                   0|\n",
      "|    11|      Zoe|      487|1539246268000|     Thumbs Down| free|         0|                    0|        0|                   0|\n",
      "|    11|      Zoe|      487|1539245664000|     Roll Advert| free|         0|                    0|        0|                   0|\n",
      "|    11|      Zoe|      487|1539244758000|       Thumbs Up| free|         0|                    0|        0|                   0|\n",
      "|    11|      Zoe|      487|1539243160000|       Thumbs Up| free|         0|                    0|        0|                   0|\n",
      "|    11|      Zoe|      487|1539242655000|       Thumbs Up| free|         0|                    0|        0|                   0|\n",
      "|    11|      Zoe|      487|1539241941000| Add to Playlist| free|         0|                    0|        0|                   0|\n",
      "|    11|      Zoe|      487|1539240664000|     Roll Advert| free|         0|                    0|        0|                   0|\n",
      "|    11|      Zoe|      487|1539240220000|            Home| free|         0|                    0|        0|                   0|\n",
      "|    11|      Zoe|      487|1539239749000|            Home| free|         0|                    0|        0|                   0|\n",
      "|    11|      Zoe|      487|1539239742000|Submit Downgrade| paid|         1|                    1|        0|                   0|\n",
      "|    11|      Zoe|      487|1539239741000|       Downgrade| paid|         0|                    1|        0|                   0|\n",
      "|    11|      Zoe|      487|1539239522000| Add to Playlist| paid|         0|                    1|        0|                   0|\n",
      "|    11|      Zoe|      487|1539239510000|       Thumbs Up| paid|         0|                    1|        0|                   0|\n",
      "|    11|      Zoe|      487|1539237195000|            Home| paid|         0|                    1|        0|                   0|\n",
      "|    11|      Zoe|      487|1539237191000|  Submit Upgrade| free|         0|                    1|        0|                   0|\n",
      "|    11|      Zoe|      487|1539237190000|         Upgrade| free|         0|                    1|        0|                   0|\n",
      "|    11|      Zoe|       10|1538710802000|   Save Settings| free|         0|                    1|        0|                   0|\n",
      "|    11|      Zoe|       10|1538710801000|        Settings| free|         0|                    1|        0|                   0|\n",
      "+------+---------+---------+-------------+----------------+-----+----------+---------------------+---------+--------------------+\n",
      "only showing top 200 rows\n",
      "\n"
     ]
    }
   ],
   "source": [
    "df.select(['userId','firstname','sessionId','ts','page','level','downgraded','pre_downgraded_events','cancelled',\n",
    "    'pre_cancelled_events']). \\\n",
    "    where((df.userId=='11') & (df.page!='NextSong')).sort('ts', ascending=False).show(200)"
   ]
  },
  {
   "cell_type": "code",
   "execution_count": 41,
   "metadata": {
    "scrolled": true
   },
   "outputs": [
    {
     "name": "stdout",
     "output_type": "stream",
     "text": [
      "+------+---------+---------+-------------+---------------+-----+----------+---------------------+---------+--------------------+---------+\n",
      "|userId|firstname|sessionId|           ts|           page|level|downgraded|pre_downgraded_events|cancelled|pre_cancelled_events|user_type|\n",
      "+------+---------+---------+-------------+---------------+-----+----------+---------------------+---------+--------------------+---------+\n",
      "|     7|   Maddox|     2119|1542955611000|      Thumbs Up| free|         0|                    0|        0|                   0|free only|\n",
      "|     7|   Maddox|     2119|1542955331000|           Home| free|         0|                    0|        0|                   0|free only|\n",
      "|     7|   Maddox|     1781|1542720620000|         Logout| free|         0|                    0|        0|                   0|free only|\n",
      "|     7|   Maddox|     1781|1542719728000|           Home| free|         0|                    0|        0|                   0|free only|\n",
      "|     7|   Maddox|     1781|1542719658000|         Logout| free|         0|                    0|        0|                   0|free only|\n",
      "|     7|   Maddox|     1781|1542719657000|    Roll Advert| free|         0|                    0|        0|                   0|free only|\n",
      "|     7|   Maddox|     1781|1542719132000|           Home| free|         0|                    0|        0|                   0|free only|\n",
      "|     7|   Maddox|     1781|1542718577000|           Home| free|         0|                    0|        0|                   0|free only|\n",
      "|     7|   Maddox|     1781|1542718564000|  Save Settings| free|         0|                    0|        0|                   0|free only|\n",
      "|     7|   Maddox|     1781|1542718563000|       Settings| free|         0|                    0|        0|                   0|free only|\n",
      "|     7|   Maddox|     1781|1542717735000|Add to Playlist| free|         0|                    0|        0|                   0|free only|\n",
      "|     7|   Maddox|     1215|1541782288000|    Roll Advert| free|         0|                    0|        0|                   0|free only|\n",
      "|     7|   Maddox|     1215|1541781820000|      Thumbs Up| free|         0|                    0|        0|                   0|free only|\n",
      "|     7|   Maddox|     1215|1541781517000|Add to Playlist| free|         0|                    0|        0|                   0|free only|\n",
      "|     7|   Maddox|     1215|1541780453000|      Thumbs Up| free|         0|                    0|        0|                   0|free only|\n",
      "|     7|   Maddox|     1215|1541777407000|    Roll Advert| free|         0|                    0|        0|                   0|free only|\n",
      "|     7|   Maddox|      998|1540361315000|    Roll Advert| free|         0|                    0|        0|                   0|free only|\n",
      "|     7|   Maddox|      998|1540361049000|      Thumbs Up| free|         0|                    0|        0|                   0|free only|\n",
      "|     7|   Maddox|      998|1540360857000|Add to Playlist| free|         0|                    0|        0|                   0|free only|\n",
      "|     7|   Maddox|      998|1540360707000|           Home| free|         0|                    0|        0|                   0|free only|\n",
      "|     7|   Maddox|      998|1540360506000|          Error| free|         0|                    0|        0|                   0|free only|\n",
      "|     7|   Maddox|      998|1540359286000|       Settings| free|         0|                    0|        0|                   0|free only|\n",
      "|     7|   Maddox|      998|1540358190000|       Settings| free|         0|                    0|        0|                   0|free only|\n",
      "|     7|   Maddox|      998|1540357458000|           Home| free|         0|                    0|        0|                   0|free only|\n",
      "|     7|   Maddox|      998|1540356468000|    Roll Advert| free|         0|                    0|        0|                   0|free only|\n",
      "|     7|   Maddox|      998|1540353379000|    Roll Advert| free|         0|                    0|        0|                   0|free only|\n",
      "|     7|   Maddox|      998|1540351929000|    Roll Advert| free|         0|                    0|        0|                   0|free only|\n",
      "|     7|   Maddox|      998|1540351190000|      Thumbs Up| free|         0|                    0|        0|                   0|free only|\n",
      "|     7|   Maddox|      998|1540350247000|    Roll Advert| free|         0|                    0|        0|                   0|free only|\n",
      "|     7|   Maddox|      998|1540349745000|    Roll Advert| free|         0|                    0|        0|                   0|free only|\n",
      "|     7|   Maddox|      998|1540349388000|    Roll Advert| free|         0|                    0|        0|                   0|free only|\n",
      "|     7|   Maddox|      998|1540348893000|    Roll Advert| free|         0|                    0|        0|                   0|free only|\n",
      "|     7|   Maddox|      998|1540347809000|      Thumbs Up| free|         0|                    0|        0|                   0|free only|\n",
      "|     7|   Maddox|      998|1540345661000|Add to Playlist| free|         0|                    0|        0|                   0|free only|\n",
      "|     7|   Maddox|      998|1540345118000|Add to Playlist| free|         0|                    0|        0|                   0|free only|\n",
      "|     7|   Maddox|      998|1540343586000|    Roll Advert| free|         0|                    0|        0|                   0|free only|\n",
      "|     7|   Maddox|      998|1540342749000|           Home| free|         0|                    0|        0|                   0|free only|\n",
      "|     7|   Maddox|      863|1539821036000|      Thumbs Up| free|         0|                    0|        0|                   0|free only|\n",
      "|     7|   Maddox|      863|1539820470000|    Roll Advert| free|         0|                    0|        0|                   0|free only|\n",
      "|     7|   Maddox|      863|1539819618000|    Roll Advert| free|         0|                    0|        0|                   0|free only|\n",
      "|     7|   Maddox|      863|1539819429000|        Upgrade| free|         0|                    0|        0|                   0|free only|\n",
      "|     7|   Maddox|      863|1539819121000|           Help| free|         0|                    0|        0|                   0|free only|\n",
      "|     7|   Maddox|      863|1539817371000|           Home| free|         0|                    0|        0|                   0|free only|\n",
      "|     7|   Maddox|      863|1539817190000|           Home| free|         0|                    0|        0|                   0|free only|\n",
      "|     7|   Maddox|      394|1538731159000|         Logout| free|         0|                    0|        0|                   0|free only|\n",
      "|     7|   Maddox|      394|1538730915000|           Home| free|         0|                    0|        0|                   0|free only|\n",
      "|     7|   Maddox|      245|1538571424000|    Thumbs Down| free|         0|                    0|        0|                   0|free only|\n",
      "|     7|   Maddox|      245|1538570933000|     Add Friend| free|         0|                    0|        0|                   0|free only|\n",
      "|     7|   Maddox|      245|1538570791000|    Roll Advert| free|         0|                    0|        0|                   0|free only|\n",
      "|     7|   Maddox|      245|1538570506000|        Upgrade| free|         0|                    0|        0|                   0|free only|\n",
      "|     7|   Maddox|      245|1538568243000|    Roll Advert| free|         0|                    0|        0|                   0|free only|\n",
      "+------+---------+---------+-------------+---------------+-----+----------+---------------------+---------+--------------------+---------+\n",
      "\n"
     ]
    }
   ],
   "source": [
    "df.select(['userId','firstname','sessionId','ts','page','level','downgraded','pre_downgraded_events','cancelled',\n",
    "    'pre_cancelled_events','user_type']). \\\n",
    "    where((df.userId=='7') & (df.page!='NextSong')).sort('ts', ascending=False).show(200)"
   ]
  },
  {
   "cell_type": "markdown",
   "metadata": {},
   "source": [
    "Summarizing Data. Grouping the downgraded users' \"pre downgrade\" visits per user to see if there are any patterns in behaviour at the summary level."
   ]
  },
  {
   "cell_type": "code",
   "execution_count": 42,
   "metadata": {},
   "outputs": [],
   "source": [
    "#df.filter(df.user_type.isin(['free_only'])).head()"
   ]
  },
  {
   "cell_type": "code",
   "execution_count": 43,
   "metadata": {},
   "outputs": [],
   "source": [
    "#New summary dataframe per user \n",
    "user_summary = df.filter(((df.user_type=='downgraded') & (df.pre_downgraded_events=='1')) | \n",
    "                        ((df.user_type=='cancelled') & (df.pre_cancelled_events=='1')) | \n",
    "                        (df.user_type.isin(['free only','paying']))). \\\n",
    "    groupBy(\"userId\",\"user_type\", \"reg_date\"). \\\n",
    "    agg(max(\"date\").alias(\"max_date\"), \\\n",
    "         min(\"date\").alias(\"min_date\"), \\\n",
    "         countDistinct(\"sessionId\").alias(\"cnt_sessionId\"), \\\n",
    "         count(\"itemInSession\").alias(\"cnt_itemInSession\") \\\n",
    "     )#truncate=False)"
   ]
  },
  {
   "cell_type": "code",
   "execution_count": 44,
   "metadata": {},
   "outputs": [],
   "source": [
    "#summarize the page visit data per user\n",
    "user_pivot = df.filter(((df.user_type=='downgraded') & (df.pre_downgraded_events=='1')) | \n",
    "                        ((df.user_type=='cancelled') & (df.pre_cancelled_events=='1')) | \n",
    "                        (df.user_type.isin(['free only','paying']))). \\\n",
    "    groupBy(\"userId\") \\\n",
    "    .pivot(\"page\") \\\n",
    "    .count()"
   ]
  },
  {
   "cell_type": "code",
   "execution_count": 45,
   "metadata": {},
   "outputs": [],
   "source": [
    "#join the 2 together on userId\n",
    "user_summary = user_summary.join(user_pivot, on=['userId'], how='inner')"
   ]
  },
  {
   "cell_type": "markdown",
   "metadata": {},
   "source": [
    "Add new column to summary to calculate the length of membership to the sparkify before downgrading"
   ]
  },
  {
   "cell_type": "code",
   "execution_count": 46,
   "metadata": {},
   "outputs": [],
   "source": [
    "#udfs to calculate the difference in days between the 1st user record and the last one before cancelled, or downgrade\n",
    "date_diff = udf(lambda x,y: x - y)\n",
    "delta_days = udf(lambda x: x.days)"
   ]
  },
  {
   "cell_type": "code",
   "execution_count": 47,
   "metadata": {},
   "outputs": [],
   "source": [
    "#Add new column to summary to calculate the length of membership to the sparkify before downgrading\n",
    "col_diff = date_diff(user_summary.max_date, user_summary.min_date)\n",
    "user_summary = user_summary.withColumn('days_membership', delta_days(col_diff).cast(IntegerType()))"
   ]
  },
  {
   "cell_type": "code",
   "execution_count": 48,
   "metadata": {},
   "outputs": [],
   "source": [
    "#user_summary = user_summary.withColumn('days_membership_int', user_summary.days_membership.cast('integer'))"
   ]
  },
  {
   "cell_type": "code",
   "execution_count": 49,
   "metadata": {},
   "outputs": [],
   "source": [
    "#user_summary.describe()"
   ]
  },
  {
   "cell_type": "code",
   "execution_count": 50,
   "metadata": {},
   "outputs": [
    {
     "data": {
      "text/plain": [
       "Row(userId='7', user_type='free only', reg_date=datetime.date(2018, 9, 11), max_date=datetime.date(2018, 11, 23), min_date=datetime.date(2018, 10, 3), cnt_sessionId=7, cnt_itemInSession=201, About=None, Add Friend=1, Add to Playlist=5, Cancel=None, Cancellation Confirmation=None, Downgrade=None, Error=1, Help=1, Home=10, Logout=3, NextSong=150, Roll Advert=16, Save Settings=1, Settings=3, Submit Downgrade=None, Submit Upgrade=None, Thumbs Down=1, Thumbs Up=7, Upgrade=2, days_membership=51)"
      ]
     },
     "execution_count": 50,
     "metadata": {},
     "output_type": "execute_result"
    }
   ],
   "source": [
    "user_summary.filter(user_summary.userId=='7').head()"
   ]
  },
  {
   "cell_type": "code",
   "execution_count": 51,
   "metadata": {
    "scrolled": true
   },
   "outputs": [],
   "source": [
    "#user_summary.select('days_membership').dropDuplicates().show()"
   ]
  },
  {
   "cell_type": "markdown",
   "metadata": {},
   "source": [
    "Convert to dataframe so that I can view graphs"
   ]
  },
  {
   "cell_type": "code",
   "execution_count": 52,
   "metadata": {},
   "outputs": [
    {
     "data": {
      "text/html": [
       "<div>\n",
       "<style scoped>\n",
       "    .dataframe tbody tr th:only-of-type {\n",
       "        vertical-align: middle;\n",
       "    }\n",
       "\n",
       "    .dataframe tbody tr th {\n",
       "        vertical-align: top;\n",
       "    }\n",
       "\n",
       "    .dataframe thead th {\n",
       "        text-align: right;\n",
       "    }\n",
       "</style>\n",
       "<table border=\"1\" class=\"dataframe\">\n",
       "  <thead>\n",
       "    <tr style=\"text-align: right;\">\n",
       "      <th></th>\n",
       "      <th>userId</th>\n",
       "      <th>user_type</th>\n",
       "      <th>reg_date</th>\n",
       "      <th>max_date</th>\n",
       "      <th>min_date</th>\n",
       "      <th>cnt_sessionId</th>\n",
       "      <th>cnt_itemInSession</th>\n",
       "      <th>About</th>\n",
       "      <th>Add Friend</th>\n",
       "      <th>Add to Playlist</th>\n",
       "      <th>...</th>\n",
       "      <th>NextSong</th>\n",
       "      <th>Roll Advert</th>\n",
       "      <th>Save Settings</th>\n",
       "      <th>Settings</th>\n",
       "      <th>Submit Downgrade</th>\n",
       "      <th>Submit Upgrade</th>\n",
       "      <th>Thumbs Down</th>\n",
       "      <th>Thumbs Up</th>\n",
       "      <th>Upgrade</th>\n",
       "      <th>days_membership</th>\n",
       "    </tr>\n",
       "  </thead>\n",
       "  <tbody>\n",
       "    <tr>\n",
       "      <th>0</th>\n",
       "      <td>100010</td>\n",
       "      <td>free only</td>\n",
       "      <td>2018-09-27</td>\n",
       "      <td>2018-11-21</td>\n",
       "      <td>2018-10-08</td>\n",
       "      <td>7</td>\n",
       "      <td>381</td>\n",
       "      <td>1.0</td>\n",
       "      <td>4.0</td>\n",
       "      <td>7.0</td>\n",
       "      <td>...</td>\n",
       "      <td>275</td>\n",
       "      <td>52.0</td>\n",
       "      <td>NaN</td>\n",
       "      <td>NaN</td>\n",
       "      <td>NaN</td>\n",
       "      <td>NaN</td>\n",
       "      <td>5.0</td>\n",
       "      <td>17.0</td>\n",
       "      <td>2.0</td>\n",
       "      <td>44</td>\n",
       "    </tr>\n",
       "    <tr>\n",
       "      <th>1</th>\n",
       "      <td>200002</td>\n",
       "      <td>paying</td>\n",
       "      <td>2018-09-06</td>\n",
       "      <td>2018-11-15</td>\n",
       "      <td>2018-10-01</td>\n",
       "      <td>6</td>\n",
       "      <td>474</td>\n",
       "      <td>3.0</td>\n",
       "      <td>4.0</td>\n",
       "      <td>8.0</td>\n",
       "      <td>...</td>\n",
       "      <td>387</td>\n",
       "      <td>7.0</td>\n",
       "      <td>NaN</td>\n",
       "      <td>3.0</td>\n",
       "      <td>NaN</td>\n",
       "      <td>1.0</td>\n",
       "      <td>6.0</td>\n",
       "      <td>21.0</td>\n",
       "      <td>2.0</td>\n",
       "      <td>45</td>\n",
       "    </tr>\n",
       "    <tr>\n",
       "      <th>2</th>\n",
       "      <td>125</td>\n",
       "      <td>cancelled</td>\n",
       "      <td>2018-08-01</td>\n",
       "      <td>2018-10-12</td>\n",
       "      <td>2018-10-12</td>\n",
       "      <td>1</td>\n",
       "      <td>11</td>\n",
       "      <td>NaN</td>\n",
       "      <td>NaN</td>\n",
       "      <td>NaN</td>\n",
       "      <td>...</td>\n",
       "      <td>8</td>\n",
       "      <td>1.0</td>\n",
       "      <td>NaN</td>\n",
       "      <td>NaN</td>\n",
       "      <td>NaN</td>\n",
       "      <td>NaN</td>\n",
       "      <td>NaN</td>\n",
       "      <td>NaN</td>\n",
       "      <td>NaN</td>\n",
       "      <td>0</td>\n",
       "    </tr>\n",
       "    <tr>\n",
       "      <th>3</th>\n",
       "      <td>124</td>\n",
       "      <td>paying</td>\n",
       "      <td>2018-07-22</td>\n",
       "      <td>2018-11-30</td>\n",
       "      <td>2018-10-01</td>\n",
       "      <td>29</td>\n",
       "      <td>4825</td>\n",
       "      <td>7.0</td>\n",
       "      <td>74.0</td>\n",
       "      <td>118.0</td>\n",
       "      <td>...</td>\n",
       "      <td>4079</td>\n",
       "      <td>4.0</td>\n",
       "      <td>6.0</td>\n",
       "      <td>20.0</td>\n",
       "      <td>NaN</td>\n",
       "      <td>NaN</td>\n",
       "      <td>41.0</td>\n",
       "      <td>171.0</td>\n",
       "      <td>NaN</td>\n",
       "      <td>60</td>\n",
       "    </tr>\n",
       "    <tr>\n",
       "      <th>4</th>\n",
       "      <td>51</td>\n",
       "      <td>cancelled</td>\n",
       "      <td>2018-09-27</td>\n",
       "      <td>2018-10-17</td>\n",
       "      <td>2018-10-01</td>\n",
       "      <td>10</td>\n",
       "      <td>2464</td>\n",
       "      <td>2.0</td>\n",
       "      <td>28.0</td>\n",
       "      <td>52.0</td>\n",
       "      <td>...</td>\n",
       "      <td>2111</td>\n",
       "      <td>NaN</td>\n",
       "      <td>1.0</td>\n",
       "      <td>12.0</td>\n",
       "      <td>NaN</td>\n",
       "      <td>NaN</td>\n",
       "      <td>21.0</td>\n",
       "      <td>100.0</td>\n",
       "      <td>NaN</td>\n",
       "      <td>16</td>\n",
       "    </tr>\n",
       "  </tbody>\n",
       "</table>\n",
       "<p>5 rows × 27 columns</p>\n",
       "</div>"
      ],
      "text/plain": [
       "   userId  user_type    reg_date    max_date    min_date  cnt_sessionId  \\\n",
       "0  100010  free only  2018-09-27  2018-11-21  2018-10-08              7   \n",
       "1  200002     paying  2018-09-06  2018-11-15  2018-10-01              6   \n",
       "2     125  cancelled  2018-08-01  2018-10-12  2018-10-12              1   \n",
       "3     124     paying  2018-07-22  2018-11-30  2018-10-01             29   \n",
       "4      51  cancelled  2018-09-27  2018-10-17  2018-10-01             10   \n",
       "\n",
       "   cnt_itemInSession  About  Add Friend  Add to Playlist       ...         \\\n",
       "0                381    1.0         4.0              7.0       ...          \n",
       "1                474    3.0         4.0              8.0       ...          \n",
       "2                 11    NaN         NaN              NaN       ...          \n",
       "3               4825    7.0        74.0            118.0       ...          \n",
       "4               2464    2.0        28.0             52.0       ...          \n",
       "\n",
       "   NextSong  Roll Advert  Save Settings  Settings  Submit Downgrade  \\\n",
       "0       275         52.0            NaN       NaN               NaN   \n",
       "1       387          7.0            NaN       3.0               NaN   \n",
       "2         8          1.0            NaN       NaN               NaN   \n",
       "3      4079          4.0            6.0      20.0               NaN   \n",
       "4      2111          NaN            1.0      12.0               NaN   \n",
       "\n",
       "   Submit Upgrade  Thumbs Down  Thumbs Up  Upgrade  days_membership  \n",
       "0             NaN          5.0       17.0      2.0               44  \n",
       "1             1.0          6.0       21.0      2.0               45  \n",
       "2             NaN          NaN        NaN      NaN                0  \n",
       "3             NaN         41.0      171.0      NaN               60  \n",
       "4             NaN         21.0      100.0      NaN               16  \n",
       "\n",
       "[5 rows x 27 columns]"
      ]
     },
     "execution_count": 52,
     "metadata": {},
     "output_type": "execute_result"
    }
   ],
   "source": [
    "#shrink 1st before feeding into graph\n",
    "user_summary_pd = user_summary.toPandas()\n",
    "user_summary_pd.head()"
   ]
  },
  {
   "cell_type": "code",
   "execution_count": 53,
   "metadata": {},
   "outputs": [
    {
     "data": {
      "text/plain": [
       "(225, 27)"
      ]
     },
     "execution_count": 53,
     "metadata": {},
     "output_type": "execute_result"
    }
   ],
   "source": [
    "user_summary_pd.shape"
   ]
  },
  {
   "cell_type": "code",
   "execution_count": 54,
   "metadata": {},
   "outputs": [
    {
     "data": {
      "text/html": [
       "<div>\n",
       "<style scoped>\n",
       "    .dataframe tbody tr th:only-of-type {\n",
       "        vertical-align: middle;\n",
       "    }\n",
       "\n",
       "    .dataframe tbody tr th {\n",
       "        vertical-align: top;\n",
       "    }\n",
       "\n",
       "    .dataframe thead th {\n",
       "        text-align: right;\n",
       "    }\n",
       "</style>\n",
       "<table border=\"1\" class=\"dataframe\">\n",
       "  <thead>\n",
       "    <tr style=\"text-align: right;\">\n",
       "      <th></th>\n",
       "      <th>userId</th>\n",
       "      <th>user_type</th>\n",
       "      <th>reg_date</th>\n",
       "      <th>max_date</th>\n",
       "      <th>min_date</th>\n",
       "      <th>cnt_sessionId</th>\n",
       "      <th>cnt_itemInSession</th>\n",
       "      <th>About</th>\n",
       "      <th>Add Friend</th>\n",
       "      <th>Add to Playlist</th>\n",
       "      <th>...</th>\n",
       "      <th>NextSong</th>\n",
       "      <th>Roll Advert</th>\n",
       "      <th>Save Settings</th>\n",
       "      <th>Settings</th>\n",
       "      <th>Submit Downgrade</th>\n",
       "      <th>Submit Upgrade</th>\n",
       "      <th>Thumbs Down</th>\n",
       "      <th>Thumbs Up</th>\n",
       "      <th>Upgrade</th>\n",
       "      <th>days_membership</th>\n",
       "    </tr>\n",
       "  </thead>\n",
       "  <tbody>\n",
       "    <tr>\n",
       "      <th>0</th>\n",
       "      <td>100010</td>\n",
       "      <td>free only</td>\n",
       "      <td>2018-09-27</td>\n",
       "      <td>2018-11-21</td>\n",
       "      <td>2018-10-08</td>\n",
       "      <td>0.159091</td>\n",
       "      <td>8.659091</td>\n",
       "      <td>0.022727</td>\n",
       "      <td>0.090909</td>\n",
       "      <td>0.159091</td>\n",
       "      <td>...</td>\n",
       "      <td>6.250000</td>\n",
       "      <td>1.181818</td>\n",
       "      <td>NaN</td>\n",
       "      <td>NaN</td>\n",
       "      <td>NaN</td>\n",
       "      <td>NaN</td>\n",
       "      <td>0.113636</td>\n",
       "      <td>0.386364</td>\n",
       "      <td>0.045455</td>\n",
       "      <td>1.0</td>\n",
       "    </tr>\n",
       "    <tr>\n",
       "      <th>1</th>\n",
       "      <td>200002</td>\n",
       "      <td>paying</td>\n",
       "      <td>2018-09-06</td>\n",
       "      <td>2018-11-15</td>\n",
       "      <td>2018-10-01</td>\n",
       "      <td>0.133333</td>\n",
       "      <td>10.533333</td>\n",
       "      <td>0.066667</td>\n",
       "      <td>0.088889</td>\n",
       "      <td>0.177778</td>\n",
       "      <td>...</td>\n",
       "      <td>8.600000</td>\n",
       "      <td>0.155556</td>\n",
       "      <td>NaN</td>\n",
       "      <td>0.066667</td>\n",
       "      <td>NaN</td>\n",
       "      <td>0.022222</td>\n",
       "      <td>0.133333</td>\n",
       "      <td>0.466667</td>\n",
       "      <td>0.044444</td>\n",
       "      <td>1.0</td>\n",
       "    </tr>\n",
       "    <tr>\n",
       "      <th>2</th>\n",
       "      <td>125</td>\n",
       "      <td>cancelled</td>\n",
       "      <td>2018-08-01</td>\n",
       "      <td>2018-10-12</td>\n",
       "      <td>2018-10-12</td>\n",
       "      <td>inf</td>\n",
       "      <td>inf</td>\n",
       "      <td>NaN</td>\n",
       "      <td>NaN</td>\n",
       "      <td>NaN</td>\n",
       "      <td>...</td>\n",
       "      <td>inf</td>\n",
       "      <td>inf</td>\n",
       "      <td>NaN</td>\n",
       "      <td>NaN</td>\n",
       "      <td>NaN</td>\n",
       "      <td>NaN</td>\n",
       "      <td>NaN</td>\n",
       "      <td>NaN</td>\n",
       "      <td>NaN</td>\n",
       "      <td>NaN</td>\n",
       "    </tr>\n",
       "    <tr>\n",
       "      <th>3</th>\n",
       "      <td>124</td>\n",
       "      <td>paying</td>\n",
       "      <td>2018-07-22</td>\n",
       "      <td>2018-11-30</td>\n",
       "      <td>2018-10-01</td>\n",
       "      <td>0.483333</td>\n",
       "      <td>80.416667</td>\n",
       "      <td>0.116667</td>\n",
       "      <td>1.233333</td>\n",
       "      <td>1.966667</td>\n",
       "      <td>...</td>\n",
       "      <td>67.983333</td>\n",
       "      <td>0.066667</td>\n",
       "      <td>0.1000</td>\n",
       "      <td>0.333333</td>\n",
       "      <td>NaN</td>\n",
       "      <td>NaN</td>\n",
       "      <td>0.683333</td>\n",
       "      <td>2.850000</td>\n",
       "      <td>NaN</td>\n",
       "      <td>1.0</td>\n",
       "    </tr>\n",
       "    <tr>\n",
       "      <th>4</th>\n",
       "      <td>51</td>\n",
       "      <td>cancelled</td>\n",
       "      <td>2018-09-27</td>\n",
       "      <td>2018-10-17</td>\n",
       "      <td>2018-10-01</td>\n",
       "      <td>0.625000</td>\n",
       "      <td>154.000000</td>\n",
       "      <td>0.125000</td>\n",
       "      <td>1.750000</td>\n",
       "      <td>3.250000</td>\n",
       "      <td>...</td>\n",
       "      <td>131.937500</td>\n",
       "      <td>NaN</td>\n",
       "      <td>0.0625</td>\n",
       "      <td>0.750000</td>\n",
       "      <td>NaN</td>\n",
       "      <td>NaN</td>\n",
       "      <td>1.312500</td>\n",
       "      <td>6.250000</td>\n",
       "      <td>NaN</td>\n",
       "      <td>1.0</td>\n",
       "    </tr>\n",
       "  </tbody>\n",
       "</table>\n",
       "<p>5 rows × 27 columns</p>\n",
       "</div>"
      ],
      "text/plain": [
       "   userId  user_type    reg_date    max_date    min_date  cnt_sessionId  \\\n",
       "0  100010  free only  2018-09-27  2018-11-21  2018-10-08       0.159091   \n",
       "1  200002     paying  2018-09-06  2018-11-15  2018-10-01       0.133333   \n",
       "2     125  cancelled  2018-08-01  2018-10-12  2018-10-12            inf   \n",
       "3     124     paying  2018-07-22  2018-11-30  2018-10-01       0.483333   \n",
       "4      51  cancelled  2018-09-27  2018-10-17  2018-10-01       0.625000   \n",
       "\n",
       "   cnt_itemInSession     About  Add Friend  Add to Playlist       ...         \\\n",
       "0           8.659091  0.022727    0.090909         0.159091       ...          \n",
       "1          10.533333  0.066667    0.088889         0.177778       ...          \n",
       "2                inf       NaN         NaN              NaN       ...          \n",
       "3          80.416667  0.116667    1.233333         1.966667       ...          \n",
       "4         154.000000  0.125000    1.750000         3.250000       ...          \n",
       "\n",
       "     NextSong  Roll Advert  Save Settings  Settings  Submit Downgrade  \\\n",
       "0    6.250000     1.181818            NaN       NaN               NaN   \n",
       "1    8.600000     0.155556            NaN  0.066667               NaN   \n",
       "2         inf          inf            NaN       NaN               NaN   \n",
       "3   67.983333     0.066667         0.1000  0.333333               NaN   \n",
       "4  131.937500          NaN         0.0625  0.750000               NaN   \n",
       "\n",
       "   Submit Upgrade  Thumbs Down  Thumbs Up   Upgrade  days_membership  \n",
       "0             NaN     0.113636   0.386364  0.045455              1.0  \n",
       "1        0.022222     0.133333   0.466667  0.044444              1.0  \n",
       "2             NaN          NaN        NaN       NaN              NaN  \n",
       "3             NaN     0.683333   2.850000       NaN              1.0  \n",
       "4             NaN     1.312500   6.250000       NaN              1.0  \n",
       "\n",
       "[5 rows x 27 columns]"
      ]
     },
     "execution_count": 54,
     "metadata": {},
     "output_type": "execute_result"
    }
   ],
   "source": [
    "user_summary_pd_per_day = user_summary_pd.copy()\n",
    "user_summary_pd_per_day.iloc[:,5:] = user_summary_pd_per_day.iloc[:,5:].div(\n",
    "    user_summary_pd_per_day.days_membership, axis=0)\n",
    "user_summary_pd_per_day.head()"
   ]
  },
  {
   "cell_type": "code",
   "execution_count": 55,
   "metadata": {},
   "outputs": [
    {
     "data": {
      "text/html": [
       "<div>\n",
       "<style scoped>\n",
       "    .dataframe tbody tr th:only-of-type {\n",
       "        vertical-align: middle;\n",
       "    }\n",
       "\n",
       "    .dataframe tbody tr th {\n",
       "        vertical-align: top;\n",
       "    }\n",
       "\n",
       "    .dataframe thead th {\n",
       "        text-align: right;\n",
       "    }\n",
       "</style>\n",
       "<table border=\"1\" class=\"dataframe\">\n",
       "  <thead>\n",
       "    <tr style=\"text-align: right;\">\n",
       "      <th></th>\n",
       "      <th>userId</th>\n",
       "      <th>user_type</th>\n",
       "      <th>reg_date</th>\n",
       "      <th>max_date</th>\n",
       "      <th>min_date</th>\n",
       "      <th>cnt_sessionId</th>\n",
       "      <th>cnt_itemInSession</th>\n",
       "      <th>About</th>\n",
       "      <th>Add Friend</th>\n",
       "      <th>Add to Playlist</th>\n",
       "      <th>...</th>\n",
       "      <th>NextSong</th>\n",
       "      <th>Roll Advert</th>\n",
       "      <th>Save Settings</th>\n",
       "      <th>Settings</th>\n",
       "      <th>Submit Downgrade</th>\n",
       "      <th>Submit Upgrade</th>\n",
       "      <th>Thumbs Down</th>\n",
       "      <th>Thumbs Up</th>\n",
       "      <th>Upgrade</th>\n",
       "      <th>days_membership</th>\n",
       "    </tr>\n",
       "  </thead>\n",
       "  <tbody>\n",
       "    <tr>\n",
       "      <th>0</th>\n",
       "      <td>100010</td>\n",
       "      <td>free only</td>\n",
       "      <td>2018-09-27</td>\n",
       "      <td>2018-11-21</td>\n",
       "      <td>2018-10-08</td>\n",
       "      <td>1.0</td>\n",
       "      <td>54.428571</td>\n",
       "      <td>0.142857</td>\n",
       "      <td>0.571429</td>\n",
       "      <td>1.000000</td>\n",
       "      <td>...</td>\n",
       "      <td>39.285714</td>\n",
       "      <td>7.428571</td>\n",
       "      <td>NaN</td>\n",
       "      <td>NaN</td>\n",
       "      <td>NaN</td>\n",
       "      <td>NaN</td>\n",
       "      <td>0.714286</td>\n",
       "      <td>2.428571</td>\n",
       "      <td>0.285714</td>\n",
       "      <td>6.285714</td>\n",
       "    </tr>\n",
       "    <tr>\n",
       "      <th>1</th>\n",
       "      <td>200002</td>\n",
       "      <td>paying</td>\n",
       "      <td>2018-09-06</td>\n",
       "      <td>2018-11-15</td>\n",
       "      <td>2018-10-01</td>\n",
       "      <td>1.0</td>\n",
       "      <td>79.000000</td>\n",
       "      <td>0.500000</td>\n",
       "      <td>0.666667</td>\n",
       "      <td>1.333333</td>\n",
       "      <td>...</td>\n",
       "      <td>64.500000</td>\n",
       "      <td>1.166667</td>\n",
       "      <td>NaN</td>\n",
       "      <td>0.500000</td>\n",
       "      <td>NaN</td>\n",
       "      <td>0.166667</td>\n",
       "      <td>1.000000</td>\n",
       "      <td>3.500000</td>\n",
       "      <td>0.333333</td>\n",
       "      <td>7.500000</td>\n",
       "    </tr>\n",
       "    <tr>\n",
       "      <th>2</th>\n",
       "      <td>125</td>\n",
       "      <td>cancelled</td>\n",
       "      <td>2018-08-01</td>\n",
       "      <td>2018-10-12</td>\n",
       "      <td>2018-10-12</td>\n",
       "      <td>1.0</td>\n",
       "      <td>11.000000</td>\n",
       "      <td>NaN</td>\n",
       "      <td>NaN</td>\n",
       "      <td>NaN</td>\n",
       "      <td>...</td>\n",
       "      <td>8.000000</td>\n",
       "      <td>1.000000</td>\n",
       "      <td>NaN</td>\n",
       "      <td>NaN</td>\n",
       "      <td>NaN</td>\n",
       "      <td>NaN</td>\n",
       "      <td>NaN</td>\n",
       "      <td>NaN</td>\n",
       "      <td>NaN</td>\n",
       "      <td>0.000000</td>\n",
       "    </tr>\n",
       "    <tr>\n",
       "      <th>3</th>\n",
       "      <td>124</td>\n",
       "      <td>paying</td>\n",
       "      <td>2018-07-22</td>\n",
       "      <td>2018-11-30</td>\n",
       "      <td>2018-10-01</td>\n",
       "      <td>1.0</td>\n",
       "      <td>166.379310</td>\n",
       "      <td>0.241379</td>\n",
       "      <td>2.551724</td>\n",
       "      <td>4.068966</td>\n",
       "      <td>...</td>\n",
       "      <td>140.655172</td>\n",
       "      <td>0.137931</td>\n",
       "      <td>0.206897</td>\n",
       "      <td>0.689655</td>\n",
       "      <td>NaN</td>\n",
       "      <td>NaN</td>\n",
       "      <td>1.413793</td>\n",
       "      <td>5.896552</td>\n",
       "      <td>NaN</td>\n",
       "      <td>2.068966</td>\n",
       "    </tr>\n",
       "    <tr>\n",
       "      <th>4</th>\n",
       "      <td>51</td>\n",
       "      <td>cancelled</td>\n",
       "      <td>2018-09-27</td>\n",
       "      <td>2018-10-17</td>\n",
       "      <td>2018-10-01</td>\n",
       "      <td>1.0</td>\n",
       "      <td>246.400000</td>\n",
       "      <td>0.200000</td>\n",
       "      <td>2.800000</td>\n",
       "      <td>5.200000</td>\n",
       "      <td>...</td>\n",
       "      <td>211.100000</td>\n",
       "      <td>NaN</td>\n",
       "      <td>0.100000</td>\n",
       "      <td>1.200000</td>\n",
       "      <td>NaN</td>\n",
       "      <td>NaN</td>\n",
       "      <td>2.100000</td>\n",
       "      <td>10.000000</td>\n",
       "      <td>NaN</td>\n",
       "      <td>1.600000</td>\n",
       "    </tr>\n",
       "  </tbody>\n",
       "</table>\n",
       "<p>5 rows × 27 columns</p>\n",
       "</div>"
      ],
      "text/plain": [
       "   userId  user_type    reg_date    max_date    min_date  cnt_sessionId  \\\n",
       "0  100010  free only  2018-09-27  2018-11-21  2018-10-08            1.0   \n",
       "1  200002     paying  2018-09-06  2018-11-15  2018-10-01            1.0   \n",
       "2     125  cancelled  2018-08-01  2018-10-12  2018-10-12            1.0   \n",
       "3     124     paying  2018-07-22  2018-11-30  2018-10-01            1.0   \n",
       "4      51  cancelled  2018-09-27  2018-10-17  2018-10-01            1.0   \n",
       "\n",
       "   cnt_itemInSession     About  Add Friend  Add to Playlist       ...         \\\n",
       "0          54.428571  0.142857    0.571429         1.000000       ...          \n",
       "1          79.000000  0.500000    0.666667         1.333333       ...          \n",
       "2          11.000000       NaN         NaN              NaN       ...          \n",
       "3         166.379310  0.241379    2.551724         4.068966       ...          \n",
       "4         246.400000  0.200000    2.800000         5.200000       ...          \n",
       "\n",
       "     NextSong  Roll Advert  Save Settings  Settings  Submit Downgrade  \\\n",
       "0   39.285714     7.428571            NaN       NaN               NaN   \n",
       "1   64.500000     1.166667            NaN  0.500000               NaN   \n",
       "2    8.000000     1.000000            NaN       NaN               NaN   \n",
       "3  140.655172     0.137931       0.206897  0.689655               NaN   \n",
       "4  211.100000          NaN       0.100000  1.200000               NaN   \n",
       "\n",
       "   Submit Upgrade  Thumbs Down  Thumbs Up   Upgrade  days_membership  \n",
       "0             NaN     0.714286   2.428571  0.285714         6.285714  \n",
       "1        0.166667     1.000000   3.500000  0.333333         7.500000  \n",
       "2             NaN          NaN        NaN       NaN         0.000000  \n",
       "3             NaN     1.413793   5.896552       NaN         2.068966  \n",
       "4             NaN     2.100000  10.000000       NaN         1.600000  \n",
       "\n",
       "[5 rows x 27 columns]"
      ]
     },
     "execution_count": 55,
     "metadata": {},
     "output_type": "execute_result"
    }
   ],
   "source": [
    "user_summary_pd_per_session = user_summary_pd.copy()\n",
    "user_summary_pd_per_session.iloc[:,5:] = user_summary_pd_per_session.iloc[:,5:].div(\n",
    "    user_summary_pd_per_session.cnt_sessionId, axis=0)\n",
    "user_summary_pd_per_session.head()"
   ]
  },
  {
   "cell_type": "code",
   "execution_count": 56,
   "metadata": {},
   "outputs": [
    {
     "data": {
      "text/plain": [
       "(225, 27)"
      ]
     },
     "execution_count": 56,
     "metadata": {},
     "output_type": "execute_result"
    }
   ],
   "source": [
    "user_summary_pd_per_day.shape"
   ]
  },
  {
   "cell_type": "code",
   "execution_count": 57,
   "metadata": {},
   "outputs": [
    {
     "data": {
      "text/plain": [
       "(array([ 43.,   0.,   0.,  49.,   0.,   0.,  44.,   0.,   0.,  89.]),\n",
       " array([ 0. ,  0.3,  0.6,  0.9,  1.2,  1.5,  1.8,  2.1,  2.4,  2.7,  3. ]),\n",
       " <a list of 10 Patch objects>)"
      ]
     },
     "execution_count": 57,
     "metadata": {},
     "output_type": "execute_result"
    },
    {
     "data": {
      "image/png": "[encoded data removed]",
      "text/plain": [
       "<matplotlib.figure.Figure at 0x7f340d77ea90>"
      ]
     },
     "metadata": {
      "needs_background": "light"
     },
     "output_type": "display_data"
    }
   ],
   "source": [
    "plt.hist(user_summary_pd.user_type)"
   ]
  },
  {
   "cell_type": "code",
   "execution_count": 58,
   "metadata": {},
   "outputs": [
    {
     "data": {
      "image/png": "[encoded data removed]",
      "text/plain": [
       "<matplotlib.figure.Figure at 0x7f33db9194e0>"
      ]
     },
     "metadata": {},
     "output_type": "display_data"
    }
   ],
   "source": [
    "# cnt_sessionId\tcnt_itemInSession\tAbout\tAdd Friend\tAdd to Playlist\tCancel\tCancellation Confirmation\t\n",
    "# Downgrade\tError\tHelp\tNextSong\tRoll Advert\tSave Settings\tSettings\tSubmit Downgrade\tSubmit Upgrade\t\n",
    "# Thumbs Down\tThumbs Up\tUpgrade\tHome  Logout days_membership\n",
    "y= 'days_membership'\n",
    "with sns.axes_style(style='ticks'):\n",
    "    g=sns.factorplot(x='user_type',y = y,\n",
    "                     data=user_summary_pd_per_session, kind='box')\n",
    "    #g.set_axis_labels('user_type','days_membership')\n",
    "    plt.title('Average no of {}s per user type per session'.format(y)); "
   ]
  },
  {
   "cell_type": "code",
   "execution_count": 59,
   "metadata": {},
   "outputs": [
    {
     "data": {
      "image/png": "[encoded data removed]",
      "text/plain": [
       "<matplotlib.figure.Figure at 0x7f33d983fba8>"
      ]
     },
     "metadata": {},
     "output_type": "display_data"
    }
   ],
   "source": [
    "# cnt_sessionId\tcnt_itemInSession\tAbout\tAdd Friend\tAdd to Playlist\tCancel\tCancellation Confirmation\t\n",
    "# Downgrade\tError\tHelp\tNextSong\tRoll Advert\tSave Settings\tSettings\tSubmit Downgrade\tSubmit Upgrade\t\n",
    "# Thumbs Down\tThumbs Up\tUpgrade\tHome  Logout days_membership\n",
    "y= 'NextSong'\n",
    "with sns.axes_style(style='ticks'):\n",
    "    g=sns.factorplot(x='user_type',y = y,\n",
    "                     data=user_summary_pd_per_day, kind='box')\n",
    "    #g.set_axis_labels('user_type','days_membership')\n",
    "    plt.title('Average no of {}s per user type per day'.format(y)); "
   ]
  },
  {
   "cell_type": "code",
   "execution_count": 60,
   "metadata": {},
   "outputs": [
    {
     "data": {
      "image/png": "[encoded data removed]",
      "text/plain": [
       "<matplotlib.figure.Figure at 0x7f33d97f60b8>"
      ]
     },
     "metadata": {},
     "output_type": "display_data"
    }
   ],
   "source": [
    "\n",
    "with sns.axes_style(style='ticks'):\n",
    "    g=sns.factorplot(x='user_type', y = y,\n",
    "                     data=user_summary_pd, kind='box')\n",
    "    #g.set_axis_labels('user_type','days_membership')\n",
    "    plt.title('Total {} per user type'.format(y)); "
   ]
  },
  {
   "cell_type": "code",
   "execution_count": 61,
   "metadata": {},
   "outputs": [
    {
     "data": {
      "image/png": "[encoded data removed]",
      "text/plain": [
       "<matplotlib.figure.Figure at 0x7f33d9722940>"
      ]
     },
     "metadata": {},
     "output_type": "display_data"
    }
   ],
   "source": [
    "with sns.axes_style(style='ticks'):\n",
    "    g=sns.factorplot(x='user_type',y = 'cnt_itemInSession',\n",
    "                     data=user_summary_pd, kind='box')\n",
    "    #g.set_axis_labels('user_type','days_membership')\n",
    "    plt.title('Average {} per user type'.format('cnt_itemInSession')); "
   ]
  },
  {
   "cell_type": "code",
   "execution_count": 62,
   "metadata": {},
   "outputs": [
    {
     "data": {
      "text/plain": [
       "datetime.date(2018, 12, 3)"
      ]
     },
     "execution_count": 62,
     "metadata": {},
     "output_type": "execute_result"
    }
   ],
   "source": [
    "user_summary_pd.max_date.max()"
   ]
  },
  {
   "cell_type": "code",
   "execution_count": 63,
   "metadata": {},
   "outputs": [
    {
     "data": {
      "text/plain": [
       "datetime.date(2018, 10, 1)"
      ]
     },
     "execution_count": 63,
     "metadata": {},
     "output_type": "execute_result"
    }
   ],
   "source": [
    "user_summary_pd.max_date.min()"
   ]
  },
  {
   "cell_type": "code",
   "execution_count": 64,
   "metadata": {},
   "outputs": [
    {
     "data": {
      "text/plain": [
       "60"
      ]
     },
     "execution_count": 64,
     "metadata": {},
     "output_type": "execute_result"
    }
   ],
   "source": [
    "user_summary_pd.days_membership.max()"
   ]
  },
  {
   "cell_type": "code",
   "execution_count": 65,
   "metadata": {
    "scrolled": true
   },
   "outputs": [],
   "source": [
    "#user_summary_pd_per_day.dtypes\n",
    "pd.options.display.max_columns = user_summary_pd.shape[1]"
   ]
  },
  {
   "cell_type": "code",
   "execution_count": 66,
   "metadata": {
    "scrolled": true
   },
   "outputs": [
    {
     "data": {
      "text/html": [
       "<div>\n",
       "<style scoped>\n",
       "    .dataframe tbody tr th:only-of-type {\n",
       "        vertical-align: middle;\n",
       "    }\n",
       "\n",
       "    .dataframe tbody tr th {\n",
       "        vertical-align: top;\n",
       "    }\n",
       "\n",
       "    .dataframe thead th {\n",
       "        text-align: right;\n",
       "    }\n",
       "</style>\n",
       "<table border=\"1\" class=\"dataframe\">\n",
       "  <thead>\n",
       "    <tr style=\"text-align: right;\">\n",
       "      <th></th>\n",
       "      <th>cnt_sessionId</th>\n",
       "      <th>cnt_itemInSession</th>\n",
       "      <th>About</th>\n",
       "      <th>Add Friend</th>\n",
       "      <th>Add to Playlist</th>\n",
       "      <th>Cancel</th>\n",
       "      <th>Cancellation Confirmation</th>\n",
       "      <th>Downgrade</th>\n",
       "      <th>Error</th>\n",
       "      <th>Help</th>\n",
       "      <th>Home</th>\n",
       "      <th>Logout</th>\n",
       "      <th>NextSong</th>\n",
       "      <th>Roll Advert</th>\n",
       "      <th>Save Settings</th>\n",
       "      <th>Settings</th>\n",
       "      <th>Submit Downgrade</th>\n",
       "      <th>Submit Upgrade</th>\n",
       "      <th>Thumbs Down</th>\n",
       "      <th>Thumbs Up</th>\n",
       "      <th>Upgrade</th>\n",
       "      <th>days_membership</th>\n",
       "    </tr>\n",
       "  </thead>\n",
       "  <tbody>\n",
       "    <tr>\n",
       "      <th>count</th>\n",
       "      <td>89.000000</td>\n",
       "      <td>89.000000</td>\n",
       "      <td>77.000000</td>\n",
       "      <td>89.000000</td>\n",
       "      <td>88.000000</td>\n",
       "      <td>0.0</td>\n",
       "      <td>0.0</td>\n",
       "      <td>79.000000</td>\n",
       "      <td>56.000000</td>\n",
       "      <td>83.000000</td>\n",
       "      <td>89.000000</td>\n",
       "      <td>89.000000</td>\n",
       "      <td>89.000000</td>\n",
       "      <td>74.000000</td>\n",
       "      <td>57.000000</td>\n",
       "      <td>83.000000</td>\n",
       "      <td>0.0</td>\n",
       "      <td>65.0</td>\n",
       "      <td>85.000000</td>\n",
       "      <td>89.000000</td>\n",
       "      <td>65.000000</td>\n",
       "      <td>89.000000</td>\n",
       "    </tr>\n",
       "    <tr>\n",
       "      <th>mean</th>\n",
       "      <td>13.977528</td>\n",
       "      <td>1434.932584</td>\n",
       "      <td>3.051948</td>\n",
       "      <td>22.494382</td>\n",
       "      <td>34.431818</td>\n",
       "      <td>NaN</td>\n",
       "      <td>NaN</td>\n",
       "      <td>12.531646</td>\n",
       "      <td>2.250000</td>\n",
       "      <td>8.108434</td>\n",
       "      <td>50.348315</td>\n",
       "      <td>15.573034</td>\n",
       "      <td>1190.303371</td>\n",
       "      <td>12.121622</td>\n",
       "      <td>2.578947</td>\n",
       "      <td>8.433735</td>\n",
       "      <td>NaN</td>\n",
       "      <td>1.0</td>\n",
       "      <td>12.317647</td>\n",
       "      <td>65.831461</td>\n",
       "      <td>2.061538</td>\n",
       "      <td>48.280899</td>\n",
       "    </tr>\n",
       "    <tr>\n",
       "      <th>std</th>\n",
       "      <td>10.039669</td>\n",
       "      <td>1015.141882</td>\n",
       "      <td>2.025470</td>\n",
       "      <td>15.251769</td>\n",
       "      <td>25.237172</td>\n",
       "      <td>NaN</td>\n",
       "      <td>NaN</td>\n",
       "      <td>9.600795</td>\n",
       "      <td>1.365151</td>\n",
       "      <td>5.723320</td>\n",
       "      <td>36.721031</td>\n",
       "      <td>11.557060</td>\n",
       "      <td>853.043487</td>\n",
       "      <td>11.443671</td>\n",
       "      <td>1.668483</td>\n",
       "      <td>5.953463</td>\n",
       "      <td>NaN</td>\n",
       "      <td>0.0</td>\n",
       "      <td>10.465603</td>\n",
       "      <td>48.522075</td>\n",
       "      <td>1.273245</td>\n",
       "      <td>13.679770</td>\n",
       "    </tr>\n",
       "    <tr>\n",
       "      <th>min</th>\n",
       "      <td>1.000000</td>\n",
       "      <td>76.000000</td>\n",
       "      <td>1.000000</td>\n",
       "      <td>1.000000</td>\n",
       "      <td>2.000000</td>\n",
       "      <td>NaN</td>\n",
       "      <td>NaN</td>\n",
       "      <td>1.000000</td>\n",
       "      <td>1.000000</td>\n",
       "      <td>1.000000</td>\n",
       "      <td>2.000000</td>\n",
       "      <td>1.000000</td>\n",
       "      <td>65.000000</td>\n",
       "      <td>1.000000</td>\n",
       "      <td>1.000000</td>\n",
       "      <td>1.000000</td>\n",
       "      <td>NaN</td>\n",
       "      <td>1.0</td>\n",
       "      <td>1.000000</td>\n",
       "      <td>2.000000</td>\n",
       "      <td>1.000000</td>\n",
       "      <td>0.000000</td>\n",
       "    </tr>\n",
       "    <tr>\n",
       "      <th>25%</th>\n",
       "      <td>7.000000</td>\n",
       "      <td>651.000000</td>\n",
       "      <td>1.000000</td>\n",
       "      <td>11.000000</td>\n",
       "      <td>12.000000</td>\n",
       "      <td>NaN</td>\n",
       "      <td>NaN</td>\n",
       "      <td>5.000000</td>\n",
       "      <td>1.000000</td>\n",
       "      <td>4.000000</td>\n",
       "      <td>22.000000</td>\n",
       "      <td>6.000000</td>\n",
       "      <td>505.000000</td>\n",
       "      <td>3.000000</td>\n",
       "      <td>1.000000</td>\n",
       "      <td>3.500000</td>\n",
       "      <td>NaN</td>\n",
       "      <td>1.0</td>\n",
       "      <td>5.000000</td>\n",
       "      <td>28.000000</td>\n",
       "      <td>1.000000</td>\n",
       "      <td>44.000000</td>\n",
       "    </tr>\n",
       "    <tr>\n",
       "      <th>50%</th>\n",
       "      <td>12.000000</td>\n",
       "      <td>1322.000000</td>\n",
       "      <td>3.000000</td>\n",
       "      <td>20.000000</td>\n",
       "      <td>32.500000</td>\n",
       "      <td>NaN</td>\n",
       "      <td>NaN</td>\n",
       "      <td>10.000000</td>\n",
       "      <td>2.000000</td>\n",
       "      <td>7.000000</td>\n",
       "      <td>43.000000</td>\n",
       "      <td>13.000000</td>\n",
       "      <td>1086.000000</td>\n",
       "      <td>9.500000</td>\n",
       "      <td>2.000000</td>\n",
       "      <td>8.000000</td>\n",
       "      <td>NaN</td>\n",
       "      <td>1.0</td>\n",
       "      <td>10.000000</td>\n",
       "      <td>56.000000</td>\n",
       "      <td>2.000000</td>\n",
       "      <td>54.000000</td>\n",
       "    </tr>\n",
       "    <tr>\n",
       "      <th>75%</th>\n",
       "      <td>18.000000</td>\n",
       "      <td>2067.000000</td>\n",
       "      <td>4.000000</td>\n",
       "      <td>32.000000</td>\n",
       "      <td>50.500000</td>\n",
       "      <td>NaN</td>\n",
       "      <td>NaN</td>\n",
       "      <td>19.500000</td>\n",
       "      <td>3.000000</td>\n",
       "      <td>10.000000</td>\n",
       "      <td>71.000000</td>\n",
       "      <td>21.000000</td>\n",
       "      <td>1728.000000</td>\n",
       "      <td>18.500000</td>\n",
       "      <td>3.000000</td>\n",
       "      <td>12.000000</td>\n",
       "      <td>NaN</td>\n",
       "      <td>1.0</td>\n",
       "      <td>17.000000</td>\n",
       "      <td>87.000000</td>\n",
       "      <td>3.000000</td>\n",
       "      <td>57.000000</td>\n",
       "    </tr>\n",
       "    <tr>\n",
       "      <th>max</th>\n",
       "      <td>63.000000</td>\n",
       "      <td>4825.000000</td>\n",
       "      <td>9.000000</td>\n",
       "      <td>74.000000</td>\n",
       "      <td>118.000000</td>\n",
       "      <td>NaN</td>\n",
       "      <td>NaN</td>\n",
       "      <td>41.000000</td>\n",
       "      <td>7.000000</td>\n",
       "      <td>27.000000</td>\n",
       "      <td>176.000000</td>\n",
       "      <td>59.000000</td>\n",
       "      <td>4079.000000</td>\n",
       "      <td>50.000000</td>\n",
       "      <td>7.000000</td>\n",
       "      <td>28.000000</td>\n",
       "      <td>NaN</td>\n",
       "      <td>1.0</td>\n",
       "      <td>54.000000</td>\n",
       "      <td>303.000000</td>\n",
       "      <td>7.000000</td>\n",
       "      <td>60.000000</td>\n",
       "    </tr>\n",
       "  </tbody>\n",
       "</table>\n",
       "</div>"
      ],
      "text/plain": [
       "       cnt_sessionId  cnt_itemInSession      About  Add Friend  \\\n",
       "count      89.000000          89.000000  77.000000   89.000000   \n",
       "mean       13.977528        1434.932584   3.051948   22.494382   \n",
       "std        10.039669        1015.141882   2.025470   15.251769   \n",
       "min         1.000000          76.000000   1.000000    1.000000   \n",
       "25%         7.000000         651.000000   1.000000   11.000000   \n",
       "50%        12.000000        1322.000000   3.000000   20.000000   \n",
       "75%        18.000000        2067.000000   4.000000   32.000000   \n",
       "max        63.000000        4825.000000   9.000000   74.000000   \n",
       "\n",
       "       Add to Playlist  Cancel  Cancellation Confirmation  Downgrade  \\\n",
       "count        88.000000     0.0                        0.0  79.000000   \n",
       "mean         34.431818     NaN                        NaN  12.531646   \n",
       "std          25.237172     NaN                        NaN   9.600795   \n",
       "min           2.000000     NaN                        NaN   1.000000   \n",
       "25%          12.000000     NaN                        NaN   5.000000   \n",
       "50%          32.500000     NaN                        NaN  10.000000   \n",
       "75%          50.500000     NaN                        NaN  19.500000   \n",
       "max         118.000000     NaN                        NaN  41.000000   \n",
       "\n",
       "           Error       Help        Home     Logout     NextSong  Roll Advert  \\\n",
       "count  56.000000  83.000000   89.000000  89.000000    89.000000    74.000000   \n",
       "mean    2.250000   8.108434   50.348315  15.573034  1190.303371    12.121622   \n",
       "std     1.365151   5.723320   36.721031  11.557060   853.043487    11.443671   \n",
       "min     1.000000   1.000000    2.000000   1.000000    65.000000     1.000000   \n",
       "25%     1.000000   4.000000   22.000000   6.000000   505.000000     3.000000   \n",
       "50%     2.000000   7.000000   43.000000  13.000000  1086.000000     9.500000   \n",
       "75%     3.000000  10.000000   71.000000  21.000000  1728.000000    18.500000   \n",
       "max     7.000000  27.000000  176.000000  59.000000  4079.000000    50.000000   \n",
       "\n",
       "       Save Settings   Settings  Submit Downgrade  Submit Upgrade  \\\n",
       "count      57.000000  83.000000               0.0            65.0   \n",
       "mean        2.578947   8.433735               NaN             1.0   \n",
       "std         1.668483   5.953463               NaN             0.0   \n",
       "min         1.000000   1.000000               NaN             1.0   \n",
       "25%         1.000000   3.500000               NaN             1.0   \n",
       "50%         2.000000   8.000000               NaN             1.0   \n",
       "75%         3.000000  12.000000               NaN             1.0   \n",
       "max         7.000000  28.000000               NaN             1.0   \n",
       "\n",
       "       Thumbs Down   Thumbs Up    Upgrade  days_membership  \n",
       "count    85.000000   89.000000  65.000000        89.000000  \n",
       "mean     12.317647   65.831461   2.061538        48.280899  \n",
       "std      10.465603   48.522075   1.273245        13.679770  \n",
       "min       1.000000    2.000000   1.000000         0.000000  \n",
       "25%       5.000000   28.000000   1.000000        44.000000  \n",
       "50%      10.000000   56.000000   2.000000        54.000000  \n",
       "75%      17.000000   87.000000   3.000000        57.000000  \n",
       "max      54.000000  303.000000   7.000000        60.000000  "
      ]
     },
     "execution_count": 66,
     "metadata": {},
     "output_type": "execute_result"
    }
   ],
   "source": [
    "user_summary_pd[user_summary_pd.user_type=='paying'].describe()"
   ]
  },
  {
   "cell_type": "code",
   "execution_count": 67,
   "metadata": {
    "scrolled": true
   },
   "outputs": [
    {
     "data": {
      "text/html": [
       "<div>\n",
       "<style scoped>\n",
       "    .dataframe tbody tr th:only-of-type {\n",
       "        vertical-align: middle;\n",
       "    }\n",
       "\n",
       "    .dataframe tbody tr th {\n",
       "        vertical-align: top;\n",
       "    }\n",
       "\n",
       "    .dataframe thead th {\n",
       "        text-align: right;\n",
       "    }\n",
       "</style>\n",
       "<table border=\"1\" class=\"dataframe\">\n",
       "  <thead>\n",
       "    <tr style=\"text-align: right;\">\n",
       "      <th></th>\n",
       "      <th>cnt_sessionId</th>\n",
       "      <th>cnt_itemInSession</th>\n",
       "      <th>About</th>\n",
       "      <th>Add Friend</th>\n",
       "      <th>Add to Playlist</th>\n",
       "      <th>Cancel</th>\n",
       "      <th>Cancellation Confirmation</th>\n",
       "      <th>Downgrade</th>\n",
       "      <th>Error</th>\n",
       "      <th>Help</th>\n",
       "      <th>Home</th>\n",
       "      <th>Logout</th>\n",
       "      <th>NextSong</th>\n",
       "      <th>Roll Advert</th>\n",
       "      <th>Save Settings</th>\n",
       "      <th>Settings</th>\n",
       "      <th>Submit Downgrade</th>\n",
       "      <th>Submit Upgrade</th>\n",
       "      <th>Thumbs Down</th>\n",
       "      <th>Thumbs Up</th>\n",
       "      <th>Upgrade</th>\n",
       "      <th>days_membership</th>\n",
       "    </tr>\n",
       "  </thead>\n",
       "  <tbody>\n",
       "    <tr>\n",
       "      <th>count</th>\n",
       "      <td>49.000000</td>\n",
       "      <td>49.000000</td>\n",
       "      <td>29.000000</td>\n",
       "      <td>44.000000</td>\n",
       "      <td>47.000000</td>\n",
       "      <td>0.0</td>\n",
       "      <td>0.0</td>\n",
       "      <td>49.000000</td>\n",
       "      <td>24.000000</td>\n",
       "      <td>44.000000</td>\n",
       "      <td>48.000000</td>\n",
       "      <td>45.000000</td>\n",
       "      <td>49.000000</td>\n",
       "      <td>38.000000</td>\n",
       "      <td>21.000000</td>\n",
       "      <td>46.000000</td>\n",
       "      <td>49.0</td>\n",
       "      <td>32.0</td>\n",
       "      <td>44.000000</td>\n",
       "      <td>48.000000</td>\n",
       "      <td>32.000000</td>\n",
       "      <td>49.000000</td>\n",
       "    </tr>\n",
       "    <tr>\n",
       "      <th>mean</th>\n",
       "      <td>11.591837</td>\n",
       "      <td>973.367347</td>\n",
       "      <td>3.655172</td>\n",
       "      <td>15.818182</td>\n",
       "      <td>24.361702</td>\n",
       "      <td>NaN</td>\n",
       "      <td>NaN</td>\n",
       "      <td>9.061224</td>\n",
       "      <td>1.833333</td>\n",
       "      <td>5.909091</td>\n",
       "      <td>34.645833</td>\n",
       "      <td>11.133333</td>\n",
       "      <td>800.755102</td>\n",
       "      <td>12.315789</td>\n",
       "      <td>1.952381</td>\n",
       "      <td>5.108696</td>\n",
       "      <td>1.0</td>\n",
       "      <td>1.0</td>\n",
       "      <td>11.068182</td>\n",
       "      <td>46.208333</td>\n",
       "      <td>2.156250</td>\n",
       "      <td>23.734694</td>\n",
       "    </tr>\n",
       "    <tr>\n",
       "      <th>std</th>\n",
       "      <td>12.846722</td>\n",
       "      <td>1124.503792</td>\n",
       "      <td>4.600278</td>\n",
       "      <td>18.209725</td>\n",
       "      <td>30.103752</td>\n",
       "      <td>NaN</td>\n",
       "      <td>NaN</td>\n",
       "      <td>10.699315</td>\n",
       "      <td>1.049500</td>\n",
       "      <td>6.386097</td>\n",
       "      <td>37.688810</td>\n",
       "      <td>11.207952</td>\n",
       "      <td>929.911880</td>\n",
       "      <td>11.601736</td>\n",
       "      <td>1.430950</td>\n",
       "      <td>6.219068</td>\n",
       "      <td>0.0</td>\n",
       "      <td>0.0</td>\n",
       "      <td>12.568691</td>\n",
       "      <td>62.859505</td>\n",
       "      <td>1.247174</td>\n",
       "      <td>15.342989</td>\n",
       "    </tr>\n",
       "    <tr>\n",
       "      <th>min</th>\n",
       "      <td>1.000000</td>\n",
       "      <td>26.000000</td>\n",
       "      <td>1.000000</td>\n",
       "      <td>1.000000</td>\n",
       "      <td>1.000000</td>\n",
       "      <td>NaN</td>\n",
       "      <td>NaN</td>\n",
       "      <td>1.000000</td>\n",
       "      <td>1.000000</td>\n",
       "      <td>1.000000</td>\n",
       "      <td>2.000000</td>\n",
       "      <td>1.000000</td>\n",
       "      <td>23.000000</td>\n",
       "      <td>1.000000</td>\n",
       "      <td>1.000000</td>\n",
       "      <td>1.000000</td>\n",
       "      <td>1.0</td>\n",
       "      <td>1.0</td>\n",
       "      <td>1.000000</td>\n",
       "      <td>1.000000</td>\n",
       "      <td>1.000000</td>\n",
       "      <td>0.000000</td>\n",
       "    </tr>\n",
       "    <tr>\n",
       "      <th>25%</th>\n",
       "      <td>5.000000</td>\n",
       "      <td>317.000000</td>\n",
       "      <td>1.000000</td>\n",
       "      <td>4.000000</td>\n",
       "      <td>7.000000</td>\n",
       "      <td>NaN</td>\n",
       "      <td>NaN</td>\n",
       "      <td>4.000000</td>\n",
       "      <td>1.000000</td>\n",
       "      <td>2.000000</td>\n",
       "      <td>14.250000</td>\n",
       "      <td>4.000000</td>\n",
       "      <td>262.000000</td>\n",
       "      <td>3.250000</td>\n",
       "      <td>1.000000</td>\n",
       "      <td>2.000000</td>\n",
       "      <td>1.0</td>\n",
       "      <td>1.0</td>\n",
       "      <td>2.750000</td>\n",
       "      <td>13.500000</td>\n",
       "      <td>1.000000</td>\n",
       "      <td>12.000000</td>\n",
       "    </tr>\n",
       "    <tr>\n",
       "      <th>50%</th>\n",
       "      <td>8.000000</td>\n",
       "      <td>726.000000</td>\n",
       "      <td>2.000000</td>\n",
       "      <td>12.000000</td>\n",
       "      <td>16.000000</td>\n",
       "      <td>NaN</td>\n",
       "      <td>NaN</td>\n",
       "      <td>6.000000</td>\n",
       "      <td>1.000000</td>\n",
       "      <td>4.000000</td>\n",
       "      <td>27.000000</td>\n",
       "      <td>9.000000</td>\n",
       "      <td>598.000000</td>\n",
       "      <td>9.500000</td>\n",
       "      <td>1.000000</td>\n",
       "      <td>3.000000</td>\n",
       "      <td>1.0</td>\n",
       "      <td>1.0</td>\n",
       "      <td>7.000000</td>\n",
       "      <td>26.500000</td>\n",
       "      <td>2.000000</td>\n",
       "      <td>21.000000</td>\n",
       "    </tr>\n",
       "    <tr>\n",
       "      <th>75%</th>\n",
       "      <td>13.000000</td>\n",
       "      <td>1283.000000</td>\n",
       "      <td>4.000000</td>\n",
       "      <td>21.250000</td>\n",
       "      <td>31.500000</td>\n",
       "      <td>NaN</td>\n",
       "      <td>NaN</td>\n",
       "      <td>11.000000</td>\n",
       "      <td>3.000000</td>\n",
       "      <td>7.250000</td>\n",
       "      <td>41.250000</td>\n",
       "      <td>14.000000</td>\n",
       "      <td>1060.000000</td>\n",
       "      <td>15.750000</td>\n",
       "      <td>3.000000</td>\n",
       "      <td>6.000000</td>\n",
       "      <td>1.0</td>\n",
       "      <td>1.0</td>\n",
       "      <td>16.000000</td>\n",
       "      <td>56.000000</td>\n",
       "      <td>3.000000</td>\n",
       "      <td>36.000000</td>\n",
       "    </tr>\n",
       "    <tr>\n",
       "      <th>max</th>\n",
       "      <td>67.000000</td>\n",
       "      <td>6582.000000</td>\n",
       "      <td>20.000000</td>\n",
       "      <td>97.000000</td>\n",
       "      <td>172.000000</td>\n",
       "      <td>NaN</td>\n",
       "      <td>NaN</td>\n",
       "      <td>68.000000</td>\n",
       "      <td>4.000000</td>\n",
       "      <td>34.000000</td>\n",
       "      <td>222.000000</td>\n",
       "      <td>66.000000</td>\n",
       "      <td>5474.000000</td>\n",
       "      <td>46.000000</td>\n",
       "      <td>6.000000</td>\n",
       "      <td>38.000000</td>\n",
       "      <td>1.0</td>\n",
       "      <td>1.0</td>\n",
       "      <td>69.000000</td>\n",
       "      <td>333.000000</td>\n",
       "      <td>6.000000</td>\n",
       "      <td>56.000000</td>\n",
       "    </tr>\n",
       "  </tbody>\n",
       "</table>\n",
       "</div>"
      ],
      "text/plain": [
       "       cnt_sessionId  cnt_itemInSession      About  Add Friend  \\\n",
       "count      49.000000          49.000000  29.000000   44.000000   \n",
       "mean       11.591837         973.367347   3.655172   15.818182   \n",
       "std        12.846722        1124.503792   4.600278   18.209725   \n",
       "min         1.000000          26.000000   1.000000    1.000000   \n",
       "25%         5.000000         317.000000   1.000000    4.000000   \n",
       "50%         8.000000         726.000000   2.000000   12.000000   \n",
       "75%        13.000000        1283.000000   4.000000   21.250000   \n",
       "max        67.000000        6582.000000  20.000000   97.000000   \n",
       "\n",
       "       Add to Playlist  Cancel  Cancellation Confirmation  Downgrade  \\\n",
       "count        47.000000     0.0                        0.0  49.000000   \n",
       "mean         24.361702     NaN                        NaN   9.061224   \n",
       "std          30.103752     NaN                        NaN  10.699315   \n",
       "min           1.000000     NaN                        NaN   1.000000   \n",
       "25%           7.000000     NaN                        NaN   4.000000   \n",
       "50%          16.000000     NaN                        NaN   6.000000   \n",
       "75%          31.500000     NaN                        NaN  11.000000   \n",
       "max         172.000000     NaN                        NaN  68.000000   \n",
       "\n",
       "           Error       Help        Home     Logout     NextSong  Roll Advert  \\\n",
       "count  24.000000  44.000000   48.000000  45.000000    49.000000    38.000000   \n",
       "mean    1.833333   5.909091   34.645833  11.133333   800.755102    12.315789   \n",
       "std     1.049500   6.386097   37.688810  11.207952   929.911880    11.601736   \n",
       "min     1.000000   1.000000    2.000000   1.000000    23.000000     1.000000   \n",
       "25%     1.000000   2.000000   14.250000   4.000000   262.000000     3.250000   \n",
       "50%     1.000000   4.000000   27.000000   9.000000   598.000000     9.500000   \n",
       "75%     3.000000   7.250000   41.250000  14.000000  1060.000000    15.750000   \n",
       "max     4.000000  34.000000  222.000000  66.000000  5474.000000    46.000000   \n",
       "\n",
       "       Save Settings   Settings  Submit Downgrade  Submit Upgrade  \\\n",
       "count      21.000000  46.000000              49.0            32.0   \n",
       "mean        1.952381   5.108696               1.0             1.0   \n",
       "std         1.430950   6.219068               0.0             0.0   \n",
       "min         1.000000   1.000000               1.0             1.0   \n",
       "25%         1.000000   2.000000               1.0             1.0   \n",
       "50%         1.000000   3.000000               1.0             1.0   \n",
       "75%         3.000000   6.000000               1.0             1.0   \n",
       "max         6.000000  38.000000               1.0             1.0   \n",
       "\n",
       "       Thumbs Down   Thumbs Up    Upgrade  days_membership  \n",
       "count    44.000000   48.000000  32.000000        49.000000  \n",
       "mean     11.068182   46.208333   2.156250        23.734694  \n",
       "std      12.568691   62.859505   1.247174        15.342989  \n",
       "min       1.000000    1.000000   1.000000         0.000000  \n",
       "25%       2.750000   13.500000   1.000000        12.000000  \n",
       "50%       7.000000   26.500000   2.000000        21.000000  \n",
       "75%      16.000000   56.000000   3.000000        36.000000  \n",
       "max      69.000000  333.000000   6.000000        56.000000  "
      ]
     },
     "execution_count": 67,
     "metadata": {},
     "output_type": "execute_result"
    }
   ],
   "source": [
    "user_summary_pd[user_summary_pd.user_type=='downgraded'].describe()"
   ]
  },
  {
   "cell_type": "code",
   "execution_count": 68,
   "metadata": {
    "scrolled": true
   },
   "outputs": [
    {
     "data": {
      "text/html": [
       "<div>\n",
       "<style scoped>\n",
       "    .dataframe tbody tr th:only-of-type {\n",
       "        vertical-align: middle;\n",
       "    }\n",
       "\n",
       "    .dataframe tbody tr th {\n",
       "        vertical-align: top;\n",
       "    }\n",
       "\n",
       "    .dataframe thead th {\n",
       "        text-align: right;\n",
       "    }\n",
       "</style>\n",
       "<table border=\"1\" class=\"dataframe\">\n",
       "  <thead>\n",
       "    <tr style=\"text-align: right;\">\n",
       "      <th></th>\n",
       "      <th>cnt_sessionId</th>\n",
       "      <th>cnt_itemInSession</th>\n",
       "      <th>About</th>\n",
       "      <th>Add Friend</th>\n",
       "      <th>Add to Playlist</th>\n",
       "      <th>Cancel</th>\n",
       "      <th>Cancellation Confirmation</th>\n",
       "      <th>Downgrade</th>\n",
       "      <th>Error</th>\n",
       "      <th>Help</th>\n",
       "      <th>Home</th>\n",
       "      <th>Logout</th>\n",
       "      <th>NextSong</th>\n",
       "      <th>Roll Advert</th>\n",
       "      <th>Save Settings</th>\n",
       "      <th>Settings</th>\n",
       "      <th>Submit Downgrade</th>\n",
       "      <th>Submit Upgrade</th>\n",
       "      <th>Thumbs Down</th>\n",
       "      <th>Thumbs Up</th>\n",
       "      <th>Upgrade</th>\n",
       "      <th>days_membership</th>\n",
       "    </tr>\n",
       "  </thead>\n",
       "  <tbody>\n",
       "    <tr>\n",
       "      <th>count</th>\n",
       "      <td>43.000000</td>\n",
       "      <td>43.000000</td>\n",
       "      <td>22.000000</td>\n",
       "      <td>35.000000</td>\n",
       "      <td>41.000000</td>\n",
       "      <td>43.0</td>\n",
       "      <td>43.0</td>\n",
       "      <td>26.000000</td>\n",
       "      <td>17.000000</td>\n",
       "      <td>34.000000</td>\n",
       "      <td>42.000000</td>\n",
       "      <td>37.000000</td>\n",
       "      <td>43.000000</td>\n",
       "      <td>41.000000</td>\n",
       "      <td>22.000000</td>\n",
       "      <td>35.000000</td>\n",
       "      <td>0.0</td>\n",
       "      <td>21.0</td>\n",
       "      <td>39.000000</td>\n",
       "      <td>41.000000</td>\n",
       "      <td>28.000000</td>\n",
       "      <td>43.000000</td>\n",
       "    </tr>\n",
       "    <tr>\n",
       "      <th>mean</th>\n",
       "      <td>9.232558</td>\n",
       "      <td>785.186047</td>\n",
       "      <td>1.681818</td>\n",
       "      <td>14.742857</td>\n",
       "      <td>19.512195</td>\n",
       "      <td>1.0</td>\n",
       "      <td>1.0</td>\n",
       "      <td>9.423077</td>\n",
       "      <td>1.529412</td>\n",
       "      <td>5.205882</td>\n",
       "      <td>29.166667</td>\n",
       "      <td>11.108108</td>\n",
       "      <td>639.767442</td>\n",
       "      <td>14.878049</td>\n",
       "      <td>2.000000</td>\n",
       "      <td>5.942857</td>\n",
       "      <td>NaN</td>\n",
       "      <td>1.0</td>\n",
       "      <td>9.153846</td>\n",
       "      <td>34.463415</td>\n",
       "      <td>2.750000</td>\n",
       "      <td>21.372093</td>\n",
       "    </tr>\n",
       "    <tr>\n",
       "      <th>std</th>\n",
       "      <td>7.450910</td>\n",
       "      <td>835.461214</td>\n",
       "      <td>0.838727</td>\n",
       "      <td>10.995568</td>\n",
       "      <td>21.476874</td>\n",
       "      <td>0.0</td>\n",
       "      <td>0.0</td>\n",
       "      <td>7.398233</td>\n",
       "      <td>0.717430</td>\n",
       "      <td>5.580156</td>\n",
       "      <td>27.628120</td>\n",
       "      <td>9.039370</td>\n",
       "      <td>703.504555</td>\n",
       "      <td>19.961457</td>\n",
       "      <td>1.023533</td>\n",
       "      <td>4.582209</td>\n",
       "      <td>NaN</td>\n",
       "      <td>0.0</td>\n",
       "      <td>8.180653</td>\n",
       "      <td>38.766672</td>\n",
       "      <td>1.818119</td>\n",
       "      <td>16.877744</td>\n",
       "    </tr>\n",
       "    <tr>\n",
       "      <th>min</th>\n",
       "      <td>1.000000</td>\n",
       "      <td>11.000000</td>\n",
       "      <td>1.000000</td>\n",
       "      <td>1.000000</td>\n",
       "      <td>1.000000</td>\n",
       "      <td>1.0</td>\n",
       "      <td>1.0</td>\n",
       "      <td>1.000000</td>\n",
       "      <td>1.000000</td>\n",
       "      <td>1.000000</td>\n",
       "      <td>1.000000</td>\n",
       "      <td>1.000000</td>\n",
       "      <td>8.000000</td>\n",
       "      <td>1.000000</td>\n",
       "      <td>1.000000</td>\n",
       "      <td>1.000000</td>\n",
       "      <td>NaN</td>\n",
       "      <td>1.0</td>\n",
       "      <td>1.000000</td>\n",
       "      <td>1.000000</td>\n",
       "      <td>1.000000</td>\n",
       "      <td>0.000000</td>\n",
       "    </tr>\n",
       "    <tr>\n",
       "      <th>25%</th>\n",
       "      <td>4.000000</td>\n",
       "      <td>153.500000</td>\n",
       "      <td>1.000000</td>\n",
       "      <td>6.000000</td>\n",
       "      <td>3.000000</td>\n",
       "      <td>1.0</td>\n",
       "      <td>1.0</td>\n",
       "      <td>3.000000</td>\n",
       "      <td>1.000000</td>\n",
       "      <td>1.000000</td>\n",
       "      <td>8.500000</td>\n",
       "      <td>4.000000</td>\n",
       "      <td>113.000000</td>\n",
       "      <td>3.000000</td>\n",
       "      <td>1.000000</td>\n",
       "      <td>2.500000</td>\n",
       "      <td>NaN</td>\n",
       "      <td>1.0</td>\n",
       "      <td>2.000000</td>\n",
       "      <td>8.000000</td>\n",
       "      <td>1.000000</td>\n",
       "      <td>7.500000</td>\n",
       "    </tr>\n",
       "    <tr>\n",
       "      <th>50%</th>\n",
       "      <td>7.000000</td>\n",
       "      <td>478.000000</td>\n",
       "      <td>1.500000</td>\n",
       "      <td>12.000000</td>\n",
       "      <td>11.000000</td>\n",
       "      <td>1.0</td>\n",
       "      <td>1.0</td>\n",
       "      <td>8.500000</td>\n",
       "      <td>1.000000</td>\n",
       "      <td>3.000000</td>\n",
       "      <td>18.500000</td>\n",
       "      <td>7.000000</td>\n",
       "      <td>377.000000</td>\n",
       "      <td>9.000000</td>\n",
       "      <td>2.000000</td>\n",
       "      <td>5.000000</td>\n",
       "      <td>NaN</td>\n",
       "      <td>1.0</td>\n",
       "      <td>6.000000</td>\n",
       "      <td>19.000000</td>\n",
       "      <td>2.000000</td>\n",
       "      <td>18.000000</td>\n",
       "    </tr>\n",
       "    <tr>\n",
       "      <th>75%</th>\n",
       "      <td>12.000000</td>\n",
       "      <td>1056.000000</td>\n",
       "      <td>2.000000</td>\n",
       "      <td>22.500000</td>\n",
       "      <td>30.000000</td>\n",
       "      <td>1.0</td>\n",
       "      <td>1.0</td>\n",
       "      <td>13.000000</td>\n",
       "      <td>2.000000</td>\n",
       "      <td>7.750000</td>\n",
       "      <td>49.500000</td>\n",
       "      <td>18.000000</td>\n",
       "      <td>883.000000</td>\n",
       "      <td>22.000000</td>\n",
       "      <td>3.000000</td>\n",
       "      <td>8.000000</td>\n",
       "      <td>NaN</td>\n",
       "      <td>1.0</td>\n",
       "      <td>15.500000</td>\n",
       "      <td>45.000000</td>\n",
       "      <td>4.000000</td>\n",
       "      <td>35.500000</td>\n",
       "    </tr>\n",
       "    <tr>\n",
       "      <th>max</th>\n",
       "      <td>34.000000</td>\n",
       "      <td>3603.000000</td>\n",
       "      <td>4.000000</td>\n",
       "      <td>47.000000</td>\n",
       "      <td>89.000000</td>\n",
       "      <td>1.0</td>\n",
       "      <td>1.0</td>\n",
       "      <td>26.000000</td>\n",
       "      <td>3.000000</td>\n",
       "      <td>28.000000</td>\n",
       "      <td>121.000000</td>\n",
       "      <td>41.000000</td>\n",
       "      <td>3028.000000</td>\n",
       "      <td>115.000000</td>\n",
       "      <td>4.000000</td>\n",
       "      <td>19.000000</td>\n",
       "      <td>NaN</td>\n",
       "      <td>1.0</td>\n",
       "      <td>35.000000</td>\n",
       "      <td>154.000000</td>\n",
       "      <td>7.000000</td>\n",
       "      <td>58.000000</td>\n",
       "    </tr>\n",
       "  </tbody>\n",
       "</table>\n",
       "</div>"
      ],
      "text/plain": [
       "       cnt_sessionId  cnt_itemInSession      About  Add Friend  \\\n",
       "count      43.000000          43.000000  22.000000   35.000000   \n",
       "mean        9.232558         785.186047   1.681818   14.742857   \n",
       "std         7.450910         835.461214   0.838727   10.995568   \n",
       "min         1.000000          11.000000   1.000000    1.000000   \n",
       "25%         4.000000         153.500000   1.000000    6.000000   \n",
       "50%         7.000000         478.000000   1.500000   12.000000   \n",
       "75%        12.000000        1056.000000   2.000000   22.500000   \n",
       "max        34.000000        3603.000000   4.000000   47.000000   \n",
       "\n",
       "       Add to Playlist  Cancel  Cancellation Confirmation  Downgrade  \\\n",
       "count        41.000000    43.0                       43.0  26.000000   \n",
       "mean         19.512195     1.0                        1.0   9.423077   \n",
       "std          21.476874     0.0                        0.0   7.398233   \n",
       "min           1.000000     1.0                        1.0   1.000000   \n",
       "25%           3.000000     1.0                        1.0   3.000000   \n",
       "50%          11.000000     1.0                        1.0   8.500000   \n",
       "75%          30.000000     1.0                        1.0  13.000000   \n",
       "max          89.000000     1.0                        1.0  26.000000   \n",
       "\n",
       "           Error       Help        Home     Logout     NextSong  Roll Advert  \\\n",
       "count  17.000000  34.000000   42.000000  37.000000    43.000000    41.000000   \n",
       "mean    1.529412   5.205882   29.166667  11.108108   639.767442    14.878049   \n",
       "std     0.717430   5.580156   27.628120   9.039370   703.504555    19.961457   \n",
       "min     1.000000   1.000000    1.000000   1.000000     8.000000     1.000000   \n",
       "25%     1.000000   1.000000    8.500000   4.000000   113.000000     3.000000   \n",
       "50%     1.000000   3.000000   18.500000   7.000000   377.000000     9.000000   \n",
       "75%     2.000000   7.750000   49.500000  18.000000   883.000000    22.000000   \n",
       "max     3.000000  28.000000  121.000000  41.000000  3028.000000   115.000000   \n",
       "\n",
       "       Save Settings   Settings  Submit Downgrade  Submit Upgrade  \\\n",
       "count      22.000000  35.000000               0.0            21.0   \n",
       "mean        2.000000   5.942857               NaN             1.0   \n",
       "std         1.023533   4.582209               NaN             0.0   \n",
       "min         1.000000   1.000000               NaN             1.0   \n",
       "25%         1.000000   2.500000               NaN             1.0   \n",
       "50%         2.000000   5.000000               NaN             1.0   \n",
       "75%         3.000000   8.000000               NaN             1.0   \n",
       "max         4.000000  19.000000               NaN             1.0   \n",
       "\n",
       "       Thumbs Down   Thumbs Up    Upgrade  days_membership  \n",
       "count    39.000000   41.000000  28.000000        43.000000  \n",
       "mean      9.153846   34.463415   2.750000        21.372093  \n",
       "std       8.180653   38.766672   1.818119        16.877744  \n",
       "min       1.000000    1.000000   1.000000         0.000000  \n",
       "25%       2.000000    8.000000   1.000000         7.500000  \n",
       "50%       6.000000   19.000000   2.000000        18.000000  \n",
       "75%      15.500000   45.000000   4.000000        35.500000  \n",
       "max      35.000000  154.000000   7.000000        58.000000  "
      ]
     },
     "execution_count": 68,
     "metadata": {},
     "output_type": "execute_result"
    }
   ],
   "source": [
    "user_summary_pd[user_summary_pd.user_type=='cancelled'].describe()"
   ]
  },
  {
   "cell_type": "code",
   "execution_count": 69,
   "metadata": {},
   "outputs": [
    {
     "data": {
      "text/plain": [
       "[Row(userId='125', user_type='cancelled', reg_date=datetime.date(2018, 8, 1), max_date=datetime.date(2018, 10, 12), min_date=datetime.date(2018, 10, 12), cnt_sessionId=1, cnt_itemInSession=11, About=None, Add Friend=None, Add to Playlist=None, Cancel=1, Cancellation Confirmation=1, Downgrade=None, Error=None, Help=None, Home=None, Logout=None, NextSong=8, Roll Advert=1, Save Settings=None, Settings=None, Submit Downgrade=None, Submit Upgrade=None, Thumbs Down=None, Thumbs Up=None, Upgrade=None, days_membership=0),\n",
       " Row(userId='51', user_type='cancelled', reg_date=datetime.date(2018, 9, 27), max_date=datetime.date(2018, 10, 17), min_date=datetime.date(2018, 10, 1), cnt_sessionId=10, cnt_itemInSession=2464, About=2, Add Friend=28, Add to Playlist=52, Cancel=1, Cancellation Confirmation=1, Downgrade=23, Error=1, Help=12, Home=75, Logout=24, NextSong=2111, Roll Advert=None, Save Settings=1, Settings=12, Submit Downgrade=None, Submit Upgrade=None, Thumbs Down=21, Thumbs Up=100, Upgrade=None, days_membership=16),\n",
       " Row(userId='100014', user_type='cancelled', reg_date=datetime.date(2018, 8, 27), max_date=datetime.date(2018, 11, 20), min_date=datetime.date(2018, 10, 10), cnt_sessionId=6, cnt_itemInSession=310, About=None, Add Friend=6, Add to Playlist=7, Cancel=1, Cancellation Confirmation=1, Downgrade=3, Error=None, Help=2, Home=7, Logout=3, NextSong=257, Roll Advert=2, Save Settings=None, Settings=1, Submit Downgrade=None, Submit Upgrade=None, Thumbs Down=3, Thumbs Up=17, Upgrade=None, days_membership=41),\n",
       " Row(userId='101', user_type='cancelled', reg_date=datetime.date(2018, 8, 23), max_date=datetime.date(2018, 10, 16), min_date=datetime.date(2018, 10, 1), cnt_sessionId=10, cnt_itemInSession=2149, About=2, Add Friend=29, Add to Playlist=61, Cancel=1, Cancellation Confirmation=1, Downgrade=22, Error=3, Help=12, Home=74, Logout=24, NextSong=1797, Roll Advert=8, Save Settings=2, Settings=9, Submit Downgrade=None, Submit Upgrade=1, Thumbs Down=16, Thumbs Up=86, Upgrade=1, days_membership=15),\n",
       " Row(userId='100021', user_type='cancelled', reg_date=datetime.date(2018, 9, 21), max_date=datetime.date(2018, 11, 25), min_date=datetime.date(2018, 10, 11), cnt_sessionId=5, cnt_itemInSession=319, About=1, Add Friend=7, Add to Playlist=7, Cancel=1, Cancellation Confirmation=1, Downgrade=None, Error=2, Help=None, Home=15, Logout=7, NextSong=230, Roll Advert=30, Save Settings=None, Settings=None, Submit Downgrade=None, Submit Upgrade=None, Thumbs Down=5, Thumbs Up=11, Upgrade=2, days_membership=45)]"
      ]
     },
     "execution_count": 69,
     "metadata": {},
     "output_type": "execute_result"
    }
   ],
   "source": [
    "user_summary.filter(user_summary.user_type=='cancelled').take(5)"
   ]
  },
  {
   "cell_type": "code",
   "execution_count": null,
   "metadata": {},
   "outputs": [],
   "source": [
    "user_summary.filter(user_summary.userId=='15').head()"
   ]
  },
  {
   "cell_type": "code",
   "execution_count": null,
   "metadata": {},
   "outputs": [],
   "source": [
    "#df.filter((df.userId=='30')).count()"
   ]
  },
  {
   "cell_type": "code",
   "execution_count": null,
   "metadata": {},
   "outputs": [],
   "source": [
    "#df.filter((df.userId=='30')&(df.page=='NextSong')).count()"
   ]
  },
  {
   "cell_type": "code",
   "execution_count": null,
   "metadata": {},
   "outputs": [],
   "source": [
    "#df.select('sessionId').filter((df.userId=='30')).dropDuplicates().count()"
   ]
  },
  {
   "cell_type": "markdown",
   "metadata": {},
   "source": [
    "Producing the original dataframe with the maxdate per user as a new column"
   ]
  },
  {
   "cell_type": "code",
   "execution_count": null,
   "metadata": {},
   "outputs": [],
   "source": [
    "df2 = df.filter(((df.user_type=='downgraded') & (df.pre_downgraded_events=='1')) | \n",
    "                        ((df.user_type=='cancelled') & (df.pre_cancelled_events=='1')) | \n",
    "                        (df.user_type.isin(['free only','paying']))).join(\n",
    "    user_summary.select('userId','max_date'), on=['userId'], how='inner')\n",
    "#df3 = df2.filter(((df.user_type=='downgraded') & (df.pre_downgraded_events=='1')) | \n",
    "#                        ((df.user_type=='cancelled') & (df.pre_cancelled_events=='1')) | \n",
    "#                        (df.user_type.isin(['free only','paying'])))"
   ]
  },
  {
   "cell_type": "code",
   "execution_count": null,
   "metadata": {},
   "outputs": [],
   "source": [
    "col_diff = date_diff(df2.max_date, df2.date)\n",
    "df2 = df2.withColumn('backward_days', delta_days(col_diff).cast(IntegerType()))"
   ]
  },
  {
   "cell_type": "code",
   "execution_count": null,
   "metadata": {},
   "outputs": [],
   "source": [
    "df3_summary = df2.groupBy(\"userId\",\"user_type\",'backward_days'). \\\n",
    "    agg(countDistinct(\"sessionId\").alias(\"cnt_sessionId\"), \\\n",
    "         count(\"itemInSession\").alias(\"cnt_itemInSession\") \\\n",
    "     )\n",
    "user_pivot = df2. \\\n",
    "    groupBy(\"userId\",'backward_days') \\\n",
    "    .pivot(\"page\") \\\n",
    "    .count()\n",
    "df3_summary = df3_summary.join(user_pivot, on=['userId','backward_days'], how='inner')"
   ]
  },
  {
   "cell_type": "code",
   "execution_count": 77,
   "metadata": {},
   "outputs": [
    {
     "data": {
      "text/html": [
       "<div>\n",
       "<style scoped>\n",
       "    .dataframe tbody tr th:only-of-type {\n",
       "        vertical-align: middle;\n",
       "    }\n",
       "\n",
       "    .dataframe tbody tr th {\n",
       "        vertical-align: top;\n",
       "    }\n",
       "\n",
       "    .dataframe thead th {\n",
       "        text-align: right;\n",
       "    }\n",
       "</style>\n",
       "<table border=\"1\" class=\"dataframe\">\n",
       "  <thead>\n",
       "    <tr style=\"text-align: right;\">\n",
       "      <th></th>\n",
       "      <th>userId</th>\n",
       "      <th>backward_days</th>\n",
       "      <th>user_type</th>\n",
       "      <th>cnt_sessionId</th>\n",
       "      <th>cnt_itemInSession</th>\n",
       "      <th>About</th>\n",
       "      <th>Add Friend</th>\n",
       "      <th>Add to Playlist</th>\n",
       "      <th>Cancel</th>\n",
       "      <th>Cancellation Confirmation</th>\n",
       "      <th>Downgrade</th>\n",
       "      <th>Error</th>\n",
       "      <th>Help</th>\n",
       "      <th>Home</th>\n",
       "      <th>Logout</th>\n",
       "      <th>NextSong</th>\n",
       "      <th>Roll Advert</th>\n",
       "      <th>Save Settings</th>\n",
       "      <th>Settings</th>\n",
       "      <th>Submit Downgrade</th>\n",
       "      <th>Submit Upgrade</th>\n",
       "      <th>Thumbs Down</th>\n",
       "      <th>Thumbs Up</th>\n",
       "      <th>Upgrade</th>\n",
       "    </tr>\n",
       "  </thead>\n",
       "  <tbody>\n",
       "    <tr>\n",
       "      <th>0</th>\n",
       "      <td>126</td>\n",
       "      <td>35</td>\n",
       "      <td>paying</td>\n",
       "      <td>1</td>\n",
       "      <td>17</td>\n",
       "      <td>NaN</td>\n",
       "      <td>1.0</td>\n",
       "      <td>NaN</td>\n",
       "      <td>NaN</td>\n",
       "      <td>NaN</td>\n",
       "      <td>1.0</td>\n",
       "      <td>NaN</td>\n",
       "      <td>NaN</td>\n",
       "      <td>3.0</td>\n",
       "      <td>2.0</td>\n",
       "      <td>10.0</td>\n",
       "      <td>NaN</td>\n",
       "      <td>NaN</td>\n",
       "      <td>NaN</td>\n",
       "      <td>NaN</td>\n",
       "      <td>NaN</td>\n",
       "      <td>NaN</td>\n",
       "      <td>NaN</td>\n",
       "      <td>NaN</td>\n",
       "    </tr>\n",
       "    <tr>\n",
       "      <th>1</th>\n",
       "      <td>19</td>\n",
       "      <td>0</td>\n",
       "      <td>paying</td>\n",
       "      <td>1</td>\n",
       "      <td>152</td>\n",
       "      <td>2.0</td>\n",
       "      <td>2.0</td>\n",
       "      <td>7.0</td>\n",
       "      <td>NaN</td>\n",
       "      <td>NaN</td>\n",
       "      <td>NaN</td>\n",
       "      <td>NaN</td>\n",
       "      <td>NaN</td>\n",
       "      <td>7.0</td>\n",
       "      <td>5.0</td>\n",
       "      <td>124.0</td>\n",
       "      <td>NaN</td>\n",
       "      <td>NaN</td>\n",
       "      <td>1.0</td>\n",
       "      <td>NaN</td>\n",
       "      <td>NaN</td>\n",
       "      <td>1.0</td>\n",
       "      <td>3.0</td>\n",
       "      <td>NaN</td>\n",
       "    </tr>\n",
       "    <tr>\n",
       "      <th>2</th>\n",
       "      <td>200004</td>\n",
       "      <td>42</td>\n",
       "      <td>paying</td>\n",
       "      <td>2</td>\n",
       "      <td>73</td>\n",
       "      <td>NaN</td>\n",
       "      <td>3.0</td>\n",
       "      <td>2.0</td>\n",
       "      <td>NaN</td>\n",
       "      <td>NaN</td>\n",
       "      <td>NaN</td>\n",
       "      <td>NaN</td>\n",
       "      <td>NaN</td>\n",
       "      <td>3.0</td>\n",
       "      <td>1.0</td>\n",
       "      <td>59.0</td>\n",
       "      <td>NaN</td>\n",
       "      <td>NaN</td>\n",
       "      <td>NaN</td>\n",
       "      <td>NaN</td>\n",
       "      <td>NaN</td>\n",
       "      <td>2.0</td>\n",
       "      <td>3.0</td>\n",
       "      <td>NaN</td>\n",
       "    </tr>\n",
       "    <tr>\n",
       "      <th>3</th>\n",
       "      <td>300002</td>\n",
       "      <td>7</td>\n",
       "      <td>downgraded</td>\n",
       "      <td>1</td>\n",
       "      <td>30</td>\n",
       "      <td>NaN</td>\n",
       "      <td>NaN</td>\n",
       "      <td>2.0</td>\n",
       "      <td>NaN</td>\n",
       "      <td>NaN</td>\n",
       "      <td>NaN</td>\n",
       "      <td>NaN</td>\n",
       "      <td>1.0</td>\n",
       "      <td>1.0</td>\n",
       "      <td>NaN</td>\n",
       "      <td>22.0</td>\n",
       "      <td>NaN</td>\n",
       "      <td>NaN</td>\n",
       "      <td>NaN</td>\n",
       "      <td>NaN</td>\n",
       "      <td>NaN</td>\n",
       "      <td>NaN</td>\n",
       "      <td>4.0</td>\n",
       "      <td>NaN</td>\n",
       "    </tr>\n",
       "    <tr>\n",
       "      <th>4</th>\n",
       "      <td>37</td>\n",
       "      <td>1</td>\n",
       "      <td>paying</td>\n",
       "      <td>1</td>\n",
       "      <td>99</td>\n",
       "      <td>NaN</td>\n",
       "      <td>NaN</td>\n",
       "      <td>1.0</td>\n",
       "      <td>NaN</td>\n",
       "      <td>NaN</td>\n",
       "      <td>NaN</td>\n",
       "      <td>NaN</td>\n",
       "      <td>NaN</td>\n",
       "      <td>5.0</td>\n",
       "      <td>2.0</td>\n",
       "      <td>85.0</td>\n",
       "      <td>1.0</td>\n",
       "      <td>NaN</td>\n",
       "      <td>NaN</td>\n",
       "      <td>NaN</td>\n",
       "      <td>NaN</td>\n",
       "      <td>1.0</td>\n",
       "      <td>4.0</td>\n",
       "      <td>NaN</td>\n",
       "    </tr>\n",
       "  </tbody>\n",
       "</table>\n",
       "</div>"
      ],
      "text/plain": [
       "   userId  backward_days   user_type  cnt_sessionId  cnt_itemInSession  About  \\\n",
       "0     126             35      paying              1                 17    NaN   \n",
       "1      19              0      paying              1                152    2.0   \n",
       "2  200004             42      paying              2                 73    NaN   \n",
       "3  300002              7  downgraded              1                 30    NaN   \n",
       "4      37              1      paying              1                 99    NaN   \n",
       "\n",
       "   Add Friend  Add to Playlist  Cancel  Cancellation Confirmation  Downgrade  \\\n",
       "0         1.0              NaN     NaN                        NaN        1.0   \n",
       "1         2.0              7.0     NaN                        NaN        NaN   \n",
       "2         3.0              2.0     NaN                        NaN        NaN   \n",
       "3         NaN              2.0     NaN                        NaN        NaN   \n",
       "4         NaN              1.0     NaN                        NaN        NaN   \n",
       "\n",
       "   Error  Help  Home  Logout  NextSong  Roll Advert  Save Settings  Settings  \\\n",
       "0    NaN   NaN   3.0     2.0      10.0          NaN            NaN       NaN   \n",
       "1    NaN   NaN   7.0     5.0     124.0          NaN            NaN       1.0   \n",
       "2    NaN   NaN   3.0     1.0      59.0          NaN            NaN       NaN   \n",
       "3    NaN   1.0   1.0     NaN      22.0          NaN            NaN       NaN   \n",
       "4    NaN   NaN   5.0     2.0      85.0          1.0            NaN       NaN   \n",
       "\n",
       "   Submit Downgrade  Submit Upgrade  Thumbs Down  Thumbs Up  Upgrade  \n",
       "0               NaN             NaN          NaN        NaN      NaN  \n",
       "1               NaN             NaN          1.0        3.0      NaN  \n",
       "2               NaN             NaN          2.0        3.0      NaN  \n",
       "3               NaN             NaN          NaN        4.0      NaN  \n",
       "4               NaN             NaN          1.0        4.0      NaN  "
      ]
     },
     "execution_count": 77,
     "metadata": {},
     "output_type": "execute_result"
    }
   ],
   "source": [
    "#join the 2 together on userId\n",
    "df3_summary_pd = df3_summary.toPandas()\n",
    "df3_summary_pd.head()"
   ]
  },
  {
   "cell_type": "code",
   "execution_count": 78,
   "metadata": {},
   "outputs": [
    {
     "data": {
      "image/png": "[encoded data removed]",
      "text/plain": [
       "<matplotlib.figure.Figure at 0x7f33d96414a8>"
      ]
     },
     "metadata": {},
     "output_type": "display_data"
    }
   ],
   "source": [
    "y= 'cnt_itemInSession'\n",
    "data=df3_summary_pd[(df3_summary_pd.backward_days<15) & (df3_summary_pd.user_type=='cancelled')]\n",
    "#sns.factorplot(data=df3_summary_pd, x=\"backward_days\", y=y, hue=\"user_type\", kind='scatter')\n",
    "with sns.axes_style(style='ticks'):\n",
    "    g=sns.factorplot(data=data, x=\"backward_days\", y=y, hue=\"user_type\", kind='bar', size=4, aspect=2)\n",
    "    #g.set_axis_labels('user_type','days_membership')\n",
    "    plt.title('Average {} per user type'.format(y)); "
   ]
  },
  {
   "cell_type": "code",
   "execution_count": 79,
   "metadata": {},
   "outputs": [
    {
     "data": {
      "image/png": "[encoded data removed]",
      "text/plain": [
       "<matplotlib.figure.Figure at 0x7f33d968ba58>"
      ]
     },
     "metadata": {},
     "output_type": "display_data"
    }
   ],
   "source": [
    "y= 'cnt_itemInSession'\n",
    "data=df3_summary_pd[(df3_summary_pd.backward_days<15) & (df3_summary_pd.user_type=='downgraded')]\n",
    "#sns.factorplot(data=df3_summary_pd, x=\"backward_days\", y=y, hue=\"user_type\", kind='scatter')\n",
    "with sns.axes_style(style='ticks'):\n",
    "    g=sns.factorplot(data=data, x=\"backward_days\", y=y, hue=\"user_type\", kind='bar', size=4, aspect=2)\n",
    "    #g.set_axis_labels('user_type','days_membership')\n",
    "    plt.title('Average {} per user type'.format(y)); "
   ]
  },
  {
   "cell_type": "code",
   "execution_count": 80,
   "metadata": {},
   "outputs": [
    {
     "data": {
      "image/png": "[encoded data removed]",
      "text/plain": [
       "<matplotlib.figure.Figure at 0x7f33d9682208>"
      ]
     },
     "metadata": {},
     "output_type": "display_data"
    }
   ],
   "source": [
    "y= 'NextSong'\n",
    "data=df3_summary_pd[(df3_summary_pd.backward_days<15) & (df3_summary_pd.user_type!='free only')]\n",
    "#sns.factorplot(data=df3_summary_pd, x=\"backward_days\", y=y, hue=\"user_type\", kind='scatter')\n",
    "with sns.axes_style(style='ticks'):\n",
    "    g=sns.factorplot(data=data, x=\"backward_days\", y=y, hue=\"user_type\", kind='box', size=4, aspect=2)\n",
    "    #g.set_axis_labels('user_type','days_membership')\n",
    "    plt.title('Average {} per user type'.format(y)); "
   ]
  },
  {
   "cell_type": "code",
   "execution_count": 81,
   "metadata": {},
   "outputs": [
    {
     "data": {
      "image/png": "[encoded data removed]",
      "text/plain": [
       "<matplotlib.figure.Figure at 0x7f33d92112b0>"
      ]
     },
     "metadata": {},
     "output_type": "display_data"
    }
   ],
   "source": [
    "y= 'NextSong'\n",
    "data=df3_summary_pd[df3_summary_pd.backward_days<7]\n",
    "#sns.factorplot(data=df3_summary_pd, x=\"backward_days\", y=y, hue=\"user_type\", kind='scatter')\n",
    "with sns.axes_style(style='ticks'):\n",
    "    g=sns.lmplot(data=data, x=\"backward_days\", y=y, hue=\"user_type\")\n",
    "    #g.set_axis_labels('user_type','days_membership')\n",
    "    plt.title('Average {} per user type'.format(y)); "
   ]
  },
  {
   "cell_type": "markdown",
   "metadata": {},
   "source": [
    "# Feature Engineering\n",
    "Once you've familiarized yourself with the data, build out the features you find promising to train your model on. To work with the full dataset, you can follow the following steps.\n",
    "- Write a script to extract the necessary features from the smaller subset of data\n",
    "- Ensure that your script is scalable, using the best practices discussed in Lesson 3\n",
    "- Try your script on the full data set, debugging your script if necessary\n",
    "\n",
    "If you are working in the classroom workspace, you can just extract features based on the small subset of data contained here. Be sure to transfer over this work to the larger dataset when you work on your Spark cluster."
   ]
  },
  {
   "cell_type": "code",
   "execution_count": 82,
   "metadata": {},
   "outputs": [],
   "source": [
    "#page summary count per userid, sorted per day "
   ]
  },
  {
   "cell_type": "code",
   "execution_count": 83,
   "metadata": {},
   "outputs": [
    {
     "name": "stdout",
     "output_type": "stream",
     "text": [
      "root\n",
      " |-- artist: string (nullable = true)\n",
      " |-- auth: string (nullable = true)\n",
      " |-- firstName: string (nullable = true)\n",
      " |-- gender: string (nullable = true)\n",
      " |-- itemInSession: long (nullable = true)\n",
      " |-- lastName: string (nullable = true)\n",
      " |-- length: double (nullable = true)\n",
      " |-- level: string (nullable = true)\n",
      " |-- location: string (nullable = true)\n",
      " |-- method: string (nullable = true)\n",
      " |-- page: string (nullable = true)\n",
      " |-- registration: long (nullable = true)\n",
      " |-- sessionId: long (nullable = true)\n",
      " |-- song: string (nullable = true)\n",
      " |-- status: long (nullable = true)\n",
      " |-- ts: long (nullable = true)\n",
      " |-- userAgent: string (nullable = true)\n",
      " |-- userId: string (nullable = true)\n",
      " |-- year: string (nullable = true)\n",
      " |-- month: string (nullable = true)\n",
      " |-- day: string (nullable = true)\n",
      " |-- hour: string (nullable = true)\n",
      " |-- date: date (nullable = true)\n",
      " |-- reg_year: string (nullable = true)\n",
      " |-- reg_month: string (nullable = true)\n",
      " |-- reg_day: string (nullable = true)\n",
      " |-- reg_date: date (nullable = true)\n",
      " |-- cancelled: integer (nullable = true)\n",
      " |-- downgraded: integer (nullable = true)\n",
      " |-- pre_cancelled_events: long (nullable = true)\n",
      " |-- pre_downgraded_events: long (nullable = true)\n",
      " |-- user_type: string (nullable = false)\n",
      " |-- churn: integer (nullable = false)\n",
      "\n"
     ]
    }
   ],
   "source": [
    "df.printSchema()"
   ]
  },
  {
   "cell_type": "code",
   "execution_count": 84,
   "metadata": {},
   "outputs": [],
   "source": [
    "#add new feature 'cnt of days since last visit'"
   ]
  },
  {
   "cell_type": "code",
   "execution_count": 85,
   "metadata": {},
   "outputs": [],
   "source": [
    "#New summary dataframe per user \n",
    "features = df.filter(((df.user_type=='downgraded') & (df.pre_downgraded_events=='1')) | \n",
    "                        ((df.user_type=='cancelled') & (df.pre_cancelled_events=='1')) | \n",
    "                        (df.user_type.isin(['paying']))). \\\n",
    "    groupBy(\"userId\",\"date\",\"churn\"). \\\n",
    "    agg(countDistinct(\"sessionId\").alias(\"cnt_sessionId\"), \\\n",
    "        count(\"itemInSession\").alias(\"cnt_itemInSession\") \\\n",
    "     )#truncate=False)"
   ]
  },
  {
   "cell_type": "code",
   "execution_count": 86,
   "metadata": {},
   "outputs": [],
   "source": [
    "#summarize the page visit data per user\n",
    "feature_pivot = df.filter(((df.user_type=='downgraded') & (df.pre_downgraded_events=='1')) | \n",
    "                        ((df.user_type=='cancelled') & (df.pre_cancelled_events=='1')) | \n",
    "                        (df.user_type.isin(['free only','paying']))). \\\n",
    "    groupBy(\"userId\",\"date\") \\\n",
    "    .pivot(\"page\") \\\n",
    "    .count()"
   ]
  },
  {
   "cell_type": "code",
   "execution_count": 87,
   "metadata": {},
   "outputs": [],
   "source": [
    "#join the 2 together on userId\n",
    "features = features.join(feature_pivot, on=['userId','date'], how='inner')"
   ]
  },
  {
   "cell_type": "code",
   "execution_count": 88,
   "metadata": {
    "scrolled": true
   },
   "outputs": [
    {
     "data": {
      "text/plain": [
       "[Row(userId='10', date=datetime.date(2018, 10, 8), churn=0, cnt_sessionId=1, cnt_itemInSession=70, About=None, Add Friend=3, Add to Playlist=1, Cancel=None, Cancellation Confirmation=None, Downgrade=None, Error=None, Help=None, Home=4, Logout=1, NextSong=57, Roll Advert=None, Save Settings=None, Settings=1, Submit Downgrade=None, Submit Upgrade=None, Thumbs Down=None, Thumbs Up=3, Upgrade=None),\n",
       " Row(userId='10', date=datetime.date(2018, 10, 18), churn=0, cnt_sessionId=1, cnt_itemInSession=345, About=None, Add Friend=3, Add to Playlist=6, Cancel=None, Cancellation Confirmation=None, Downgrade=3, Error=None, Help=None, Home=11, Logout=3, NextSong=297, Roll Advert=None, Save Settings=None, Settings=3, Submit Downgrade=None, Submit Upgrade=None, Thumbs Down=2, Thumbs Up=17, Upgrade=None),\n",
       " Row(userId='10', date=datetime.date(2018, 10, 19), churn=0, cnt_sessionId=1, cnt_itemInSession=104, About=2, Add Friend=2, Add to Playlist=1, Cancel=None, Cancellation Confirmation=None, Downgrade=None, Error=None, Help=None, Home=5, Logout=1, NextSong=84, Roll Advert=None, Save Settings=None, Settings=1, Submit Downgrade=None, Submit Upgrade=None, Thumbs Down=2, Thumbs Up=6, Upgrade=None),\n",
       " Row(userId='10', date=datetime.date(2018, 10, 29), churn=0, cnt_sessionId=1, cnt_itemInSession=25, About=None, Add Friend=1, Add to Playlist=None, Cancel=None, Cancellation Confirmation=None, Downgrade=None, Error=None, Help=None, Home=1, Logout=None, NextSong=21, Roll Advert=None, Save Settings=None, Settings=None, Submit Downgrade=None, Submit Upgrade=None, Thumbs Down=None, Thumbs Up=2, Upgrade=None),\n",
       " Row(userId='10', date=datetime.date(2018, 11, 3), churn=0, cnt_sessionId=1, cnt_itemInSession=78, About=None, Add Friend=1, Add to Playlist=None, Cancel=None, Cancellation Confirmation=None, Downgrade=1, Error=None, Help=1, Home=3, Logout=2, NextSong=63, Roll Advert=None, Save Settings=1, Settings=1, Submit Downgrade=None, Submit Upgrade=None, Thumbs Down=None, Thumbs Up=5, Upgrade=None)]"
      ]
     },
     "execution_count": 88,
     "metadata": {},
     "output_type": "execute_result"
    }
   ],
   "source": [
    "features_sorted = features.sort(['userId','date'], ascending=True)\n",
    "features_sorted.take(5)"
   ]
  },
  {
   "cell_type": "code",
   "execution_count": 109,
   "metadata": {
    "scrolled": true
   },
   "outputs": [
    {
     "name": "stdout",
     "output_type": "stream",
     "text": [
      "+------+----------+-----+-------------+-----------------+-----+----------+---------------+------+-------------------------+---------+-----+----+----+------+--------+-----------+-------------+--------+----------------+--------------+-----------+---------+-------+\n",
      "|userId|      date|churn|cnt_sessionId|cnt_itemInSession|About|Add Friend|Add to Playlist|Cancel|Cancellation Confirmation|Downgrade|Error|Help|Home|Logout|NextSong|Roll Advert|Save Settings|Settings|Submit Downgrade|Submit Upgrade|Thumbs Down|Thumbs Up|Upgrade|\n",
      "+------+----------+-----+-------------+-----------------+-----+----------+---------------+------+-------------------------+---------+-----+----+----+------+--------+-----------+-------------+--------+----------------+--------------+-----------+---------+-------+\n",
      "|    10|2018-10-08|    0|            1|               70|    0|         3|              1|     0|                        0|        0|    0|   0|   4|     1|      57|          0|            0|       1|               0|             0|          0|        3|      0|\n",
      "|    10|2018-10-18|    0|            1|              345|    0|         3|              6|     0|                        0|        3|    0|   0|  11|     3|     297|          0|            0|       3|               0|             0|          2|       17|      0|\n",
      "|    10|2018-10-19|    0|            1|              104|    2|         2|              1|     0|                        0|        0|    0|   0|   5|     1|      84|          0|            0|       1|               0|             0|          2|        6|      0|\n",
      "|    10|2018-10-29|    0|            1|               25|    0|         1|              0|     0|                        0|        0|    0|   0|   1|     0|      21|          0|            0|       0|               0|             0|          0|        2|      0|\n",
      "|    10|2018-11-03|    0|            1|               78|    0|         1|              0|     0|                        0|        1|    0|   1|   3|     2|      63|          0|            1|       1|               0|             0|          0|        5|      0|\n",
      "|    10|2018-11-15|    0|            1|               70|    0|         1|              0|     0|                        0|        0|    0|   0|   4|     2|      61|          1|            0|       0|               0|             0|          0|        1|      0|\n",
      "|    10|2018-11-16|    0|            1|                8|    0|         0|              0|     0|                        0|        2|    0|   0|   0|     0|       6|          0|            0|       0|               0|             0|          0|        0|      0|\n",
      "|    10|2018-11-19|    0|            1|               95|    0|         1|              1|     0|                        0|        1|    0|   0|   2|     2|      84|          0|            0|       1|               0|             0|          0|        3|      0|\n",
      "|   100|2018-10-02|    1|            1|              154|    0|         2|              3|     0|                        0|        0|    0|   0|   4|     0|     130|          1|            1|       1|               0|             0|          3|        9|      0|\n",
      "|   100|2018-10-03|    1|            1|               23|    1|         0|              1|     0|                        0|        0|    0|   1|   1|     0|      18|          0|            0|       0|               0|             0|          0|        1|      0|\n",
      "|   100|2018-10-04|    1|            1|              108|    0|         4|              1|     0|                        0|        1|    0|   0|   3|     1|      91|          0|            0|       0|               0|             0|          1|        6|      0|\n",
      "|   100|2018-10-07|    1|            1|               17|    0|         0|              1|     0|                        0|        0|    0|   0|   1|     0|      15|          0|            0|       0|               0|             0|          0|        0|      0|\n",
      "|   100|2018-10-09|    1|            1|              137|    0|         4|              4|     0|                        0|        3|    0|   0|   9|     2|     108|          0|            1|       2|               0|             0|          1|        3|      0|\n",
      "|   100|2018-10-10|    1|            2|              182|    2|         2|              4|     0|                        0|        3|    0|   0|   6|     3|     152|          0|            0|       1|               0|             0|          2|        7|      0|\n",
      "|   100|2018-10-17|    1|            1|              220|    2|         2|              5|     0|                        0|        2|    0|   3|  10|     5|     180|          0|            0|       1|               0|             0|          3|        7|      0|\n",
      "|   100|2018-10-19|    1|            1|               20|    0|         0|              0|     0|                        0|        0|    0|   0|   0|     0|      17|          0|            1|       1|               0|             0|          0|        1|      0|\n",
      "|   100|2018-10-23|    1|            2|              211|    1|         5|              6|     0|                        0|        1|    0|   0|   7|     3|     177|          0|            0|       1|               0|             0|          1|        9|      0|\n",
      "|   100|2018-10-24|    1|            2|              121|    0|         2|              1|     0|                        0|        2|    0|   0|   4|     1|     105|          0|            0|       0|               0|             0|          0|        6|      0|\n",
      "|   100|2018-10-25|    1|            2|               23|    0|         0|              0|     0|                        0|        0|    0|   0|   2|     0|      19|          0|            0|       0|               0|             0|          0|        2|      0|\n",
      "|   100|2018-10-26|    1|            1|               31|    0|         1|              0|     0|                        0|        0|    0|   0|   1|     1|      26|          0|            0|       0|               0|             0|          0|        2|      0|\n",
      "+------+----------+-----+-------------+-----------------+-----+----------+---------------+------+-------------------------+---------+-----+----+----+------+--------+-----------+-------------+--------+----------------+--------------+-----------+---------+-------+\n",
      "only showing top 20 rows\n",
      "\n"
     ]
    }
   ],
   "source": [
    "features_sorted = features_sorted.na.fill(value=0)\n",
    "features_sorted.show(1)"
   ]
  },
  {
   "cell_type": "markdown",
   "metadata": {},
   "source": [
    "# Modeling\n",
    "Split the full dataset into train, test, and validation sets. Test out several of the machine learning methods you learned. Evaluate the accuracy of the various models, tuning parameters as necessary. Determine your winning model based on test accuracy and report results on the validation set. Since the cancelled users are a fairly small subset, I suggest using F1 score as the metric to optimize."
   ]
  },
  {
   "cell_type": "code",
   "execution_count": 89,
   "metadata": {},
   "outputs": [],
   "source": [
    "#RandomForestClassifier\n",
    "#split the data by user \n",
    "#time between visits\n"
   ]
  },
  {
   "cell_type": "code",
   "execution_count": 104,
   "metadata": {},
   "outputs": [],
   "source": [
    "#randomly select users from list\n",
    "def split_training_data(x_df, col, percentage):\n",
    "    '''\n",
    "    Inputs\n",
    "    df : \n",
    "    col :\n",
    "    percentage :\n",
    "    \n",
    "    Output\n",
    "    train :\n",
    "    test :\n",
    "    '''\n",
    "\n",
    "    # declaring list\n",
    "    col_distinct = [row[col] for row in x_df.select(col).dropDuplicates().collect()]\n",
    "\n",
    "    # initializing the value of n\n",
    "    col_len = len(col_distinct)\n",
    "    n = int(np.round((col_len)*percentage/100, 0))\n",
    "    test_col = []\n",
    "\n",
    "    # traversing and printing random elements\n",
    "    for i in range(n):\n",
    "\n",
    "        # end = \" \" so that we get output in single line\n",
    "        test_col.append(random.choice(col_distinct))#, end = \" \")\n",
    "        \n",
    "    test = x_df.filter(x_df[col].isin(test_col))\n",
    "    train = x_df.filter(~x_df[col].isin(test_col))\n",
    "    return train, test"
   ]
  },
  {
   "cell_type": "code",
   "execution_count": 105,
   "metadata": {},
   "outputs": [],
   "source": [
    "\n",
    "train, test = split_training_data(features_sorted, 'userId', 20)"
   ]
  },
  {
   "cell_type": "code",
   "execution_count": 106,
   "metadata": {},
   "outputs": [
    {
     "data": {
      "text/plain": [
       "Row(userId='100013', date=datetime.date(2018, 10, 2), churn=1, cnt_sessionId=1, cnt_itemInSession=52, About=None, Add Friend=None, Add to Playlist=2, Cancel=None, Cancellation Confirmation=None, Downgrade=None, Error=None, Help=1, Home=2, Logout=2, NextSong=40, Roll Advert=2, Save Settings=None, Settings=None, Submit Downgrade=None, Submit Upgrade=None, Thumbs Down=1, Thumbs Up=2, Upgrade=None)"
      ]
     },
     "execution_count": 106,
     "metadata": {},
     "output_type": "execute_result"
    }
   ],
   "source": [
    "test.head()"
   ]
  },
  {
   "cell_type": "markdown",
   "metadata": {},
   "source": [
    "# Final Steps\n",
    "Clean up your code, adding comments and renaming variables to make the code easier to read and maintain. Refer to the Spark Project Overview page and Data Scientist Capstone Project Rubric to make sure you are including all components of the capstone project and meet all expectations. Remember, this includes thorough documentation in a README file in a Github repository, as well as a web app or blog post."
   ]
  }
 ],
 "metadata": {
  "kernelspec": {
   "display_name": "Python 3",
   "language": "python",
   "name": "python3"
  },
  "language_info": {
   "codemirror_mode": {
    "name": "ipython",
    "version": 3
   },
   "file_extension": ".py",
   "mimetype": "text/x-python",
   "name": "python",
   "nbconvert_exporter": "python",
   "pygments_lexer": "ipython3",
   "version": "3.6.3"
  }
 },
 "nbformat": 4,
 "nbformat_minor": 2
}
