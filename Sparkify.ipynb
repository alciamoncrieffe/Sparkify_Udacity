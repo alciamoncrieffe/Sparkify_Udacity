{
 "cells": [
  {
   "cell_type": "markdown",
   "metadata": {},
   "source": [
    "# Sparkify Project Workspace (Mini Dataset)\n",
    "This workspace was used to explore a smaller subset (128MB) of the music event data with Spark. The plan is to  deploy an ML cluster on the IBM cloud using a larger dataest at a later date."
   ]
  },
  {
   "cell_type": "code",
   "execution_count": 1,
   "metadata": {},
   "outputs": [],
   "source": [
    "#Import libraries\n",
    "from pyspark.sql import SparkSession\n",
    "from pyspark.sql import Window\n",
    "from pyspark.sql.types import IntegerType, TimestampType\n",
    "from pyspark.sql.functions import isnan, when, count, col, concat_ws, avg\n",
    "from pyspark.sql.functions import asc, desc, explode, lit, min, max, split\n",
    "from pyspark.sql.functions import sum as Fsum, udf, countDistinct, date_format\n",
    "from pyspark.sql.functions import when, to_date, lag, coalesce\n",
    "\n",
    "import random\n",
    "import re\n",
    "import datetime\n",
    "from datetime import date\n",
    "import pandas as pd\n",
    "import numpy as np\n",
    "import matplotlib.pyplot as plt\n",
    "import seaborn as sns\n",
    "%matplotlib inline\n",
    "\n",
    "from pyspark.ml import Pipeline\n",
    "from pyspark.ml.classification import RandomForestClassifier, LogisticRegression\n",
    "from pyspark.ml.feature import StringIndexer, VectorAssembler\n",
    "from pyspark.ml.evaluation import BinaryClassificationEvaluator\n",
    "from pyspark.ml.tuning import CrossValidator, ParamGridBuilder"
   ]
  },
  {
   "cell_type": "code",
   "execution_count": 2,
   "metadata": {},
   "outputs": [],
   "source": [
    "#Create a local Spark session since using a mini-dataset suitable for local exploration\n",
    "spark = SparkSession.builder\\\n",
    "                    .master('local')\\\n",
    "                    .appName('SparkifyApp')\\\n",
    "                    .getOrCreate()"
   ]
  },
  {
   "cell_type": "markdown",
   "metadata": {},
   "source": [
    "# Load and Clean Dataset\n",
    "In this workspace, the mini-dataset file is `mini_sparkify_event_data.json`. Load and clean the dataset, checking for invalid or missing data - for example, records without userids or sessionids. "
   ]
  },
  {
   "cell_type": "code",
   "execution_count": 3,
   "metadata": {},
   "outputs": [],
   "source": [
    "sparkify_data = 'mini_sparkify_event_data.json'\n",
    "df = spark.read.json(sparkify_data)"
   ]
  },
  {
   "cell_type": "markdown",
   "metadata": {},
   "source": [
    "**1st step** to view the dataframe contents and data types below."
   ]
  },
  {
   "cell_type": "code",
   "execution_count": 4,
   "metadata": {},
   "outputs": [
    {
     "data": {
      "text/plain": [
       "Row(artist='Martha Tilston', auth='Logged In', firstName='Colin', gender='M', itemInSession=50, lastName='Freeman', length=277.89016, level='paid', location='Bakersfield, CA', method='PUT', page='NextSong', registration=1538173362000, sessionId=29, song='Rockpools', status=200, ts=1538352117000, userAgent='Mozilla/5.0 (Windows NT 6.1; WOW64; rv:31.0) Gecko/20100101 Firefox/31.0', userId='30')"
      ]
     },
     "execution_count": 4,
     "metadata": {},
     "output_type": "execute_result"
    }
   ],
   "source": [
    "df.head()"
   ]
  },
  {
   "cell_type": "code",
   "execution_count": 5,
   "metadata": {},
   "outputs": [
    {
     "name": "stdout",
     "output_type": "stream",
     "text": [
      "root\n",
      " |-- artist: string (nullable = true)\n",
      " |-- auth: string (nullable = true)\n",
      " |-- firstName: string (nullable = true)\n",
      " |-- gender: string (nullable = true)\n",
      " |-- itemInSession: long (nullable = true)\n",
      " |-- lastName: string (nullable = true)\n",
      " |-- length: double (nullable = true)\n",
      " |-- level: string (nullable = true)\n",
      " |-- location: string (nullable = true)\n",
      " |-- method: string (nullable = true)\n",
      " |-- page: string (nullable = true)\n",
      " |-- registration: long (nullable = true)\n",
      " |-- sessionId: long (nullable = true)\n",
      " |-- song: string (nullable = true)\n",
      " |-- status: long (nullable = true)\n",
      " |-- ts: long (nullable = true)\n",
      " |-- userAgent: string (nullable = true)\n",
      " |-- userId: string (nullable = true)\n",
      "\n"
     ]
    }
   ],
   "source": [
    "df.printSchema()"
   ]
  },
  {
   "cell_type": "code",
   "execution_count": 6,
   "metadata": {
    "scrolled": true
   },
   "outputs": [
    {
     "data": {
      "text/plain": [
       "286500"
      ]
     },
     "execution_count": 6,
     "metadata": {},
     "output_type": "execute_result"
    }
   ],
   "source": [
    "#Total number of records \n",
    "df.count()"
   ]
  },
  {
   "cell_type": "markdown",
   "metadata": {},
   "source": [
    "Using describe() on subsets of dataframe columns to more easily view summary stats in tables."
   ]
  },
  {
   "cell_type": "code",
   "execution_count": 7,
   "metadata": {},
   "outputs": [
    {
     "name": "stdout",
     "output_type": "stream",
     "text": [
      "+-------+-----------------+---------+--------+------+------------------+------+--------------------+\n",
      "|summary|           userId|firstName|lastName|gender|            status| level|        registration|\n",
      "+-------+-----------------+---------+--------+------+------------------+------+--------------------+\n",
      "|  count|           286500|   278154|  278154|278154|            286500|286500|              278154|\n",
      "|   mean|59682.02278593872|     null|    null|  null|210.05459685863875|  null|1.535358834084427...|\n",
      "| stddev|109091.9499991047|     null|    null|  null| 31.50507848842214|  null| 3.291321616327586E9|\n",
      "|    min|                 | Adelaida|   Adams|     F|               200|  free|       1521380675000|\n",
      "|    max|               99|   Zyonna|  Wright|     M|               404|  paid|       1543247354000|\n",
      "+-------+-----------------+---------+--------+------+------------------+------+--------------------+\n",
      "\n"
     ]
    }
   ],
   "source": [
    "df.describe('userId', 'firstName', 'lastName', 'gender', 'status', \n",
    "            'level', 'registration').show()"
   ]
  },
  {
   "cell_type": "code",
   "execution_count": 8,
   "metadata": {},
   "outputs": [
    {
     "name": "stdout",
     "output_type": "stream",
     "text": [
      "+-------+------------------+--------------------+-----------------+----------+-------+------+\n",
      "|summary|            artist|                song|           length|      auth|   page|method|\n",
      "+-------+------------------+--------------------+-----------------+----------+-------+------+\n",
      "|  count|            228108|              228108|           228108|    286500| 286500|286500|\n",
      "|   mean| 551.0852017937219|            Infinity|249.1171819778458|      null|   null|  null|\n",
      "| stddev|1217.7693079161374|                 NaN|99.23517921058361|      null|   null|  null|\n",
      "|    min|               !!!|\u001c",
      "ÃÂg ÃÂtti Gr...|          0.78322| Cancelled|  About|   GET|\n",
      "|    max| ÃÂlafur Arnalds|ÃÂau hafa slopp...|       3024.66567|Logged Out|Upgrade|   PUT|\n",
      "+-------+------------------+--------------------+-----------------+----------+-------+------+\n",
      "\n"
     ]
    }
   ],
   "source": [
    "df.describe('artist', 'song', 'length', 'auth', 'page', 'method').show()"
   ]
  },
  {
   "cell_type": "code",
   "execution_count": 9,
   "metadata": {},
   "outputs": [
    {
     "name": "stdout",
     "output_type": "stream",
     "text": [
      "+-------+-----------------+------------------+--------------------+--------------------+-----------------+\n",
      "|summary|        sessionId|     itemInSession|                  ts|           userAgent|         location|\n",
      "+-------+-----------------+------------------+--------------------+--------------------+-----------------+\n",
      "|  count|           286500|            286500|              286500|              278154|           278154|\n",
      "|   mean|1041.526554973822|114.41421291448516|1.540956889810483...|                null|             null|\n",
      "| stddev|726.7762634630741|129.76726201140994|1.5075439608226302E9|                null|             null|\n",
      "|    min|                1|                 0|       1538352117000|\"Mozilla/5.0 (Mac...|       Albany, OR|\n",
      "|    max|             2474|              1321|       1543799476000|Mozilla/5.0 (comp...|Winston-Salem, NC|\n",
      "+-------+-----------------+------------------+--------------------+--------------------+-----------------+\n",
      "\n"
     ]
    }
   ],
   "source": [
    "df.describe('sessionId', 'itemInSession', 'ts', 'userAgent', 'location').show()"
   ]
  },
  {
   "cell_type": "code",
   "execution_count": 10,
   "metadata": {},
   "outputs": [
    {
     "data": {
      "text/plain": [
       "Row(artist=17655, auth=4, firstName=189, gender=2, itemInSession=1322, lastName=173, length=14865, level=2, location=114, method=2, page=22, registration=225, sessionId=2354, song=58480, status=3, ts=277447, userAgent=56, userId=226)"
      ]
     },
     "execution_count": 10,
     "metadata": {},
     "output_type": "execute_result"
    }
   ],
   "source": [
    "#Count distinct values for each column\n",
    "df.agg(*(countDistinct(col(c)).alias(c) for c in df.columns)).head()"
   ]
  },
  {
   "cell_type": "markdown",
   "metadata": {},
   "source": [
    "From the above column counts it looks like every user log record has a 'userId' but some are missing user information like 'firstName', 'lastName', 'gender' and 'registration'."
   ]
  },
  {
   "cell_type": "code",
   "execution_count": 11,
   "metadata": {},
   "outputs": [
    {
     "name": "stdout",
     "output_type": "stream",
     "text": [
      "+------+----------+---------+------+-------------+--------+------+-----+--------+------+-----+------------+---------+----+------+-------------+---------+------+\n",
      "|artist|      auth|firstName|gender|itemInSession|lastName|length|level|location|method| page|registration|sessionId|song|status|           ts|userAgent|userId|\n",
      "+------+----------+---------+------+-------------+--------+------+-----+--------+------+-----+------------+---------+----+------+-------------+---------+------+\n",
      "|  null|Logged Out|     null|  null|          100|    null|  null| free|    null|   GET| Home|        null|        8|null|   200|1538355745000|     null|      |\n",
      "|  null|Logged Out|     null|  null|          101|    null|  null| free|    null|   GET| Help|        null|        8|null|   200|1538355807000|     null|      |\n",
      "|  null|Logged Out|     null|  null|          102|    null|  null| free|    null|   GET| Home|        null|        8|null|   200|1538355841000|     null|      |\n",
      "|  null|Logged Out|     null|  null|          103|    null|  null| free|    null|   PUT|Login|        null|        8|null|   307|1538355842000|     null|      |\n",
      "|  null|Logged Out|     null|  null|            2|    null|  null| free|    null|   GET| Home|        null|      240|null|   200|1538356678000|     null|      |\n",
      "+------+----------+---------+------+-------------+--------+------+-----+--------+------+-----+------------+---------+----+------+-------------+---------+------+\n",
      "only showing top 5 rows\n",
      "\n"
     ]
    }
   ],
   "source": [
    "df.filter(df.lastName.isNull()).show(5)"
   ]
  },
  {
   "cell_type": "code",
   "execution_count": 12,
   "metadata": {
    "scrolled": true
   },
   "outputs": [
    {
     "data": {
      "text/plain": [
       "286500"
      ]
     },
     "execution_count": 12,
     "metadata": {},
     "output_type": "execute_result"
    }
   ],
   "source": [
    "#Total number of records \n",
    "df.count()"
   ]
  },
  {
   "cell_type": "code",
   "execution_count": 13,
   "metadata": {},
   "outputs": [
    {
     "data": {
      "text/plain": [
       "8346"
      ]
     },
     "execution_count": 13,
     "metadata": {},
     "output_type": "execute_result"
    }
   ],
   "source": [
    "df.filter(df.lastName.isNull()).count()"
   ]
  },
  {
   "cell_type": "code",
   "execution_count": 14,
   "metadata": {},
   "outputs": [
    {
     "data": {
      "text/plain": [
       "8346"
      ]
     },
     "execution_count": 14,
     "metadata": {},
     "output_type": "execute_result"
    }
   ],
   "source": [
    "df.filter(df.userId=='').count()"
   ]
  },
  {
   "cell_type": "markdown",
   "metadata": {},
   "source": [
    "From the above cells, the records with missing lastName appear to also have userId=''. \n",
    "\n",
    "Exclude these records since these will not provide any helpful information regarding churn. These users are either not yet logged in, or just browsing and cannot be identified as at a starting payment tier."
   ]
  },
  {
   "cell_type": "code",
   "execution_count": 15,
   "metadata": {},
   "outputs": [
    {
     "data": {
      "text/plain": [
       "278154"
      ]
     },
     "execution_count": 15,
     "metadata": {},
     "output_type": "execute_result"
    }
   ],
   "source": [
    "#Exclude userId='' records and check updated recordcount\n",
    "df = df.filter(df.userId!='')\n",
    "df.count()"
   ]
  },
  {
   "cell_type": "markdown",
   "metadata": {},
   "source": [
    "#### Add date columns to help aggregate by day, hour etc. For both the 'ts' and 'registration'."
   ]
  },
  {
   "cell_type": "code",
   "execution_count": 16,
   "metadata": {},
   "outputs": [],
   "source": [
    "#Udfs to derive the year, month, day and hour from the timestamp formats\n",
    "get_year = udf(lambda x: datetime.datetime.fromtimestamp(x/1000.0).year)\n",
    "get_month = udf(lambda x: datetime.datetime.fromtimestamp(x/1000.0).month) \n",
    "get_day = udf(lambda x: datetime.datetime.fromtimestamp(x/1000.0).day) \n",
    "get_hour = udf(lambda x: datetime.datetime.fromtimestamp(x/1000.0).hour)\n",
    "\n",
    "#Use above udfs to create new columns\n",
    "df = df.withColumn('year', get_year(col('ts')))\n",
    "df = df.withColumn('month', get_month(col('ts')))\n",
    "df = df.withColumn('day', get_day(col('ts')))\n",
    "df = df.withColumn('hour', get_hour(col('ts')))\n",
    "\n",
    "#Concatenate new cols as new date format column\n",
    "cols = [\"year\",\"month\",\"day\"]\n",
    "df = df.withColumn(\"date\", to_date(concat_ws(\"-\",*cols),\"yyyy-MM-dd\") \\\n",
    "                   .cast(\"date\"))"
   ]
  },
  {
   "cell_type": "code",
   "execution_count": 17,
   "metadata": {},
   "outputs": [],
   "source": [
    "#As above using registration timestamp\n",
    "df = df.withColumn('reg_year', get_year(col('registration')))\n",
    "df = df.withColumn('reg_month', get_month(col('registration')))\n",
    "df = df.withColumn('reg_day', get_day(col('registration')))\n",
    "\n",
    "cols = [\"reg_year\",\"reg_month\",\"reg_day\"]\n",
    "df = df.withColumn(\"reg_date\", to_date(concat_ws(\"-\",*cols),\"yyyy-MM-dd\") \\\n",
    "                   .cast(\"date\"))"
   ]
  },
  {
   "cell_type": "markdown",
   "metadata": {},
   "source": [
    "Examining the available user interactions columns, 'page' seems to be the most useful descriptor of user engagement. 'auth' and 'method' can be ignored as they don't seem to add additional value."
   ]
  },
  {
   "cell_type": "code",
   "execution_count": 18,
   "metadata": {},
   "outputs": [
    {
     "name": "stdout",
     "output_type": "stream",
     "text": [
      "+---------+--------------------+------+\n",
      "|     auth|                page|method|\n",
      "+---------+--------------------+------+\n",
      "|Logged In|               About|   GET|\n",
      "|Logged In|          Add Friend|   PUT|\n",
      "|Logged In|     Add to Playlist|   PUT|\n",
      "|Logged In|              Cancel|   PUT|\n",
      "|Cancelled|Cancellation Conf...|   GET|\n",
      "|Logged In|           Downgrade|   GET|\n",
      "|Logged In|               Error|   GET|\n",
      "|Logged In|                Help|   GET|\n",
      "|Logged In|                Home|   GET|\n",
      "|Logged In|              Logout|   PUT|\n",
      "|Logged In|            NextSong|   PUT|\n",
      "|Logged In|         Roll Advert|   GET|\n",
      "|Logged In|       Save Settings|   PUT|\n",
      "|Logged In|            Settings|   GET|\n",
      "|Logged In|    Submit Downgrade|   PUT|\n",
      "|Logged In|      Submit Upgrade|   PUT|\n",
      "|Logged In|         Thumbs Down|   PUT|\n",
      "|Logged In|           Thumbs Up|   PUT|\n",
      "|Logged In|             Upgrade|   GET|\n",
      "+---------+--------------------+------+\n",
      "\n"
     ]
    }
   ],
   "source": [
    "df.select('auth','page', 'method').dropDuplicates().sort('page').show()"
   ]
  },
  {
   "cell_type": "markdown",
   "metadata": {},
   "source": [
    "Closer examination of columns I am not sure of. 'userAgent' seems to correspond to the method the user has used to access the music platform service, while the location is likely the user's location. 'length' could be the length of the track being listened to. The 'status' column I am still unsure of. These last 4 columns I do not think will add much to the model. I think creating dummy columns for each location or userAgent will add too many columns and I do not think will add much to the investigation, except unnecessary complexity."
   ]
  },
  {
   "cell_type": "code",
   "execution_count": 19,
   "metadata": {},
   "outputs": [
    {
     "name": "stdout",
     "output_type": "stream",
     "text": [
      "+------+---------+-------------+-------------+--------------------+--------------------+---------+------+\n",
      "|userId|sessionId|itemInSession|           ts|           userAgent|            location|   length|status|\n",
      "+------+---------+-------------+-------------+--------------------+--------------------+---------+------+\n",
      "|    30|       29|           50|1538352117000|Mozilla/5.0 (Wind...|     Bakersfield, CA|277.89016|   200|\n",
      "|     9|        8|           79|1538352180000|\"Mozilla/5.0 (Win...|Boston-Cambridge-...|236.09424|   200|\n",
      "|    30|       29|           51|1538352394000|Mozilla/5.0 (Wind...|     Bakersfield, CA| 282.8273|   200|\n",
      "|     9|        8|           80|1538352416000|\"Mozilla/5.0 (Win...|Boston-Cambridge-...|262.71302|   200|\n",
      "|    30|       29|           52|1538352676000|Mozilla/5.0 (Wind...|     Bakersfield, CA|223.60771|   200|\n",
      "+------+---------+-------------+-------------+--------------------+--------------------+---------+------+\n",
      "only showing top 5 rows\n",
      "\n"
     ]
    }
   ],
   "source": [
    "df.select('userId', 'sessionId', 'itemInSession', 'ts', 'userAgent', \n",
    "          'location', 'length', 'status').show(5)"
   ]
  },
  {
   "cell_type": "code",
   "execution_count": 20,
   "metadata": {
    "scrolled": true
   },
   "outputs": [
    {
     "name": "stdout",
     "output_type": "stream",
     "text": [
      "+--------------------+---------+---------+------+-------------+--------+---------+-----+---------------+------+---------------+-------------+---------+--------------------+------+-------------+--------------------+------+----+-----+---+----+----------+--------+---------+-------+----------+\n",
      "|              artist|     auth|firstName|gender|itemInSession|lastName|   length|level|       location|method|           page| registration|sessionId|                song|status|           ts|           userAgent|userId|year|month|day|hour|      date|reg_year|reg_month|reg_day|  reg_date|\n",
      "+--------------------+---------+---------+------+-------------+--------+---------+-----+---------------+------+---------------+-------------+---------+--------------------+------+-------------+--------------------+------+----+-----+---+----+----------+--------+---------+-------+----------+\n",
      "|      Martha Tilston|Logged In|    Colin|     M|           50| Freeman|277.89016| paid|Bakersfield, CA|   PUT|       NextSong|1538173362000|       29|           Rockpools|   200|1538352117000|Mozilla/5.0 (Wind...|    30|2018|   10|  1|   0|2018-10-01|    2018|        9|     28|2018-09-28|\n",
      "|        Adam Lambert|Logged In|    Colin|     M|           51| Freeman| 282.8273| paid|Bakersfield, CA|   PUT|       NextSong|1538173362000|       29|   Time For Miracles|   200|1538352394000|Mozilla/5.0 (Wind...|    30|2018|   10|  1|   0|2018-10-01|    2018|        9|     28|2018-09-28|\n",
      "|           Daft Punk|Logged In|    Colin|     M|           52| Freeman|223.60771| paid|Bakersfield, CA|   PUT|       NextSong|1538173362000|       29|Harder Better Fas...|   200|1538352676000|Mozilla/5.0 (Wind...|    30|2018|   10|  1|   0|2018-10-01|    2018|        9|     28|2018-09-28|\n",
      "|        Starflyer 59|Logged In|    Colin|     M|           53| Freeman|185.44281| paid|Bakersfield, CA|   PUT|       NextSong|1538173362000|       29|Passengers (Old A...|   200|1538352899000|Mozilla/5.0 (Wind...|    30|2018|   10|  1|   0|2018-10-01|    2018|        9|     28|2018-09-28|\n",
      "|                null|Logged In|    Colin|     M|           54| Freeman|     null| paid|Bakersfield, CA|   PUT|Add to Playlist|1538173362000|       29|                null|   200|1538352905000|Mozilla/5.0 (Wind...|    30|2018|   10|  1|   0|2018-10-01|    2018|        9|     28|2018-09-28|\n",
      "|            Frumpies|Logged In|    Colin|     M|           55| Freeman|134.47791| paid|Bakersfield, CA|   PUT|       NextSong|1538173362000|       29|          Fuck Kitty|   200|1538353084000|Mozilla/5.0 (Wind...|    30|2018|   10|  1|   0|2018-10-01|    2018|        9|     28|2018-09-28|\n",
      "|Edward Sharpe & T...|Logged In|    Colin|     M|           56| Freeman|223.58159| paid|Bakersfield, CA|   PUT|       NextSong|1538173362000|       29|                Jade|   200|1538353218000|Mozilla/5.0 (Wind...|    30|2018|   10|  1|   0|2018-10-01|    2018|        9|     28|2018-09-28|\n",
      "|         Stan Mosley|Logged In|    Colin|     M|           57| Freeman|246.69995| paid|Bakersfield, CA|   PUT|       NextSong|1538173362000|       29|   So-Called Friends|   200|1538353441000|Mozilla/5.0 (Wind...|    30|2018|   10|  1|   0|2018-10-01|    2018|        9|     28|2018-09-28|\n",
      "|             Orishas|Logged In|    Colin|     M|           58| Freeman|222.22322| paid|Bakersfield, CA|   PUT|       NextSong|1538173362000|       29|           Represent|   200|1538353687000|Mozilla/5.0 (Wind...|    30|2018|   10|  1|   0|2018-10-01|    2018|        9|     28|2018-09-28|\n",
      "|            Downhere|Logged In|    Colin|     M|           59| Freeman|223.92118| paid|Bakersfield, CA|   PUT|       NextSong|1538173362000|       29|           Here I Am|   200|1538353909000|Mozilla/5.0 (Wind...|    30|2018|   10|  1|   0|2018-10-01|    2018|        9|     28|2018-09-28|\n",
      "|             Skillet|Logged In|    Colin|     M|           60| Freeman|233.32526| paid|Bakersfield, CA|   PUT|       NextSong|1538173362000|       29|Rebirthing (Album...|   200|1538354132000|Mozilla/5.0 (Wind...|    30|2018|   10|  1|   0|2018-10-01|    2018|        9|     28|2018-09-28|\n",
      "|Florence + The Ma...|Logged In|    Colin|     M|           61| Freeman|219.66322| paid|Bakersfield, CA|   PUT|       NextSong|1538173362000|       29|Dog Days Are Over...|   200|1538354365000|Mozilla/5.0 (Wind...|    30|2018|   10|  1|   0|2018-10-01|    2018|        9|     28|2018-09-28|\n",
      "|          Nick Drake|Logged In|    Colin|     M|           62| Freeman|222.92853| paid|Bakersfield, CA|   PUT|       NextSong|1538173362000|       29|Tomorrow Is A Lon...|   200|1538354584000|Mozilla/5.0 (Wind...|    30|2018|   10|  1|   0|2018-10-01|    2018|        9|     28|2018-09-28|\n",
      "|Lambert_ Hendrick...|Logged In|    Colin|     M|           63| Freeman|139.04934| paid|Bakersfield, CA|   PUT|       NextSong|1538173362000|       29|    Halloween Spooks|   200|1538354806000|Mozilla/5.0 (Wind...|    30|2018|   10|  1|   0|2018-10-01|    2018|        9|     28|2018-09-28|\n",
      "|          Kanye West|Logged In|    Colin|     M|           64| Freeman|311.84934| paid|Bakersfield, CA|   PUT|       NextSong|1538173362000|       29|            Stronger|   200|1538354945000|Mozilla/5.0 (Wind...|    30|2018|   10|  1|   0|2018-10-01|    2018|        9|     28|2018-09-28|\n",
      "|  Redman / Ready Roc|Logged In|    Colin|     M|           65| Freeman|217.91302| paid|Bakersfield, CA|   PUT|       NextSong|1538173362000|       29|   Dis Iz Brick City|   200|1538355256000|Mozilla/5.0 (Wind...|    30|2018|   10|  1|   0|2018-10-01|    2018|        9|     28|2018-09-28|\n",
      "|The All-American ...|Logged In|    Colin|     M|           66| Freeman|238.86322| paid|Bakersfield, CA|   PUT|       NextSong|1538173362000|       29|          Move Along|   200|1538355473000|Mozilla/5.0 (Wind...|    30|2018|   10|  1|   0|2018-10-01|    2018|        9|     28|2018-09-28|\n",
      "|       Kings Of Leon|Logged In|    Colin|     M|           67| Freeman| 204.2771| paid|Bakersfield, CA|   PUT|       NextSong|1538173362000|       29|           Manhattan|   200|1538355711000|Mozilla/5.0 (Wind...|    30|2018|   10|  1|   1|2018-10-01|    2018|        9|     28|2018-09-28|\n",
      "|            BjÃÂ¶rk|Logged In|    Colin|     M|           68| Freeman|348.57751| paid|Bakersfield, CA|   PUT|       NextSong|1538173362000|       29|                Undo|   200|1538355915000|Mozilla/5.0 (Wind...|    30|2018|   10|  1|   1|2018-10-01|    2018|        9|     28|2018-09-28|\n",
      "|         The Prodigy|Logged In|    Colin|     M|           69| Freeman|260.07465| paid|Bakersfield, CA|   PUT|       NextSong|1538173362000|       29|     The Big Gundown|   200|1538356263000|Mozilla/5.0 (Wind...|    30|2018|   10|  1|   1|2018-10-01|    2018|        9|     28|2018-09-28|\n",
      "+--------------------+---------+---------+------+-------------+--------+---------+-----+---------------+------+---------------+-------------+---------+--------------------+------+-------------+--------------------+------+----+-----+---+----+----------+--------+---------+-------+----------+\n",
      "only showing top 20 rows\n",
      "\n"
     ]
    }
   ],
   "source": [
    "df.filter(df.sessionId==29).show()"
   ]
  },
  {
   "cell_type": "markdown",
   "metadata": {},
   "source": [
    "However, looking at the above example session, 'sessionId' appears to correspond to individual user login sessions, with the 'itemInSession' logging each user interaction within a session. Both columns should be useful as features to summarise user behaviour."
   ]
  },
  {
   "cell_type": "markdown",
   "metadata": {},
   "source": [
    "# Exploratory Data Analysis\n",
    "\n",
    "### Define churn\n",
    "\n",
    "Create columns `cancelled` and `downgrade` to label those users/events we are interested in investigating. And together they will be used to create a `churn` column to use as the label for the model."
   ]
  },
  {
   "cell_type": "code",
   "execution_count": 21,
   "metadata": {},
   "outputs": [],
   "source": [
    "#UDFs to flag user events which have a 'Cancellation Confirmation' or 'Submit Downgrade' as 1 \n",
    "#then create new 'cancelled' and 'downgraded' columns from these\n",
    "flag_cancelled = udf(lambda x: 1 if x=='Cancellation Confirmation' else 0\n",
    "                     , IntegerType())\n",
    "df = df.withColumn('cancelled', flag_cancelled('page'))\n",
    "\n",
    "flag_downgrade = udf(lambda x: 1 if x=='Submit Downgrade' else 0\n",
    "                     , IntegerType())\n",
    "df = df.withColumn('downgraded', flag_downgrade('page'))"
   ]
  },
  {
   "cell_type": "code",
   "execution_count": 22,
   "metadata": {},
   "outputs": [],
   "source": [
    "#Define window partition to tag all events prior to 'Cancellation Confirmation' or 'Submit Downgrade' event.\n",
    "windowval = Window.partitionBy('userId') \\\n",
    "                .orderBy(desc('ts')) \\\n",
    "                .rangeBetween(Window.unboundedPreceding,0)\n",
    "        \n",
    "df = df.withColumn('pre_cancelled_events',Fsum('cancelled').over(windowval))\n",
    "df = df.withColumn('pre_downgraded_events',Fsum('downgraded').over(windowval))"
   ]
  },
  {
   "cell_type": "markdown",
   "metadata": {},
   "source": [
    "Below looking at example sessions to track how the 'page' and above newly added columns transition from pre churn events through time."
   ]
  },
  {
   "cell_type": "code",
   "execution_count": 23,
   "metadata": {
    "scrolled": true
   },
   "outputs": [
    {
     "name": "stdout",
     "output_type": "stream",
     "text": [
      "+------+----------+-------------+----------------+-----+----------+---------------------+---------+--------------------+\n",
      "|userId| firstname|           ts|            page|level|downgraded|pre_downgraded_events|cancelled|pre_cancelled_events|\n",
      "+------+----------+-------------+----------------+-----+----------+---------------------+---------+--------------------+\n",
      "|    96|Alexandria|1541722970000|Submit Downgrade| paid|         1|                    1|        0|                   0|\n",
      "|    96|Alexandria|1541722969000|       Downgrade| paid|         0|                    1|        0|                   0|\n",
      "|    96|Alexandria|1541722956000|        NextSong| paid|         0|                    1|        0|                   0|\n",
      "|    96|Alexandria|1541722674000|        NextSong| paid|         0|                    1|        0|                   0|\n",
      "|    96|Alexandria|1541722415000|        NextSong| paid|         0|                    1|        0|                   0|\n",
      "|    96|Alexandria|1541722188000|        NextSong| paid|         0|                    1|        0|                   0|\n",
      "|    96|Alexandria|1541721975000| Add to Playlist| paid|         0|                    1|        0|                   0|\n",
      "|    96|Alexandria|1541721965000|        NextSong| paid|         0|                    1|        0|                   0|\n",
      "|    96|Alexandria|1541721749000|        NextSong| paid|         0|                    1|        0|                   0|\n",
      "|    96|Alexandria|1541721472000|        NextSong| paid|         0|                    1|        0|                   0|\n",
      "+------+----------+-------------+----------------+-----+----------+---------------------+---------+--------------------+\n",
      "only showing top 10 rows\n",
      "\n"
     ]
    }
   ],
   "source": [
    "#Example user pre_downgraded_events\n",
    "df.select(['userId','firstname','ts','page','level','downgraded',\n",
    "           'pre_downgraded_events','cancelled','pre_cancelled_events'\n",
    "          ]) \\\n",
    "        .where(df.pre_downgraded_events=='1') \\\n",
    "        .sort(['userId','ts'], ascending=False) \\\n",
    "        .dropDuplicates().show(10)"
   ]
  },
  {
   "cell_type": "code",
   "execution_count": 24,
   "metadata": {
    "scrolled": true
   },
   "outputs": [
    {
     "name": "stdout",
     "output_type": "stream",
     "text": [
      "+------+---------+-------------+--------------------+-----+----------+---------------------+---------+--------------------+\n",
      "|userId|firstname|           ts|                page|level|downgraded|pre_downgraded_events|cancelled|pre_cancelled_events|\n",
      "+------+---------+-------------+--------------------+-----+----------+---------------------+---------+--------------------+\n",
      "|    87|Christian|1540050556000|Cancellation Conf...| paid|         0|                    0|        1|                   1|\n",
      "|    87|Christian|1540050538000|              Cancel| paid|         0|                    0|        0|                   1|\n",
      "|    87|Christian|1540050537000|           Downgrade| paid|         0|                    0|        0|                   1|\n",
      "|    87|Christian|1540050464000|            NextSong| paid|         0|                    0|        0|                   1|\n",
      "|    87|Christian|1540050304000|            NextSong| paid|         0|                    0|        0|                   1|\n",
      "|    87|Christian|1540050062000|            NextSong| paid|         0|                    0|        0|                   1|\n",
      "|    87|Christian|1540049846000|         Thumbs Down| paid|         0|                    0|        0|                   1|\n",
      "|    87|Christian|1540049845000|            NextSong| paid|         0|                    0|        0|                   1|\n",
      "|    87|Christian|1540049628000|            NextSong| paid|         0|                    0|        0|                   1|\n",
      "|    87|Christian|1540049391000|            NextSong| paid|         0|                    0|        0|                   1|\n",
      "|    87|Christian|1540049014000|            NextSong| paid|         0|                    0|        0|                   1|\n",
      "|    87|Christian|1540048879000|            NextSong| paid|         0|                    0|        0|                   1|\n",
      "|    87|Christian|1540048531000|            NextSong| paid|         0|                    0|        0|                   1|\n",
      "|    87|Christian|1540048382000|            NextSong| paid|         0|                    0|        0|                   1|\n",
      "|    87|Christian|1540048183000|            NextSong| paid|         0|                    0|        0|                   1|\n",
      "|    87|Christian|1540047963000|            NextSong| paid|         0|                    0|        0|                   1|\n",
      "|    87|Christian|1540047756000|            NextSong| paid|         0|                    0|        0|                   1|\n",
      "|    87|Christian|1540047503000|            NextSong| paid|         0|                    0|        0|                   1|\n",
      "|    87|Christian|1540047243000|            NextSong| paid|         0|                    0|        0|                   1|\n",
      "|    87|Christian|1540046985000|           Thumbs Up| paid|         0|                    0|        0|                   1|\n",
      "+------+---------+-------------+--------------------+-----+----------+---------------------+---------+--------------------+\n",
      "only showing top 20 rows\n",
      "\n"
     ]
    }
   ],
   "source": [
    "#Example user pre_cancelled_events\n",
    "df.select(['userId','firstname','ts','page','level','downgraded',\n",
    "           'pre_downgraded_events','cancelled','pre_cancelled_events']) \\\n",
    "        .where(df.pre_cancelled_events=='1') \\\n",
    "        .sort(['userId','ts'], ascending=False) \\\n",
    "        .dropDuplicates().show()"
   ]
  },
  {
   "cell_type": "markdown",
   "metadata": {},
   "source": [
    "Checking that downgrade submission results in a change from paid tier to free tier."
   ]
  },
  {
   "cell_type": "code",
   "execution_count": 25,
   "metadata": {},
   "outputs": [],
   "source": [
    "#Create lists of downgraded and cancelled users\n",
    "downgraded_users = [int(row.userId) for row in df.select('userId').where(\n",
    "    df.page=='Submit Downgrade').dropDuplicates().collect()]\n",
    "\n",
    "cancelled_users = [int(row.userId) for row in df.select('userId').where(\n",
    "    df.page=='Cancellation Confirmation').dropDuplicates().collect()]"
   ]
  },
  {
   "cell_type": "code",
   "execution_count": 26,
   "metadata": {},
   "outputs": [
    {
     "data": {
      "text/plain": [
       "[54, 11, 30, 59, 85]"
      ]
     },
     "execution_count": 26,
     "metadata": {},
     "output_type": "execute_result"
    }
   ],
   "source": [
    "downgraded_users[:5]"
   ]
  },
  {
   "cell_type": "markdown",
   "metadata": {},
   "source": [
    "Pivoting on tier 'level' for downgraded users."
   ]
  },
  {
   "cell_type": "code",
   "execution_count": 27,
   "metadata": {
    "scrolled": true
   },
   "outputs": [],
   "source": [
    "others_pivot = df.select('userId','level').dropDuplicates() \\\n",
    "    .filter(df.userId.isin(downgraded_users)) \\\n",
    "    .groupBy(\"userId\") \\\n",
    "    .pivot(\"level\") \\\n",
    "    .count()"
   ]
  },
  {
   "cell_type": "code",
   "execution_count": 28,
   "metadata": {},
   "outputs": [
    {
     "name": "stdout",
     "output_type": "stream",
     "text": [
      "+------+----+----+\n",
      "|userId|free|paid|\n",
      "+------+----+----+\n",
      "|    54|   1|   1|\n",
      "|    11|   1|   1|\n",
      "|    30|   1|   1|\n",
      "|    59|   1|   1|\n",
      "|    85|   1|   1|\n",
      "+------+----+----+\n",
      "only showing top 5 rows\n",
      "\n"
     ]
    }
   ],
   "source": [
    "others_pivot.show(5)"
   ]
  },
  {
   "cell_type": "markdown",
   "metadata": {},
   "source": [
    "From above, downgraded users appear to change to free tier since these users have both paid and free records."
   ]
  },
  {
   "cell_type": "markdown",
   "metadata": {},
   "source": [
    "Free only users should be excluded from the model since we are not really interested in users we are not making money from. They can be targetted with a specific sales campaign."
   ]
  },
  {
   "cell_type": "code",
   "execution_count": 29,
   "metadata": {},
   "outputs": [],
   "source": [
    "#Created an others_pivot for user not in the above downgraded or cancelled users lists\n",
    "others_pivot = df.select('userId','level').dropDuplicates() \\\n",
    "    .filter(~df.userId.isin(downgraded_users)&~df.userId.isin(cancelled_users)) \\\n",
    "    .groupBy(\"userId\") \\\n",
    "    .pivot(\"level\") \\\n",
    "    .count()\n",
    "\n",
    "#Of these other users free only users are ones who have no paid tier records\n",
    "free_only_users = [int(row.userId) for row in others_pivot.select('userId').where(\n",
    "    others_pivot.paid.isNull()).collect()]"
   ]
  },
  {
   "cell_type": "code",
   "execution_count": 30,
   "metadata": {},
   "outputs": [
    {
     "data": {
      "text/plain": [
       "[100010, 7, 154, 112, 64]"
      ]
     },
     "execution_count": 30,
     "metadata": {},
     "output_type": "execute_result"
    }
   ],
   "source": [
    "free_only_users[:5]"
   ]
  },
  {
   "cell_type": "markdown",
   "metadata": {},
   "source": [
    "Add add new column 'user_type' to distingish between downgraded, cancelled, free only, and other paying users."
   ]
  },
  {
   "cell_type": "code",
   "execution_count": 31,
   "metadata": {},
   "outputs": [],
   "source": [
    "df = df.withColumn('user_type', \\\n",
    "    when(df.userId.isin(downgraded_users),lit('downgraded')) \\\n",
    "    .when(df.userId.isin(cancelled_users),lit('cancelled')) \\\n",
    "    .when(df.userId.isin(free_only_users),lit('free only')) \\\n",
    "     .otherwise(lit('paying')) )"
   ]
  },
  {
   "cell_type": "markdown",
   "metadata": {},
   "source": [
    "Create new 'churn' column to use as model label."
   ]
  },
  {
   "cell_type": "code",
   "execution_count": 32,
   "metadata": {},
   "outputs": [],
   "source": [
    "df = df.withColumn('churn', \\\n",
    "    when(df.userId.isin(downgraded_users),lit(1)) \\\n",
    "    .when(df.userId.isin(cancelled_users),lit(1)) \\\n",
    "    .otherwise(lit(0)) )"
   ]
  },
  {
   "cell_type": "markdown",
   "metadata": {},
   "source": [
    "### Explore Data\n",
    "Once you've defined cancelled, perform some exploratory data analysis to observe the behavior for users who stayed vs users who cancelled. You can start by exploring aggregates on these two groups of users, observing how much of a specific action they experienced per a certain time unit or number of songs played."
   ]
  },
  {
   "cell_type": "markdown",
   "metadata": {},
   "source": [
    "Looking at an example of a user who downgraded, to see if there are any obvious patterns in interactions before downgrading."
   ]
  },
  {
   "cell_type": "code",
   "execution_count": 33,
   "metadata": {},
   "outputs": [
    {
     "data": {
      "text/plain": [
       "201"
      ]
     },
     "execution_count": 33,
     "metadata": {},
     "output_type": "execute_result"
    }
   ],
   "source": [
    "#Check the number of records for this example user so that I can show() all records\n",
    "df.select(['userId','firstname','sessionId','ts','page','level','downgraded',\n",
    "           'pre_downgraded_events']) \\\n",
    "        .where((df.userId=='11') & (df.page!='NextSong')) \\\n",
    "        .sort('ts', ascending=False).count()"
   ]
  },
  {
   "cell_type": "code",
   "execution_count": 34,
   "metadata": {
    "scrolled": true
   },
   "outputs": [
    {
     "name": "stdout",
     "output_type": "stream",
     "text": [
      "+------+---------+---------+-------------+----------------+-----+----------+---------------------+\n",
      "|userId|firstname|sessionId|           ts|            page|level|downgraded|pre_downgraded_events|\n",
      "+------+---------+---------+-------------+----------------+-----+----------+---------------------+\n",
      "|    11|      Zoe|     2092|1543308850000|       Thumbs Up| paid|         0|                    0|\n",
      "|    11|      Zoe|     2092|1543308631000|       Thumbs Up| paid|         0|                    0|\n",
      "|    11|      Zoe|     2092|1543306154000|       Thumbs Up| paid|         0|                    0|\n",
      "|    11|      Zoe|     2092|1543305128000| Add to Playlist| paid|         0|                    0|\n",
      "|    11|      Zoe|     2016|1542667700000|       Thumbs Up| paid|         0|                    0|\n",
      "|    11|      Zoe|     2016|1542664926000|            Home| paid|         0|                    0|\n",
      "|    11|      Zoe|     2016|1542664189000|       Downgrade| paid|         0|                    0|\n",
      "|    11|      Zoe|     2016|1542664172000|       Downgrade| paid|         0|                    0|\n",
      "|    11|      Zoe|     2016|1542662829000|            Home| paid|         0|                    0|\n",
      "|    11|      Zoe|     2016|1542662439000|     Thumbs Down| paid|         0|                    0|\n",
      "|    11|      Zoe|     2016|1542661759000|     Roll Advert| paid|         0|                    0|\n",
      "|    11|      Zoe|     2016|1542657932000|       Thumbs Up| paid|         0|                    0|\n",
      "|    11|      Zoe|     2016|1542657320000| Add to Playlist| paid|         0|                    0|\n",
      "|    11|      Zoe|     2016|1542657305000|       Thumbs Up| paid|         0|                    0|\n",
      "|    11|      Zoe|     2016|1542656660000|      Add Friend| paid|         0|                    0|\n",
      "|    11|      Zoe|     2016|1542656494000|           Error| paid|         0|                    0|\n",
      "|    11|      Zoe|     2016|1542656481000|        Settings| paid|         0|                    0|\n",
      "|    11|      Zoe|     2016|1542654281000|     Thumbs Down| paid|         0|                    0|\n",
      "|    11|      Zoe|     2016|1542654045000|       Thumbs Up| paid|         0|                    0|\n",
      "|    11|      Zoe|     2016|1542653877000|            Home| paid|         0|                    0|\n",
      "|    11|      Zoe|     2016|1542653830000|           About| paid|         0|                    0|\n",
      "|    11|      Zoe|     1824|1542406166000| Add to Playlist| paid|         0|                    0|\n",
      "|    11|      Zoe|     1824|1542405923000|            Home| paid|         0|                    0|\n",
      "|    11|      Zoe|     1824|1542405919000|           About| paid|         0|                    0|\n",
      "|    11|      Zoe|     1824|1542403606000| Add to Playlist| paid|         0|                    0|\n",
      "|    11|      Zoe|     1824|1542400207000|            Home| paid|         0|                    0|\n",
      "|    11|      Zoe|     1824|1542400205000|       Downgrade| paid|         0|                    0|\n",
      "|    11|      Zoe|     1824|1542398606000| Add to Playlist| paid|         0|                    0|\n",
      "|    11|      Zoe|     1824|1542393126000|       Downgrade| paid|         0|                    0|\n",
      "|    11|      Zoe|     1824|1542392699000| Add to Playlist| paid|         0|                    0|\n",
      "|    11|      Zoe|     1824|1542391617000| Add to Playlist| paid|         0|                    0|\n",
      "|    11|      Zoe|     1824|1542385964000|            Home| paid|         0|                    0|\n",
      "|    11|      Zoe|     1824|1542385909000|  Submit Upgrade| free|         0|                    0|\n",
      "|    11|      Zoe|     1824|1542385908000|         Upgrade| free|         0|                    0|\n",
      "|    11|      Zoe|     1824|1542385877000|         Upgrade| free|         0|                    0|\n",
      "|    11|      Zoe|     1824|1542381197000|       Thumbs Up| free|         0|                    0|\n",
      "|    11|      Zoe|     1824|1542380759000|            Home| free|         0|                    0|\n",
      "|    11|      Zoe|     1824|1542379940000|       Thumbs Up| free|         0|                    0|\n",
      "|    11|      Zoe|     1824|1542379455000|            Home| free|         0|                    0|\n",
      "|    11|      Zoe|     1824|1542379174000|     Roll Advert| free|         0|                    0|\n",
      "|    11|      Zoe|     1824|1542379155000|     Roll Advert| free|         0|                    0|\n",
      "|    11|      Zoe|     1824|1542378903000|     Roll Advert| free|         0|                    0|\n",
      "|    11|      Zoe|     1824|1542376538000| Add to Playlist| free|         0|                    0|\n",
      "|    11|      Zoe|     1824|1542376324000| Add to Playlist| free|         0|                    0|\n",
      "|    11|      Zoe|     1824|1542375297000|       Thumbs Up| free|         0|                    0|\n",
      "|    11|      Zoe|     1824|1542373248000|     Roll Advert| free|         0|                    0|\n",
      "|    11|      Zoe|     1824|1542372412000|       Thumbs Up| free|         0|                    0|\n",
      "|    11|      Zoe|     1824|1542371689000|     Thumbs Down| free|         0|                    0|\n",
      "|    11|      Zoe|     1824|1542370046000| Add to Playlist| free|         0|                    0|\n",
      "|    11|      Zoe|     1824|1542368042000|         Upgrade| free|         0|                    0|\n",
      "|    11|      Zoe|     1824|1542367477000|     Roll Advert| free|         0|                    0|\n",
      "|    11|      Zoe|     1824|1542365973000|     Roll Advert| free|         0|                    0|\n",
      "|    11|      Zoe|     1824|1542365708000|            Home| free|         0|                    0|\n",
      "|    11|      Zoe|     1824|1542365693000|          Logout| free|         0|                    0|\n",
      "|    11|      Zoe|     1824|1542364860000|     Roll Advert| free|         0|                    0|\n",
      "|    11|      Zoe|     1687|1541930196000|       Thumbs Up| free|         0|                    0|\n",
      "|    11|      Zoe|     1687|1541928856000|     Roll Advert| free|         0|                    0|\n",
      "|    11|      Zoe|     1687|1541928255000|            Home| free|         0|                    0|\n",
      "|    11|      Zoe|     1687|1541927847000|         Upgrade| free|         0|                    0|\n",
      "|    11|      Zoe|     1687|1541927442000|      Add Friend| free|         0|                    0|\n",
      "|    11|      Zoe|     1687|1541926122000|       Thumbs Up| free|         0|                    0|\n",
      "|    11|      Zoe|     1687|1541925372000|     Roll Advert| free|         0|                    0|\n",
      "|    11|      Zoe|     1687|1541925039000|            Home| free|         0|                    0|\n",
      "|    11|      Zoe|     1687|1541924899000|     Roll Advert| free|         0|                    0|\n",
      "|    11|      Zoe|     1687|1541923232000|            Home| free|         0|                    0|\n",
      "|    11|      Zoe|     1633|1541567769000|          Logout| free|         0|                    0|\n",
      "|    11|      Zoe|     1633|1541567638000|       Thumbs Up| free|         0|                    0|\n",
      "|    11|      Zoe|     1633|1541567488000|            Home| free|         0|                    0|\n",
      "|    11|      Zoe|     1633|1541567464000|          Logout| free|         0|                    0|\n",
      "|    11|      Zoe|     1633|1541567213000|         Upgrade| free|         0|                    0|\n",
      "|    11|      Zoe|     1633|1541567067000|            Home| free|         0|                    0|\n",
      "|    11|      Zoe|     1633|1541567063000|   Save Settings| free|         0|                    0|\n",
      "|    11|      Zoe|     1633|1541567062000|        Settings| free|         0|                    0|\n",
      "|    11|      Zoe|     1633|1541566856000|     Roll Advert| free|         0|                    0|\n",
      "|    11|      Zoe|     1633|1541566337000|       Thumbs Up| free|         0|                    0|\n",
      "|    11|      Zoe|     1633|1541564892000|       Thumbs Up| free|         0|                    0|\n",
      "|    11|      Zoe|     1633|1541564045000|     Roll Advert| free|         0|                    0|\n",
      "|    11|      Zoe|     1547|1541435166000|            Home| free|         0|                    0|\n",
      "|    11|      Zoe|     1547|1541434561000|         Upgrade| free|         0|                    0|\n",
      "|    11|      Zoe|     1547|1541434506000|       Thumbs Up| free|         0|                    0|\n",
      "|    11|      Zoe|     1547|1541432369000|       Thumbs Up| free|         0|                    0|\n",
      "|    11|      Zoe|     1547|1541432042000|       Thumbs Up| free|         0|                    0|\n",
      "|    11|      Zoe|     1547|1541430970000|     Roll Advert| free|         0|                    0|\n",
      "|    11|      Zoe|     1547|1541430694000|     Roll Advert| free|         0|                    0|\n",
      "|    11|      Zoe|     1547|1541430667000|            Home| free|         0|                    0|\n",
      "|    11|      Zoe|     1547|1541430641000|          Logout| free|         0|                    0|\n",
      "|    11|      Zoe|     1547|1541430524000|       Thumbs Up| free|         0|                    0|\n",
      "|    11|      Zoe|     1547|1541430217000|       Thumbs Up| free|         0|                    0|\n",
      "|    11|      Zoe|     1547|1541429786000| Add to Playlist| free|         0|                    0|\n",
      "|    11|      Zoe|     1547|1541429785000|       Thumbs Up| free|         0|                    0|\n",
      "|    11|      Zoe|     1547|1541429131000|     Roll Advert| free|         0|                    0|\n",
      "|    11|      Zoe|     1452|1541167182000|        Settings| free|         0|                    0|\n",
      "|    11|      Zoe|     1452|1541167169000|            Home| free|         0|                    0|\n",
      "|    11|      Zoe|     1452|1541167111000|          Logout| free|         0|                    0|\n",
      "|    11|      Zoe|     1452|1541166804000|         Upgrade| free|         0|                    0|\n",
      "|    11|      Zoe|     1452|1541166050000|     Roll Advert| free|         0|                    0|\n",
      "|    11|      Zoe|     1452|1541164091000|       Thumbs Up| free|         0|                    0|\n",
      "|    11|      Zoe|     1452|1541162681000|       Thumbs Up| free|         0|                    0|\n",
      "|    11|      Zoe|     1452|1541162333000|        Settings| free|         0|                    0|\n",
      "|    11|      Zoe|     1452|1541162329000|            Help| free|         0|                    0|\n",
      "|    11|      Zoe|     1452|1541162300000| Add to Playlist| free|         0|                    0|\n",
      "|    11|      Zoe|     1452|1541161083000| Add to Playlist| free|         0|                    0|\n",
      "|    11|      Zoe|     1452|1541160334000|           About| free|         0|                    0|\n",
      "|    11|      Zoe|     1452|1541160333000|        Settings| free|         0|                    0|\n",
      "|    11|      Zoe|     1452|1541160290000|      Add Friend| free|         0|                    0|\n",
      "|    11|      Zoe|     1452|1541159508000|     Roll Advert| free|         0|                    0|\n",
      "|    11|      Zoe|     1452|1541159278000| Add to Playlist| free|         0|                    0|\n",
      "|    11|      Zoe|     1452|1541157257000|           About| free|         0|                    0|\n",
      "|    11|      Zoe|     1452|1541157250000|      Add Friend| free|         0|                    0|\n",
      "|    11|      Zoe|     1452|1541157102000| Add to Playlist| free|         0|                    0|\n",
      "|    11|      Zoe|     1452|1541156904000|     Thumbs Down| free|         0|                    0|\n",
      "|    11|      Zoe|     1452|1541155898000|            Home| free|         0|                    0|\n",
      "|    11|      Zoe|     1452|1541155898000|            Help| free|         0|                    0|\n",
      "|    11|      Zoe|     1452|1541155233000|       Thumbs Up| free|         0|                    0|\n",
      "|    11|      Zoe|     1452|1541154980000| Add to Playlist| free|         0|                    0|\n",
      "|    11|      Zoe|     1452|1541154534000|            Home| free|         0|                    0|\n",
      "|    11|      Zoe|     1404|1540946667000|     Roll Advert| free|         0|                    0|\n",
      "|    11|      Zoe|     1404|1540945873000|       Thumbs Up| free|         0|                    0|\n",
      "|    11|      Zoe|     1404|1540945470000|           About| free|         0|                    0|\n",
      "|    11|      Zoe|     1404|1540944771000|     Roll Advert| free|         0|                    0|\n",
      "|    11|      Zoe|     1404|1540942480000| Add to Playlist| free|         0|                    0|\n",
      "|    11|      Zoe|     1404|1540942195000|      Add Friend| free|         0|                    0|\n",
      "|    11|      Zoe|     1404|1540941483000|            Home| free|         0|                    0|\n",
      "|    11|      Zoe|     1404|1540940749000|       Thumbs Up| free|         0|                    0|\n",
      "|    11|      Zoe|     1404|1540940449000|       Thumbs Up| free|         0|                    0|\n",
      "|    11|      Zoe|     1404|1540940251000| Add to Playlist| free|         0|                    0|\n",
      "|    11|      Zoe|     1404|1540939568000|     Thumbs Down| free|         0|                    0|\n",
      "|    11|      Zoe|     1404|1540937519000|       Thumbs Up| free|         0|                    0|\n",
      "|    11|      Zoe|     1388|1540848244000|            Home| free|         0|                    0|\n",
      "|    11|      Zoe|     1388|1540848198000|          Logout| free|         0|                    0|\n",
      "|    11|      Zoe|     1388|1540847610000|     Roll Advert| free|         0|                    0|\n",
      "|    11|      Zoe|     1388|1540847325000|     Roll Advert| free|         0|                    0|\n",
      "|    11|      Zoe|     1388|1540846348000|            Home| free|         0|                    0|\n",
      "|    11|      Zoe|     1388|1540846316000|          Logout| free|         0|                    0|\n",
      "|    11|      Zoe|     1388|1540845921000|     Roll Advert| free|         0|                    0|\n",
      "|    11|      Zoe|     1388|1540844832000|     Thumbs Down| free|         0|                    0|\n",
      "|    11|      Zoe|     1388|1540844185000|            Home| free|         0|                    0|\n",
      "|    11|      Zoe|     1388|1540844141000|          Logout| free|         0|                    0|\n",
      "|    11|      Zoe|     1388|1540843209000|       Thumbs Up| free|         0|                    0|\n",
      "|    11|      Zoe|     1388|1540841143000|     Roll Advert| free|         0|                    0|\n",
      "|    11|      Zoe|     1388|1540840075000|         Upgrade| free|         0|                    0|\n",
      "|    11|      Zoe|     1388|1540838784000|     Thumbs Down| free|         0|                    0|\n",
      "|    11|      Zoe|     1388|1540837380000|     Roll Advert| free|         0|                    0|\n",
      "|    11|      Zoe|     1388|1540836911000|            Home| free|         0|                    0|\n",
      "|    11|      Zoe|     1388|1540836553000|      Add Friend| free|         0|                    0|\n",
      "|    11|      Zoe|     1388|1540836552000|           About| free|         0|                    0|\n",
      "|    11|      Zoe|     1388|1540836113000|     Roll Advert| free|         0|                    0|\n",
      "|    11|      Zoe|     1388|1540835842000|            Home| free|         0|                    0|\n",
      "|    11|      Zoe|     1388|1540835681000|            Home| free|         0|                    0|\n",
      "|    11|      Zoe|     1388|1540834352000|     Roll Advert| free|         0|                    0|\n",
      "|    11|      Zoe|     1388|1540834006000|     Roll Advert| free|         0|                    0|\n",
      "|    11|      Zoe|     1388|1540833786000|       Thumbs Up| free|         0|                    0|\n",
      "|    11|      Zoe|     1388|1540829082000|            Home| free|         0|                    0|\n",
      "|    11|      Zoe|     1350|1540825532000|          Logout| free|         0|                    0|\n",
      "|    11|      Zoe|     1350|1540825531000|     Roll Advert| free|         0|                    0|\n",
      "|    11|      Zoe|     1350|1540824232000|           About| free|         0|                    0|\n",
      "|    11|      Zoe|     1350|1540824227000|            Home| free|         0|                    0|\n",
      "|    11|      Zoe|     1265|1540713765000|          Logout| free|         0|                    0|\n",
      "|    11|      Zoe|     1265|1540713524000|     Roll Advert| free|         0|                    0|\n",
      "|    11|      Zoe|     1265|1540711502000|     Roll Advert| free|         0|                    0|\n",
      "|    11|      Zoe|      853|1540469055000|     Thumbs Down| free|         0|                    0|\n",
      "|    11|      Zoe|      853|1540467624000|       Thumbs Up| free|         0|                    0|\n",
      "|    11|      Zoe|      853|1540467610000|            Home| free|         0|                    0|\n",
      "|    11|      Zoe|      822|1539569675000|          Logout| free|         0|                    0|\n",
      "|    11|      Zoe|      822|1539568683000|     Roll Advert| free|         0|                    0|\n",
      "|    11|      Zoe|      822|1539568472000|            Home| free|         0|                    0|\n",
      "|    11|      Zoe|      822|1539568470000|          Logout| free|         0|                    0|\n",
      "|    11|      Zoe|      822|1539568288000|     Roll Advert| free|         0|                    0|\n",
      "|    11|      Zoe|      822|1539568038000|       Thumbs Up| free|         0|                    0|\n",
      "|    11|      Zoe|      822|1539563600000|       Thumbs Up| free|         0|                    0|\n",
      "|    11|      Zoe|      822|1539563417000|            Home| free|         0|                    0|\n",
      "|    11|      Zoe|      822|1539563414000|            Help| free|         0|                    0|\n",
      "|    11|      Zoe|      822|1539563398000|            Home| free|         0|                    0|\n",
      "|    11|      Zoe|      739|1539453905000|          Logout| free|         0|                    0|\n",
      "|    11|      Zoe|      739|1539451008000|     Roll Advert| free|         0|                    0|\n",
      "|    11|      Zoe|      739|1539450488000|       Thumbs Up| free|         0|                    0|\n",
      "|    11|      Zoe|      739|1539448682000|            Home| free|         0|                    0|\n",
      "|    11|      Zoe|      739|1539448671000|          Logout| free|         0|                    0|\n",
      "|    11|      Zoe|      739|1539448483000|     Roll Advert| free|         0|                    0|\n",
      "|    11|      Zoe|      739|1539447844000|       Thumbs Up| free|         0|                    0|\n",
      "|    11|      Zoe|      739|1539447506000|     Roll Advert| free|         0|                    0|\n",
      "|    11|      Zoe|      739|1539447092000|     Roll Advert| free|         0|                    0|\n",
      "|    11|      Zoe|      487|1539246268000|     Thumbs Down| free|         0|                    0|\n",
      "|    11|      Zoe|      487|1539245664000|     Roll Advert| free|         0|                    0|\n",
      "|    11|      Zoe|      487|1539244758000|       Thumbs Up| free|         0|                    0|\n",
      "|    11|      Zoe|      487|1539243160000|       Thumbs Up| free|         0|                    0|\n",
      "|    11|      Zoe|      487|1539242655000|       Thumbs Up| free|         0|                    0|\n",
      "|    11|      Zoe|      487|1539241941000| Add to Playlist| free|         0|                    0|\n",
      "|    11|      Zoe|      487|1539240664000|     Roll Advert| free|         0|                    0|\n",
      "|    11|      Zoe|      487|1539240220000|            Home| free|         0|                    0|\n",
      "|    11|      Zoe|      487|1539239749000|            Home| free|         0|                    0|\n",
      "|    11|      Zoe|      487|1539239742000|Submit Downgrade| paid|         1|                    1|\n",
      "|    11|      Zoe|      487|1539239741000|       Downgrade| paid|         0|                    1|\n",
      "|    11|      Zoe|      487|1539239522000| Add to Playlist| paid|         0|                    1|\n",
      "|    11|      Zoe|      487|1539239510000|       Thumbs Up| paid|         0|                    1|\n",
      "|    11|      Zoe|      487|1539237195000|            Home| paid|         0|                    1|\n",
      "|    11|      Zoe|      487|1539237191000|  Submit Upgrade| free|         0|                    1|\n",
      "|    11|      Zoe|      487|1539237190000|         Upgrade| free|         0|                    1|\n",
      "|    11|      Zoe|       10|1538710802000|   Save Settings| free|         0|                    1|\n",
      "|    11|      Zoe|       10|1538710801000|        Settings| free|         0|                    1|\n",
      "+------+---------+---------+-------------+----------------+-----+----------+---------------------+\n",
      "only showing top 200 rows\n",
      "\n"
     ]
    }
   ],
   "source": [
    "#Excluding NextSong from the sample to reduce records\n",
    "df.select(['userId','firstname','sessionId','ts','page','level','downgraded',\n",
    "           'pre_downgraded_events']) \\\n",
    "        .where((df.userId=='11') & (df.page!='NextSong')) \\\n",
    "        .sort('ts', ascending=False).show(200)"
   ]
  },
  {
   "cell_type": "markdown",
   "metadata": {},
   "source": [
    "Though the above user starts on a free tier before changing to a paid tier, they then do the opposite within the same session, visiting 'Downgrade' and 'Submit Downgrade'. All tagged as '1' within 'pre_downgraded_events'. \n",
    "\n",
    "This user then upgraded again a while later but it would not been within the scope of this project to consider future upgrades so will be ignored."
   ]
  },
  {
   "cell_type": "markdown",
   "metadata": {},
   "source": [
    "#### limit records for churned users\n",
    "To save time filtering/tidy up the code a bit I am creating 'df_sub' which is a subset of original df, limiting the user logs to those those pre-churn events I am interested (for churned users), all event logs are included for other users."
   ]
  },
  {
   "cell_type": "code",
   "execution_count": 35,
   "metadata": {},
   "outputs": [],
   "source": [
    "df_sub = df.filter(((df.user_type=='downgraded') & (df.pre_downgraded_events=='1')) | \n",
    "                        ((df.user_type=='cancelled') & (df.pre_cancelled_events=='1')) | \n",
    "                        (df.user_type.isin(['free only','paying'])))"
   ]
  },
  {
   "cell_type": "markdown",
   "metadata": {},
   "source": [
    "#### add 'upgrage date' column\n",
    "Where above I stated that future upgrades which take place after a user has churned are beyond the scope of this project, upgrades that take place prior might be relevant. Some platform will start their billing cycle at the point of upgrade to a paid, meaning that a day, week, month or year after that upgrade date would be when they were charged fo the service. I think that knowing the billing cycle could be very useful for the model as this could impact when paying users would decide to churn."
   ]
  },
  {
   "cell_type": "code",
   "execution_count": 36,
   "metadata": {
    "scrolled": true
   },
   "outputs": [
    {
     "name": "stdout",
     "output_type": "stream",
     "text": [
      "+------+----------+------------+\n",
      "|userId| user_type|upgrade_date|\n",
      "+------+----------+------------+\n",
      "|200002|    paying|  2018-10-18|\n",
      "|   155|    paying|  2018-11-09|\n",
      "|   132|    paying|  2018-10-02|\n",
      "|   101| cancelled|  2018-10-02|\n",
      "|    11|downgraded|  2018-10-11|\n",
      "|   138|    paying|  2018-10-22|\n",
      "|    29| cancelled|  2018-10-08|\n",
      "|    69|    paying|  2018-10-07|\n",
      "|    42|    paying|  2018-10-07|\n",
      "|    73| cancelled|  2018-10-03|\n",
      "|    87| cancelled|  2018-10-20|\n",
      "|   113|    paying|  2018-10-03|\n",
      "|    59|downgraded|  2018-10-05|\n",
      "|   139|    paying|  2018-11-01|\n",
      "|    28| cancelled|  2018-10-29|\n",
      "|300018|    paying|  2018-10-15|\n",
      "|300012|    paying|  2018-10-05|\n",
      "|    85|downgraded|  2018-10-20|\n",
      "|    16|    paying|  2018-10-04|\n",
      "|    35|downgraded|  2018-10-25|\n",
      "+------+----------+------------+\n",
      "only showing top 20 rows\n",
      "\n"
     ]
    }
   ],
   "source": [
    "df_sub.where(df_sub.page=='Submit Upgrade') \\\n",
    "        .groupBy('userId','user_type') \\\n",
    "        .agg(max('date').alias('upgrade_date')).show()"
   ]
  },
  {
   "cell_type": "code",
   "execution_count": 37,
   "metadata": {},
   "outputs": [],
   "source": [
    "#Join df_sub with a new upgrade_date column showing the last 'Submit Upgrade' date per user\n",
    "df_sub = df_sub.join(df_sub.where(df_sub.page=='Submit Upgrade') \\\n",
    "        .groupBy('userId') \\\n",
    "        .agg(max('date').alias('upgrade_date')), on=['userId'], how='left')"
   ]
  },
  {
   "cell_type": "markdown",
   "metadata": {},
   "source": [
    "At this point I have noticed that because not every user has a Submit Upgrade event with this mini dataset there will be some NaNs in the above new column, which is why I uses a 'left' join and not an 'inner' join.\n",
    "\n",
    "This may cause me an issue later on when I attempt to calculate how many days there are between the upgrade date and last recorded interaction, per user. To solve this I will add a proxy date (datetime.date(1900, 1, 1)) that I produce a huge date variance which can easily be excluded from any graphs or queries."
   ]
  },
  {
   "cell_type": "code",
   "execution_count": 44,
   "metadata": {},
   "outputs": [],
   "source": [
    "#Add new column to summary to calculate the number of days since upgrading\n",
    "df_sub = df_sub.withColumn('upgrade_date',     \n",
    "                                       when(df_sub.upgrade_date.isNull(), \\\n",
    "                                            datetime.date(1900, 1, 1)) \\\n",
    "                                        .otherwise(df_sub.upgrade_date) \\\n",
    "                                       )"
   ]
  },
  {
   "cell_type": "code",
   "execution_count": 38,
   "metadata": {},
   "outputs": [
    {
     "data": {
      "text/plain": [
       "Row(userId='139', artist=None, auth='Logged In', firstName='Jaderion', gender='M', itemInSession=9, lastName='Clark', length=None, level='paid', location='Los Angeles-Long Beach-Anaheim, CA', method='PUT', page='Logout', registration=1535271638000, sessionId=1960, song=None, status=307, ts=1542825026000, userAgent='\"Mozilla/5.0 (iPhone; CPU iPhone OS 7_1 like Mac OS X) AppleWebKit/537.51.2 (KHTML, like Gecko) Version/7.0 Mobile/11D167 Safari/9537.53\"', year='2018', month='11', day='21', hour='18', date=datetime.date(2018, 11, 21), reg_year='2018', reg_month='8', reg_day='26', reg_date=datetime.date(2018, 8, 26), cancelled=0, downgraded=0, pre_cancelled_events=0, pre_downgraded_events=0, user_type='paying', churn=0, upgrade_date=datetime.date(2018, 11, 1))"
      ]
     },
     "execution_count": 38,
     "metadata": {},
     "output_type": "execute_result"
    }
   ],
   "source": [
    "df_sub.filter(df_sub.userId=='139').head()"
   ]
  },
  {
   "cell_type": "markdown",
   "metadata": {},
   "source": [
    "#### Summarizing data at user level\n",
    "\n",
    "Aggregating records per user to see if there are any overall patterns in behaviour across 'user_type's.\n",
    "\n",
    "Limited records to exclude post downgraded/cancelled events for those user-types, but included free only and other paying users to compare their behaviour vs churned users."
   ]
  },
  {
   "cell_type": "code",
   "execution_count": 39,
   "metadata": {},
   "outputs": [],
   "source": [
    "user_summary = df_sub \\\n",
    "    .groupBy('userId','user_type', 'reg_date','churn','upgrade_date') \\\n",
    "    .agg(max('date').alias('max_date'), \\\n",
    "         min('date').alias('min_date'), \\\n",
    "         countDistinct('sessionId').alias('cnt_sessionId'), \\\n",
    "         count('itemInSession').alias('cnt_itemInSession')) "
   ]
  },
  {
   "cell_type": "code",
   "execution_count": 40,
   "metadata": {},
   "outputs": [],
   "source": [
    "#Pivot page column to summarize the page visit data per user\n",
    "user_pivot = df_sub \\\n",
    "    .groupBy(\"userId\") \\\n",
    "    .pivot(\"page\") \\\n",
    "    .count()"
   ]
  },
  {
   "cell_type": "code",
   "execution_count": 41,
   "metadata": {},
   "outputs": [],
   "source": [
    "#Join the 2 together on userId\n",
    "user_summary = user_summary.join(user_pivot, on=['userId'], how='inner')"
   ]
  },
  {
   "cell_type": "markdown",
   "metadata": {},
   "source": [
    "Add new columns to 'user_summary' to calculate the length of membership to the sparkify before downgrading/cancelling, and to calculate the length of the event data date range, per user."
   ]
  },
  {
   "cell_type": "code",
   "execution_count": 42,
   "metadata": {},
   "outputs": [],
   "source": [
    "#Udfs to calculate the difference in days between 2 dates\n",
    "date_diff = udf(lambda x,y: x - y)\n",
    "delta_days = udf(lambda x: x.days)"
   ]
  },
  {
   "cell_type": "code",
   "execution_count": 43,
   "metadata": {},
   "outputs": [],
   "source": [
    "#Add new column to summary to calculate the length of membership to the sparkify before churning, or to current day\n",
    "col_diff = date_diff(user_summary.max_date, user_summary.reg_date)\n",
    "user_summary = user_summary.withColumn('days_membership', delta_days(col_diff) \\\n",
    "                                       .cast(IntegerType()))"
   ]
  },
  {
   "cell_type": "code",
   "execution_count": 45,
   "metadata": {},
   "outputs": [],
   "source": [
    "#Add new column to summary to calculate the number of days since upgrading\n",
    "col_diff = date_diff(user_summary.max_date, user_summary.upgrade_date)\n",
    "user_summary = user_summary.withColumn('days_since_upgrade',     \n",
    "                                       when(user_summary.upgrade_date.isNull(),lit(999)) \\\n",
    "                                        .otherwise(delta_days(col_diff)) \\\n",
    "                                       .cast(IntegerType()))"
   ]
  },
  {
   "cell_type": "code",
   "execution_count": 46,
   "metadata": {},
   "outputs": [],
   "source": [
    "#New column to calculate the length of the event data date range, per user \n",
    "col_diff = date_diff(user_summary.max_date, user_summary.min_date)\n",
    "user_summary = user_summary.withColumn('days_range', delta_days(col_diff) \\\n",
    "                                       .cast(IntegerType()))"
   ]
  },
  {
   "cell_type": "code",
   "execution_count": 47,
   "metadata": {},
   "outputs": [
    {
     "data": {
      "text/plain": [
       "Row(userId='7', user_type='free only', reg_date=datetime.date(2018, 9, 11), churn=0, upgrade_date=datetime.date(1900, 1, 1), max_date=datetime.date(2018, 11, 23), min_date=datetime.date(2018, 10, 3), cnt_sessionId=7, cnt_itemInSession=201, About=None, Add Friend=1, Add to Playlist=5, Cancel=None, Cancellation Confirmation=None, Downgrade=None, Error=1, Help=1, Home=10, Logout=3, NextSong=150, Roll Advert=16, Save Settings=1, Settings=3, Submit Downgrade=None, Submit Upgrade=None, Thumbs Down=1, Thumbs Up=7, Upgrade=2, days_membership=73, days_since_upgrade=43425, days_range=51)"
      ]
     },
     "execution_count": 47,
     "metadata": {},
     "output_type": "execute_result"
    }
   ],
   "source": [
    "user_summary.filter(user_summary.userId=='7').head()"
   ]
  },
  {
   "cell_type": "markdown",
   "metadata": {},
   "source": [
    "### Visualisations\n",
    "Convert to dataframe so that I can view graphs"
   ]
  },
  {
   "cell_type": "code",
   "execution_count": 49,
   "metadata": {},
   "outputs": [
    {
     "data": {
      "text/html": [
       "<div>\n",
       "<style scoped>\n",
       "    .dataframe tbody tr th:only-of-type {\n",
       "        vertical-align: middle;\n",
       "    }\n",
       "\n",
       "    .dataframe tbody tr th {\n",
       "        vertical-align: top;\n",
       "    }\n",
       "\n",
       "    .dataframe thead th {\n",
       "        text-align: right;\n",
       "    }\n",
       "</style>\n",
       "<table border=\"1\" class=\"dataframe\">\n",
       "  <thead>\n",
       "    <tr style=\"text-align: right;\">\n",
       "      <th></th>\n",
       "      <th>userId</th>\n",
       "      <th>user_type</th>\n",
       "      <th>reg_date</th>\n",
       "      <th>churn</th>\n",
       "      <th>upgrade_date</th>\n",
       "      <th>max_date</th>\n",
       "      <th>min_date</th>\n",
       "      <th>cnt_sessionId</th>\n",
       "      <th>cnt_itemInSession</th>\n",
       "      <th>About</th>\n",
       "      <th>...</th>\n",
       "      <th>Save Settings</th>\n",
       "      <th>Settings</th>\n",
       "      <th>Submit Downgrade</th>\n",
       "      <th>Submit Upgrade</th>\n",
       "      <th>Thumbs Down</th>\n",
       "      <th>Thumbs Up</th>\n",
       "      <th>Upgrade</th>\n",
       "      <th>days_membership</th>\n",
       "      <th>days_since_upgrade</th>\n",
       "      <th>days_range</th>\n",
       "    </tr>\n",
       "  </thead>\n",
       "  <tbody>\n",
       "    <tr>\n",
       "      <th>0</th>\n",
       "      <td>100010</td>\n",
       "      <td>free only</td>\n",
       "      <td>2018-09-27</td>\n",
       "      <td>0</td>\n",
       "      <td>1900-01-01</td>\n",
       "      <td>2018-11-21</td>\n",
       "      <td>2018-10-08</td>\n",
       "      <td>7</td>\n",
       "      <td>381</td>\n",
       "      <td>1.0</td>\n",
       "      <td>...</td>\n",
       "      <td>NaN</td>\n",
       "      <td>NaN</td>\n",
       "      <td>NaN</td>\n",
       "      <td>NaN</td>\n",
       "      <td>5.0</td>\n",
       "      <td>17.0</td>\n",
       "      <td>2.0</td>\n",
       "      <td>55</td>\n",
       "      <td>43423</td>\n",
       "      <td>44</td>\n",
       "    </tr>\n",
       "    <tr>\n",
       "      <th>1</th>\n",
       "      <td>200002</td>\n",
       "      <td>paying</td>\n",
       "      <td>2018-09-06</td>\n",
       "      <td>0</td>\n",
       "      <td>2018-10-18</td>\n",
       "      <td>2018-11-15</td>\n",
       "      <td>2018-10-01</td>\n",
       "      <td>6</td>\n",
       "      <td>474</td>\n",
       "      <td>3.0</td>\n",
       "      <td>...</td>\n",
       "      <td>NaN</td>\n",
       "      <td>3.0</td>\n",
       "      <td>NaN</td>\n",
       "      <td>1.0</td>\n",
       "      <td>6.0</td>\n",
       "      <td>21.0</td>\n",
       "      <td>2.0</td>\n",
       "      <td>70</td>\n",
       "      <td>28</td>\n",
       "      <td>45</td>\n",
       "    </tr>\n",
       "    <tr>\n",
       "      <th>2</th>\n",
       "      <td>125</td>\n",
       "      <td>cancelled</td>\n",
       "      <td>2018-08-01</td>\n",
       "      <td>1</td>\n",
       "      <td>1900-01-01</td>\n",
       "      <td>2018-10-12</td>\n",
       "      <td>2018-10-12</td>\n",
       "      <td>1</td>\n",
       "      <td>11</td>\n",
       "      <td>NaN</td>\n",
       "      <td>...</td>\n",
       "      <td>NaN</td>\n",
       "      <td>NaN</td>\n",
       "      <td>NaN</td>\n",
       "      <td>NaN</td>\n",
       "      <td>NaN</td>\n",
       "      <td>NaN</td>\n",
       "      <td>NaN</td>\n",
       "      <td>72</td>\n",
       "      <td>43383</td>\n",
       "      <td>0</td>\n",
       "    </tr>\n",
       "    <tr>\n",
       "      <th>3</th>\n",
       "      <td>124</td>\n",
       "      <td>paying</td>\n",
       "      <td>2018-07-22</td>\n",
       "      <td>0</td>\n",
       "      <td>1900-01-01</td>\n",
       "      <td>2018-11-30</td>\n",
       "      <td>2018-10-01</td>\n",
       "      <td>29</td>\n",
       "      <td>4825</td>\n",
       "      <td>7.0</td>\n",
       "      <td>...</td>\n",
       "      <td>6.0</td>\n",
       "      <td>20.0</td>\n",
       "      <td>NaN</td>\n",
       "      <td>NaN</td>\n",
       "      <td>41.0</td>\n",
       "      <td>171.0</td>\n",
       "      <td>NaN</td>\n",
       "      <td>131</td>\n",
       "      <td>43432</td>\n",
       "      <td>60</td>\n",
       "    </tr>\n",
       "    <tr>\n",
       "      <th>4</th>\n",
       "      <td>51</td>\n",
       "      <td>cancelled</td>\n",
       "      <td>2018-09-27</td>\n",
       "      <td>1</td>\n",
       "      <td>1900-01-01</td>\n",
       "      <td>2018-10-17</td>\n",
       "      <td>2018-10-01</td>\n",
       "      <td>10</td>\n",
       "      <td>2464</td>\n",
       "      <td>2.0</td>\n",
       "      <td>...</td>\n",
       "      <td>1.0</td>\n",
       "      <td>12.0</td>\n",
       "      <td>NaN</td>\n",
       "      <td>NaN</td>\n",
       "      <td>21.0</td>\n",
       "      <td>100.0</td>\n",
       "      <td>NaN</td>\n",
       "      <td>20</td>\n",
       "      <td>43388</td>\n",
       "      <td>16</td>\n",
       "    </tr>\n",
       "  </tbody>\n",
       "</table>\n",
       "<p>5 rows × 31 columns</p>\n",
       "</div>"
      ],
      "text/plain": [
       "   userId  user_type    reg_date  churn upgrade_date    max_date    min_date  \\\n",
       "0  100010  free only  2018-09-27      0   1900-01-01  2018-11-21  2018-10-08   \n",
       "1  200002     paying  2018-09-06      0   2018-10-18  2018-11-15  2018-10-01   \n",
       "2     125  cancelled  2018-08-01      1   1900-01-01  2018-10-12  2018-10-12   \n",
       "3     124     paying  2018-07-22      0   1900-01-01  2018-11-30  2018-10-01   \n",
       "4      51  cancelled  2018-09-27      1   1900-01-01  2018-10-17  2018-10-01   \n",
       "\n",
       "   cnt_sessionId  cnt_itemInSession  About     ...      Save Settings  \\\n",
       "0              7                381    1.0     ...                NaN   \n",
       "1              6                474    3.0     ...                NaN   \n",
       "2              1                 11    NaN     ...                NaN   \n",
       "3             29               4825    7.0     ...                6.0   \n",
       "4             10               2464    2.0     ...                1.0   \n",
       "\n",
       "   Settings  Submit Downgrade  Submit Upgrade  Thumbs Down  Thumbs Up  \\\n",
       "0       NaN               NaN             NaN          5.0       17.0   \n",
       "1       3.0               NaN             1.0          6.0       21.0   \n",
       "2       NaN               NaN             NaN          NaN        NaN   \n",
       "3      20.0               NaN             NaN         41.0      171.0   \n",
       "4      12.0               NaN             NaN         21.0      100.0   \n",
       "\n",
       "   Upgrade  days_membership  days_since_upgrade  days_range  \n",
       "0      2.0               55               43423          44  \n",
       "1      2.0               70                  28          45  \n",
       "2      NaN               72               43383           0  \n",
       "3      NaN              131               43432          60  \n",
       "4      NaN               20               43388          16  \n",
       "\n",
       "[5 rows x 31 columns]"
      ]
     },
     "execution_count": 49,
     "metadata": {},
     "output_type": "execute_result"
    }
   ],
   "source": [
    "user_summary_pd = user_summary.toPandas()\n",
    "user_summary_pd.head()"
   ]
  },
  {
   "cell_type": "code",
   "execution_count": 50,
   "metadata": {},
   "outputs": [
    {
     "data": {
      "text/plain": [
       "(225, 31)"
      ]
     },
     "execution_count": 50,
     "metadata": {},
     "output_type": "execute_result"
    }
   ],
   "source": [
    "user_summary_pd.shape"
   ]
  },
  {
   "cell_type": "markdown",
   "metadata": {},
   "source": [
    "#### Replace all NaNs\n",
    "Replace all NaNs with 0 since in these cases NaN means that the user has visited that page 0 times."
   ]
  },
  {
   "cell_type": "code",
   "execution_count": 51,
   "metadata": {},
   "outputs": [],
   "source": [
    "user_summary_pd = user_summary_pd.fillna(0)"
   ]
  },
  {
   "cell_type": "markdown",
   "metadata": {},
   "source": [
    "Comparing the number of users per 'user_type' below, paying users (or users who do not fall into the other 3 categories have the highest number, while the other user_types have roughly the same number."
   ]
  },
  {
   "cell_type": "code",
   "execution_count": 52,
   "metadata": {
    "scrolled": true
   },
   "outputs": [
    {
     "data": {
      "image/png": "[encoded data removed]",
      "text/plain": [
       "<matplotlib.figure.Figure at 0x7fc34f779e10>"
      ]
     },
     "metadata": {
      "needs_background": "light"
     },
     "output_type": "display_data"
    }
   ],
   "source": [
    "plt.hist(user_summary_pd.user_type)\n",
    "plt.title('Total users per UserType'); "
   ]
  },
  {
   "cell_type": "markdown",
   "metadata": {},
   "source": [
    "Create a correlation matrix to see if there is any obvious correlation between 'churn' and the other columns at the total summary level."
   ]
  },
  {
   "cell_type": "code",
   "execution_count": 53,
   "metadata": {},
   "outputs": [],
   "source": [
    "cols = ['cnt_sessionId','cnt_itemInSession','About','Add Friend','Add to Playlist',\n",
    "            'Cancel','Cancellation Confirmation','Submit Downgrade',\n",
    "            'Downgrade','Error','Help','Home','Logout','NextSong','Roll Advert',\n",
    "            'Save Settings','Settings','Submit Upgrade','Thumbs Down','Thumbs Up',\n",
    "            'Upgrade','days_membership','days_range','days_since_upgrade', 'churn']"
   ]
  },
  {
   "cell_type": "code",
   "execution_count": 54,
   "metadata": {},
   "outputs": [
    {
     "data": {
      "image/png": "[encoded data removed]",
      "text/plain": [
       "<matplotlib.figure.Figure at 0x7fc34fa7cc18>"
      ]
     },
     "metadata": {
      "needs_background": "light"
     },
     "output_type": "display_data"
    }
   ],
   "source": [
    "fig, ax = plt.subplots(figsize=(12,8))\n",
    "ax = sns.heatmap(user_summary_pd[cols].corr(), cmap=\"YlGnBu\")\n",
    "ax.set_title(\"Correlation Matrix - Based On Total User Interactions\")\n",
    "plt.tight_layout()\n",
    "plt.show()"
   ]
  },
  {
   "cell_type": "markdown",
   "metadata": {},
   "source": [
    "'churn' has high correlation to 'Cancel', 'Cancellation Confirmation' and 'Submit Downgrade', obviously since it is derived from these columns, but only very weak correlation to other columns.\n",
    "\n",
    "There is a high number of other columns with strong correlation to each other but I suspect time is factor here so averaging over time might weaken the correlation in some cases."
   ]
  },
  {
   "cell_type": "markdown",
   "metadata": {},
   "source": [
    "#### user_summary_pd_per_day\n",
    "Create a new dataframe averaging all interactions per user across the dateset. This should normalise the users so that I can compare different types of users regardless of the length of membership or when they churned."
   ]
  },
  {
   "cell_type": "code",
   "execution_count": 55,
   "metadata": {},
   "outputs": [
    {
     "data": {
      "text/html": [
       "<div>\n",
       "<style scoped>\n",
       "    .dataframe tbody tr th:only-of-type {\n",
       "        vertical-align: middle;\n",
       "    }\n",
       "\n",
       "    .dataframe tbody tr th {\n",
       "        vertical-align: top;\n",
       "    }\n",
       "\n",
       "    .dataframe thead th {\n",
       "        text-align: right;\n",
       "    }\n",
       "</style>\n",
       "<table border=\"1\" class=\"dataframe\">\n",
       "  <thead>\n",
       "    <tr style=\"text-align: right;\">\n",
       "      <th></th>\n",
       "      <th>userId</th>\n",
       "      <th>user_type</th>\n",
       "      <th>reg_date</th>\n",
       "      <th>churn</th>\n",
       "      <th>upgrade_date</th>\n",
       "      <th>max_date</th>\n",
       "      <th>min_date</th>\n",
       "      <th>cnt_sessionId</th>\n",
       "      <th>cnt_itemInSession</th>\n",
       "      <th>About</th>\n",
       "      <th>...</th>\n",
       "      <th>Save Settings</th>\n",
       "      <th>Settings</th>\n",
       "      <th>Submit Downgrade</th>\n",
       "      <th>Submit Upgrade</th>\n",
       "      <th>Thumbs Down</th>\n",
       "      <th>Thumbs Up</th>\n",
       "      <th>Upgrade</th>\n",
       "      <th>days_membership</th>\n",
       "      <th>days_since_upgrade</th>\n",
       "      <th>days_range</th>\n",
       "    </tr>\n",
       "  </thead>\n",
       "  <tbody>\n",
       "    <tr>\n",
       "      <th>0</th>\n",
       "      <td>100010</td>\n",
       "      <td>free only</td>\n",
       "      <td>2018-09-27</td>\n",
       "      <td>0</td>\n",
       "      <td>1900-01-01</td>\n",
       "      <td>2018-11-21</td>\n",
       "      <td>2018-10-08</td>\n",
       "      <td>0.159091</td>\n",
       "      <td>8.659091</td>\n",
       "      <td>0.022727</td>\n",
       "      <td>...</td>\n",
       "      <td>0.0000</td>\n",
       "      <td>0.000000</td>\n",
       "      <td>0.0</td>\n",
       "      <td>0.000000</td>\n",
       "      <td>0.113636</td>\n",
       "      <td>0.386364</td>\n",
       "      <td>0.045455</td>\n",
       "      <td>55</td>\n",
       "      <td>43423</td>\n",
       "      <td>1.0</td>\n",
       "    </tr>\n",
       "    <tr>\n",
       "      <th>1</th>\n",
       "      <td>200002</td>\n",
       "      <td>paying</td>\n",
       "      <td>2018-09-06</td>\n",
       "      <td>0</td>\n",
       "      <td>2018-10-18</td>\n",
       "      <td>2018-11-15</td>\n",
       "      <td>2018-10-01</td>\n",
       "      <td>0.133333</td>\n",
       "      <td>10.533333</td>\n",
       "      <td>0.066667</td>\n",
       "      <td>...</td>\n",
       "      <td>0.0000</td>\n",
       "      <td>0.066667</td>\n",
       "      <td>0.0</td>\n",
       "      <td>0.022222</td>\n",
       "      <td>0.133333</td>\n",
       "      <td>0.466667</td>\n",
       "      <td>0.044444</td>\n",
       "      <td>70</td>\n",
       "      <td>28</td>\n",
       "      <td>1.0</td>\n",
       "    </tr>\n",
       "    <tr>\n",
       "      <th>2</th>\n",
       "      <td>125</td>\n",
       "      <td>cancelled</td>\n",
       "      <td>2018-08-01</td>\n",
       "      <td>1</td>\n",
       "      <td>1900-01-01</td>\n",
       "      <td>2018-10-12</td>\n",
       "      <td>2018-10-12</td>\n",
       "      <td>inf</td>\n",
       "      <td>inf</td>\n",
       "      <td>NaN</td>\n",
       "      <td>...</td>\n",
       "      <td>NaN</td>\n",
       "      <td>NaN</td>\n",
       "      <td>NaN</td>\n",
       "      <td>NaN</td>\n",
       "      <td>NaN</td>\n",
       "      <td>NaN</td>\n",
       "      <td>NaN</td>\n",
       "      <td>72</td>\n",
       "      <td>43383</td>\n",
       "      <td>NaN</td>\n",
       "    </tr>\n",
       "    <tr>\n",
       "      <th>3</th>\n",
       "      <td>124</td>\n",
       "      <td>paying</td>\n",
       "      <td>2018-07-22</td>\n",
       "      <td>0</td>\n",
       "      <td>1900-01-01</td>\n",
       "      <td>2018-11-30</td>\n",
       "      <td>2018-10-01</td>\n",
       "      <td>0.483333</td>\n",
       "      <td>80.416667</td>\n",
       "      <td>0.116667</td>\n",
       "      <td>...</td>\n",
       "      <td>0.1000</td>\n",
       "      <td>0.333333</td>\n",
       "      <td>0.0</td>\n",
       "      <td>0.000000</td>\n",
       "      <td>0.683333</td>\n",
       "      <td>2.850000</td>\n",
       "      <td>0.000000</td>\n",
       "      <td>131</td>\n",
       "      <td>43432</td>\n",
       "      <td>1.0</td>\n",
       "    </tr>\n",
       "    <tr>\n",
       "      <th>4</th>\n",
       "      <td>51</td>\n",
       "      <td>cancelled</td>\n",
       "      <td>2018-09-27</td>\n",
       "      <td>1</td>\n",
       "      <td>1900-01-01</td>\n",
       "      <td>2018-10-17</td>\n",
       "      <td>2018-10-01</td>\n",
       "      <td>0.625000</td>\n",
       "      <td>154.000000</td>\n",
       "      <td>0.125000</td>\n",
       "      <td>...</td>\n",
       "      <td>0.0625</td>\n",
       "      <td>0.750000</td>\n",
       "      <td>0.0</td>\n",
       "      <td>0.000000</td>\n",
       "      <td>1.312500</td>\n",
       "      <td>6.250000</td>\n",
       "      <td>0.000000</td>\n",
       "      <td>20</td>\n",
       "      <td>43388</td>\n",
       "      <td>1.0</td>\n",
       "    </tr>\n",
       "  </tbody>\n",
       "</table>\n",
       "<p>5 rows × 31 columns</p>\n",
       "</div>"
      ],
      "text/plain": [
       "   userId  user_type    reg_date  churn upgrade_date    max_date    min_date  \\\n",
       "0  100010  free only  2018-09-27      0   1900-01-01  2018-11-21  2018-10-08   \n",
       "1  200002     paying  2018-09-06      0   2018-10-18  2018-11-15  2018-10-01   \n",
       "2     125  cancelled  2018-08-01      1   1900-01-01  2018-10-12  2018-10-12   \n",
       "3     124     paying  2018-07-22      0   1900-01-01  2018-11-30  2018-10-01   \n",
       "4      51  cancelled  2018-09-27      1   1900-01-01  2018-10-17  2018-10-01   \n",
       "\n",
       "   cnt_sessionId  cnt_itemInSession     About     ...      Save Settings  \\\n",
       "0       0.159091           8.659091  0.022727     ...             0.0000   \n",
       "1       0.133333          10.533333  0.066667     ...             0.0000   \n",
       "2            inf                inf       NaN     ...                NaN   \n",
       "3       0.483333          80.416667  0.116667     ...             0.1000   \n",
       "4       0.625000         154.000000  0.125000     ...             0.0625   \n",
       "\n",
       "   Settings  Submit Downgrade  Submit Upgrade  Thumbs Down  Thumbs Up  \\\n",
       "0  0.000000               0.0        0.000000     0.113636   0.386364   \n",
       "1  0.066667               0.0        0.022222     0.133333   0.466667   \n",
       "2       NaN               NaN             NaN          NaN        NaN   \n",
       "3  0.333333               0.0        0.000000     0.683333   2.850000   \n",
       "4  0.750000               0.0        0.000000     1.312500   6.250000   \n",
       "\n",
       "    Upgrade  days_membership  days_since_upgrade  days_range  \n",
       "0  0.045455               55               43423         1.0  \n",
       "1  0.044444               70                  28         1.0  \n",
       "2       NaN               72               43383         NaN  \n",
       "3  0.000000              131               43432         1.0  \n",
       "4  0.000000               20               43388         1.0  \n",
       "\n",
       "[5 rows x 31 columns]"
      ]
     },
     "execution_count": 55,
     "metadata": {},
     "output_type": "execute_result"
    }
   ],
   "source": [
    "user_summary_pd_per_day = user_summary_pd.copy()\n",
    "cols_per_day = ['cnt_sessionId','cnt_itemInSession','About','Add Friend','Add to Playlist',\n",
    "            'Cancel','Cancellation Confirmation','Submit Downgrade',\n",
    "            'Downgrade','Error','Help','Home','Logout','NextSong','Roll Advert',\n",
    "            'Save Settings','Settings','Submit Upgrade','Thumbs Down','Thumbs Up',\n",
    "            'Upgrade',\n",
    "                #'days_membership','days_since_upgrade', 'churn'\n",
    "                'days_range']\n",
    "\n",
    "#Divide all summed columns by 'days_range'\n",
    "user_summary_pd_per_day[cols_per_day] = user_summary_pd_per_day[cols_per_day] \\\n",
    "    .div(user_summary_pd_per_day.days_range, axis=0)\n",
    "\n",
    "user_summary_pd_per_day.head()"
   ]
  },
  {
   "cell_type": "code",
   "execution_count": 56,
   "metadata": {},
   "outputs": [
    {
     "data": {
      "image/png": "[encoded data removed]",
      "text/plain": [
       "<matplotlib.figure.Figure at 0x7fc34c697da0>"
      ]
     },
     "metadata": {
      "needs_background": "light"
     },
     "output_type": "display_data"
    }
   ],
   "source": [
    "fig, ax = plt.subplots(figsize=(12,8))\n",
    "ax = sns.heatmap(user_summary_pd_per_day[cols].corr(), cmap=\"YlGnBu\")\n",
    "ax.set_title(\"Correlation Matrix - Based on User Daily Average\")\n",
    "plt.tight_layout()\n",
    "plt.show()"
   ]
  },
  {
   "cell_type": "markdown",
   "metadata": {},
   "source": [
    "'churn' now has slightly stronger correlation to certain other columns. \n",
    "\n",
    "Cancel and Cancel Confirmation seem to be almost identical, while Downgrade and Submit Downgrade have weak correlation. This tells me that many people visit the Dowgrade page but do not necessarily submit.\n"
   ]
  },
  {
   "cell_type": "markdown",
   "metadata": {},
   "source": [
    "#### user_summary_pd_per_session\n",
    "Alternatively, normalising using the 'cnt_sessionId' because this represents the actual individual sessions, and may be a more accurate measure."
   ]
  },
  {
   "cell_type": "code",
   "execution_count": 57,
   "metadata": {
    "scrolled": true
   },
   "outputs": [
    {
     "data": {
      "text/html": [
       "<div>\n",
       "<style scoped>\n",
       "    .dataframe tbody tr th:only-of-type {\n",
       "        vertical-align: middle;\n",
       "    }\n",
       "\n",
       "    .dataframe tbody tr th {\n",
       "        vertical-align: top;\n",
       "    }\n",
       "\n",
       "    .dataframe thead th {\n",
       "        text-align: right;\n",
       "    }\n",
       "</style>\n",
       "<table border=\"1\" class=\"dataframe\">\n",
       "  <thead>\n",
       "    <tr style=\"text-align: right;\">\n",
       "      <th></th>\n",
       "      <th>userId</th>\n",
       "      <th>user_type</th>\n",
       "      <th>reg_date</th>\n",
       "      <th>churn</th>\n",
       "      <th>upgrade_date</th>\n",
       "      <th>max_date</th>\n",
       "      <th>min_date</th>\n",
       "      <th>cnt_sessionId</th>\n",
       "      <th>cnt_itemInSession</th>\n",
       "      <th>About</th>\n",
       "      <th>...</th>\n",
       "      <th>Save Settings</th>\n",
       "      <th>Settings</th>\n",
       "      <th>Submit Downgrade</th>\n",
       "      <th>Submit Upgrade</th>\n",
       "      <th>Thumbs Down</th>\n",
       "      <th>Thumbs Up</th>\n",
       "      <th>Upgrade</th>\n",
       "      <th>days_membership</th>\n",
       "      <th>days_since_upgrade</th>\n",
       "      <th>days_range</th>\n",
       "    </tr>\n",
       "  </thead>\n",
       "  <tbody>\n",
       "    <tr>\n",
       "      <th>0</th>\n",
       "      <td>100010</td>\n",
       "      <td>free only</td>\n",
       "      <td>2018-09-27</td>\n",
       "      <td>0</td>\n",
       "      <td>1900-01-01</td>\n",
       "      <td>2018-11-21</td>\n",
       "      <td>2018-10-08</td>\n",
       "      <td>1.0</td>\n",
       "      <td>54.428571</td>\n",
       "      <td>0.142857</td>\n",
       "      <td>...</td>\n",
       "      <td>0.000000</td>\n",
       "      <td>0.000000</td>\n",
       "      <td>0.0</td>\n",
       "      <td>0.000000</td>\n",
       "      <td>0.714286</td>\n",
       "      <td>2.428571</td>\n",
       "      <td>0.285714</td>\n",
       "      <td>55</td>\n",
       "      <td>43423</td>\n",
       "      <td>6.285714</td>\n",
       "    </tr>\n",
       "    <tr>\n",
       "      <th>1</th>\n",
       "      <td>200002</td>\n",
       "      <td>paying</td>\n",
       "      <td>2018-09-06</td>\n",
       "      <td>0</td>\n",
       "      <td>2018-10-18</td>\n",
       "      <td>2018-11-15</td>\n",
       "      <td>2018-10-01</td>\n",
       "      <td>1.0</td>\n",
       "      <td>79.000000</td>\n",
       "      <td>0.500000</td>\n",
       "      <td>...</td>\n",
       "      <td>0.000000</td>\n",
       "      <td>0.500000</td>\n",
       "      <td>0.0</td>\n",
       "      <td>0.166667</td>\n",
       "      <td>1.000000</td>\n",
       "      <td>3.500000</td>\n",
       "      <td>0.333333</td>\n",
       "      <td>70</td>\n",
       "      <td>28</td>\n",
       "      <td>7.500000</td>\n",
       "    </tr>\n",
       "    <tr>\n",
       "      <th>2</th>\n",
       "      <td>125</td>\n",
       "      <td>cancelled</td>\n",
       "      <td>2018-08-01</td>\n",
       "      <td>1</td>\n",
       "      <td>1900-01-01</td>\n",
       "      <td>2018-10-12</td>\n",
       "      <td>2018-10-12</td>\n",
       "      <td>1.0</td>\n",
       "      <td>11.000000</td>\n",
       "      <td>0.000000</td>\n",
       "      <td>...</td>\n",
       "      <td>0.000000</td>\n",
       "      <td>0.000000</td>\n",
       "      <td>0.0</td>\n",
       "      <td>0.000000</td>\n",
       "      <td>0.000000</td>\n",
       "      <td>0.000000</td>\n",
       "      <td>0.000000</td>\n",
       "      <td>72</td>\n",
       "      <td>43383</td>\n",
       "      <td>0.000000</td>\n",
       "    </tr>\n",
       "    <tr>\n",
       "      <th>3</th>\n",
       "      <td>124</td>\n",
       "      <td>paying</td>\n",
       "      <td>2018-07-22</td>\n",
       "      <td>0</td>\n",
       "      <td>1900-01-01</td>\n",
       "      <td>2018-11-30</td>\n",
       "      <td>2018-10-01</td>\n",
       "      <td>1.0</td>\n",
       "      <td>166.379310</td>\n",
       "      <td>0.241379</td>\n",
       "      <td>...</td>\n",
       "      <td>0.206897</td>\n",
       "      <td>0.689655</td>\n",
       "      <td>0.0</td>\n",
       "      <td>0.000000</td>\n",
       "      <td>1.413793</td>\n",
       "      <td>5.896552</td>\n",
       "      <td>0.000000</td>\n",
       "      <td>131</td>\n",
       "      <td>43432</td>\n",
       "      <td>2.068966</td>\n",
       "    </tr>\n",
       "    <tr>\n",
       "      <th>4</th>\n",
       "      <td>51</td>\n",
       "      <td>cancelled</td>\n",
       "      <td>2018-09-27</td>\n",
       "      <td>1</td>\n",
       "      <td>1900-01-01</td>\n",
       "      <td>2018-10-17</td>\n",
       "      <td>2018-10-01</td>\n",
       "      <td>1.0</td>\n",
       "      <td>246.400000</td>\n",
       "      <td>0.200000</td>\n",
       "      <td>...</td>\n",
       "      <td>0.100000</td>\n",
       "      <td>1.200000</td>\n",
       "      <td>0.0</td>\n",
       "      <td>0.000000</td>\n",
       "      <td>2.100000</td>\n",
       "      <td>10.000000</td>\n",
       "      <td>0.000000</td>\n",
       "      <td>20</td>\n",
       "      <td>43388</td>\n",
       "      <td>1.600000</td>\n",
       "    </tr>\n",
       "  </tbody>\n",
       "</table>\n",
       "<p>5 rows × 31 columns</p>\n",
       "</div>"
      ],
      "text/plain": [
       "   userId  user_type    reg_date  churn upgrade_date    max_date    min_date  \\\n",
       "0  100010  free only  2018-09-27      0   1900-01-01  2018-11-21  2018-10-08   \n",
       "1  200002     paying  2018-09-06      0   2018-10-18  2018-11-15  2018-10-01   \n",
       "2     125  cancelled  2018-08-01      1   1900-01-01  2018-10-12  2018-10-12   \n",
       "3     124     paying  2018-07-22      0   1900-01-01  2018-11-30  2018-10-01   \n",
       "4      51  cancelled  2018-09-27      1   1900-01-01  2018-10-17  2018-10-01   \n",
       "\n",
       "   cnt_sessionId  cnt_itemInSession     About     ...      Save Settings  \\\n",
       "0            1.0          54.428571  0.142857     ...           0.000000   \n",
       "1            1.0          79.000000  0.500000     ...           0.000000   \n",
       "2            1.0          11.000000  0.000000     ...           0.000000   \n",
       "3            1.0         166.379310  0.241379     ...           0.206897   \n",
       "4            1.0         246.400000  0.200000     ...           0.100000   \n",
       "\n",
       "   Settings  Submit Downgrade  Submit Upgrade  Thumbs Down  Thumbs Up  \\\n",
       "0  0.000000               0.0        0.000000     0.714286   2.428571   \n",
       "1  0.500000               0.0        0.166667     1.000000   3.500000   \n",
       "2  0.000000               0.0        0.000000     0.000000   0.000000   \n",
       "3  0.689655               0.0        0.000000     1.413793   5.896552   \n",
       "4  1.200000               0.0        0.000000     2.100000  10.000000   \n",
       "\n",
       "    Upgrade  days_membership  days_since_upgrade  days_range  \n",
       "0  0.285714               55               43423    6.285714  \n",
       "1  0.333333               70                  28    7.500000  \n",
       "2  0.000000               72               43383    0.000000  \n",
       "3  0.000000              131               43432    2.068966  \n",
       "4  0.000000               20               43388    1.600000  \n",
       "\n",
       "[5 rows x 31 columns]"
      ]
     },
     "execution_count": 57,
     "metadata": {},
     "output_type": "execute_result"
    }
   ],
   "source": [
    "user_summary_pd_per_session = user_summary_pd.copy()\n",
    "cols_per_session = ['cnt_sessionId','cnt_itemInSession','About','Add Friend','Add to Playlist',\n",
    "            'Cancel','Cancellation Confirmation','Submit Downgrade',\n",
    "            'Downgrade','Error','Help','Home','Logout','NextSong','Roll Advert',\n",
    "            'Save Settings','Settings','Submit Upgrade','Thumbs Down','Thumbs Up',\n",
    "            'Upgrade',\n",
    "                #'days_membership','days_since_upgrade', 'churn'\n",
    "                'days_range']\n",
    "#Divide all summed columns by 'cnt_sessionId'\n",
    "user_summary_pd_per_session[cols_per_session] = user_summary_pd_per_session[cols_per_session] \\\n",
    "    .div(user_summary_pd_per_session.cnt_sessionId, axis=0)\n",
    "\n",
    "user_summary_pd_per_session.head()"
   ]
  },
  {
   "cell_type": "code",
   "execution_count": 58,
   "metadata": {},
   "outputs": [
    {
     "data": {
      "image/png": "[encoded data removed]",
      "text/plain": [
       "<matplotlib.figure.Figure at 0x7fc34c6dccc0>"
      ]
     },
     "metadata": {
      "needs_background": "light"
     },
     "output_type": "display_data"
    }
   ],
   "source": [
    "fig, ax = plt.subplots(figsize=(12,8))\n",
    "ax = sns.heatmap(user_summary_pd_per_session[cols].corr(), cmap=\"YlGnBu\")\n",
    "ax.set_title(\"Correlation Matrix - Based on User Average Per Session\")\n",
    "plt.tight_layout()\n",
    "plt.show()"
   ]
  },
  {
   "cell_type": "markdown",
   "metadata": {},
   "source": [
    "The above chart is similar to the 1st correlation chart in 'churn' relationship with 'Cancel' etc. but it has also reduced the impact of multiple sessions on the clump of high correlated columns.\n",
    "\n",
    "I think that this is the more accurate summarised (normalised) version of the user data, removing the bias of paying users who have more event records to draw from since I have restricted the churned users' data to pre-churn records only."
   ]
  },
  {
   "cell_type": "markdown",
   "metadata": {},
   "source": [
    "#### Days since upgrade\n",
    "Now that I have the days since upgrade data calculated I hoped to see evidence of users churning within some kind of billing cycle. From the below distribution graph this does not seem to the be case. There is no clump of users around the 30day or 60 day mark, rather there instead might be a trend towards users churning with 10 days to a week of upgrading. Which still might prove useful to the model."
   ]
  },
  {
   "cell_type": "code",
   "execution_count": 59,
   "metadata": {},
   "outputs": [
    {
     "data": {
      "image/png": "[encoded data removed]",
      "text/plain": [
       "<matplotlib.figure.Figure at 0x7fc34f938d68>"
      ]
     },
     "metadata": {
      "needs_background": "light"
     },
     "output_type": "display_data"
    }
   ],
   "source": [
    "#days since updgrade histogram\n",
    "plt.hist(data=user_summary_pd_per_session[(user_summary_pd_per_session.churn==1) & \n",
    "                        (user_summary_pd_per_session.days_since_upgrade<10000)], \\\n",
    "                            x='days_since_upgrade',bins=50)\n",
    "plt.xlabel('days_since_upgrade')\n",
    "plt.ylabel('count of users')\n",
    "plt.title('Distribution of days_since_upgrade for churned users'); "
   ]
  },
  {
   "cell_type": "markdown",
   "metadata": {},
   "source": [
    "Total number of users who churned within 2 weeks of upgrading"
   ]
  },
  {
   "cell_type": "code",
   "execution_count": 60,
   "metadata": {},
   "outputs": [
    {
     "data": {
      "text/plain": [
       "32"
      ]
     },
     "execution_count": 60,
     "metadata": {},
     "output_type": "execute_result"
    }
   ],
   "source": [
    "user_summary_pd_per_session[(user_summary_pd_per_session.churn==1) & \n",
    "                        (user_summary_pd_per_session.days_since_upgrade<15)].shape[0]"
   ]
  },
  {
   "cell_type": "markdown",
   "metadata": {},
   "source": [
    "Total number of churned users"
   ]
  },
  {
   "cell_type": "code",
   "execution_count": 61,
   "metadata": {},
   "outputs": [
    {
     "data": {
      "text/plain": [
       "92"
      ]
     },
     "execution_count": 61,
     "metadata": {},
     "output_type": "execute_result"
    }
   ],
   "source": [
    "user_summary_pd_per_session[(user_summary_pd_per_session.churn==1)].shape[0]"
   ]
  },
  {
   "cell_type": "markdown",
   "metadata": {},
   "source": [
    "#### Boxplots to show the distribution of user interactions per user type. (And variability per day or per session)\n",
    "\n",
    "Below, total cnt_itemInSession for distributed of all users, tends to be biased towards paying users when using the unaltered user_summary_pd"
   ]
  },
  {
   "cell_type": "code",
   "execution_count": 62,
   "metadata": {},
   "outputs": [
    {
     "data": {
      "image/png": "[encoded data removed]",
      "text/plain": [
       "<matplotlib.figure.Figure at 0x7fc3846efc18>"
      ]
     },
     "metadata": {},
     "output_type": "display_data"
    }
   ],
   "source": [
    "# Total cnt_sessionId for averaged per user type for all users\n",
    "y= 'cnt_itemInSession'\n",
    "with sns.axes_style(style='ticks'):\n",
    "    g=sns.factorplot(x='user_type', y = y,\n",
    "                     data=user_summary_pd, kind='box')\n",
    "    plt.title('Total {} per user type'.format(y)); "
   ]
  },
  {
   "cell_type": "markdown",
   "metadata": {},
   "source": [
    "The below, similar graph which summarises **usage per day** has gone in the opposite direction, tends to be biased towards cancelled users"
   ]
  },
  {
   "cell_type": "code",
   "execution_count": 63,
   "metadata": {},
   "outputs": [
    {
     "data": {
      "image/png": "[encoded data removed]",
      "text/plain": [
       "<matplotlib.figure.Figure at 0x7fc34c4dcda0>"
      ]
     },
     "metadata": {},
     "output_type": "display_data"
    }
   ],
   "source": [
    "with sns.axes_style(style='ticks'):\n",
    "    g=sns.factorplot(x='user_type',y = y,\n",
    "                     data=user_summary_pd_per_day, kind='box')\n",
    "    plt.title('Average no of {}s per user type per day'.format(y)); "
   ]
  },
  {
   "cell_type": "markdown",
   "metadata": {},
   "source": [
    "The below, boxplot which summarises **usage per session** is similar to the 1st boxplot in that it shows a larger distribution of total per user interactions for paying users, but it has reduced the gap between the user types. So I trust it over the above per day version graph."
   ]
  },
  {
   "cell_type": "code",
   "execution_count": 64,
   "metadata": {},
   "outputs": [
    {
     "data": {
      "image/png": "[encoded data removed]",
      "text/plain": [
       "<matplotlib.figure.Figure at 0x7fc34f714d68>"
      ]
     },
     "metadata": {},
     "output_type": "display_data"
    }
   ],
   "source": [
    "with sns.axes_style(style='ticks'):\n",
    "    g=sns.factorplot(x='user_type',y = y,\n",
    "                     data=user_summary_pd_per_session, kind='box')\n",
    "    plt.title('Average {} per user typed per session'.format('cnt_itemInSession')); "
   ]
  },
  {
   "cell_type": "code",
   "execution_count": 65,
   "metadata": {},
   "outputs": [
    {
     "data": {
      "text/plain": [
       "datetime.date(2018, 12, 3)"
      ]
     },
     "execution_count": 65,
     "metadata": {},
     "output_type": "execute_result"
    }
   ],
   "source": [
    "user_summary_pd.max_date.max()"
   ]
  },
  {
   "cell_type": "code",
   "execution_count": 66,
   "metadata": {},
   "outputs": [
    {
     "data": {
      "text/plain": [
       "datetime.date(2018, 10, 1)"
      ]
     },
     "execution_count": 66,
     "metadata": {},
     "output_type": "execute_result"
    }
   ],
   "source": [
    "user_summary_pd.max_date.min()"
   ]
  },
  {
   "cell_type": "code",
   "execution_count": 67,
   "metadata": {},
   "outputs": [
    {
     "data": {
      "text/plain": [
       "256"
      ]
     },
     "execution_count": 67,
     "metadata": {},
     "output_type": "execute_result"
    }
   ],
   "source": [
    "user_summary_pd.days_membership.max()"
   ]
  },
  {
   "cell_type": "code",
   "execution_count": 68,
   "metadata": {
    "scrolled": true
   },
   "outputs": [],
   "source": [
    "pd.options.display.max_columns = user_summary_pd.shape[1]"
   ]
  },
  {
   "cell_type": "markdown",
   "metadata": {},
   "source": [
    "Looking at an example user for the spread of usage per day verus sessions. Between the min and max access dates user '55' has 55 days, but only logged in for 19. Also had 15 separate login sessions spread across those days."
   ]
  },
  {
   "cell_type": "code",
   "execution_count": 69,
   "metadata": {},
   "outputs": [
    {
     "data": {
      "text/plain": [
       "Row(userId='15', user_type='paying', reg_date=datetime.date(2018, 9, 29), churn=0, upgrade_date=datetime.date(1900, 1, 1), max_date=datetime.date(2018, 11, 25), min_date=datetime.date(2018, 10, 1), cnt_sessionId=15, cnt_itemInSession=2278, About=2, Add Friend=31, Add to Playlist=59, Cancel=None, Cancellation Confirmation=None, Downgrade=28, Error=2, Help=8, Home=93, Logout=27, NextSong=1914, Roll Advert=1, Save Settings=2, Settings=16, Submit Downgrade=None, Submit Upgrade=None, Thumbs Down=14, Thumbs Up=81, Upgrade=None, days_membership=57, days_since_upgrade=43427, days_range=55)"
      ]
     },
     "execution_count": 69,
     "metadata": {},
     "output_type": "execute_result"
    }
   ],
   "source": [
    "user_summary.filter(user_summary.userId=='15').head()"
   ]
  },
  {
   "cell_type": "code",
   "execution_count": 70,
   "metadata": {},
   "outputs": [
    {
     "name": "stdout",
     "output_type": "stream",
     "text": [
      "+----------+---------+--------------------+\n",
      "|      date|sessionId|count(itemInSession)|\n",
      "+----------+---------+--------------------+\n",
      "|2018-10-01|      237|                  88|\n",
      "|2018-10-03|      287|                 119|\n",
      "|2018-10-04|      401|                 149|\n",
      "|2018-10-06|      476|                 170|\n",
      "|2018-10-07|      476|                  61|\n",
      "|2018-10-08|      557|                   1|\n",
      "|2018-10-08|      591|                 174|\n",
      "|2018-10-09|      591|                 239|\n",
      "|2018-10-16|      648|                 188|\n",
      "|2018-10-20|      939|                   8|\n",
      "|2018-10-21|      939|                  61|\n",
      "|2018-10-23|     1121|                  75|\n",
      "|2018-11-01|     1203|                 111|\n",
      "|2018-11-02|     1203|                 190|\n",
      "|2018-11-13|     1543|                  18|\n",
      "|2018-11-14|     1907|                  53|\n",
      "|2018-11-15|     1907|                  40|\n",
      "|2018-11-15|     1949|                 116|\n",
      "|2018-11-23|     1974|                 177|\n",
      "|2018-11-24|     2241|                 153|\n",
      "|2018-11-25|     2241|                  87|\n",
      "+----------+---------+--------------------+\n",
      "\n"
     ]
    }
   ],
   "source": [
    "df.filter(df.userId=='15').groupBy('date','sessionId').agg(count('itemInSession')\n",
    "            ).sort('date','sessionId').show(50)"
   ]
  },
  {
   "cell_type": "markdown",
   "metadata": {},
   "source": [
    "#### Charting recent behaviour\n",
    "\n",
    "Reproducing the original dataframe with the `max_date` per user as a new column, so that I can create a `backwards_days` column, to step backwards in days from the churned date for churned users, and see if there are trends in the days before churn compared to paying users."
   ]
  },
  {
   "cell_type": "code",
   "execution_count": 71,
   "metadata": {},
   "outputs": [],
   "source": [
    "#Create new dataframe adding 'max_date' from the user_summary data\n",
    "df_new = df_sub \\\n",
    "   .join(user_summary.select('userId','max_date'), on=['userId'], how='inner')"
   ]
  },
  {
   "cell_type": "code",
   "execution_count": 72,
   "metadata": {},
   "outputs": [],
   "source": [
    "#Add new column 'backward_days'\n",
    "col_diff = date_diff(df_new.max_date, df_new.date)\n",
    "df_new = df_new.withColumn('backward_days', delta_days(col_diff).cast(IntegerType()))"
   ]
  },
  {
   "cell_type": "code",
   "execution_count": 73,
   "metadata": {},
   "outputs": [],
   "source": [
    "#Summarise data by user and backward_days and join with pivoted pages\n",
    "summary_data_new = df_new.groupBy(\"userId\",\"user_type\",'backward_days'). \\\n",
    "    agg(countDistinct(\"sessionId\").alias(\"cnt_sessionId\"), \n",
    "        count(\"itemInSession\").alias(\"cnt_itemInSession\"))\n",
    "\n",
    "user_pivot = df_new.groupBy(\"userId\",'backward_days') \\\n",
    "    .pivot(\"page\") \\\n",
    "    .count()\n",
    "summary_data_new = summary_data_new.join(user_pivot, on=['userId','backward_days'],\n",
    "                                         how='inner')"
   ]
  },
  {
   "cell_type": "code",
   "execution_count": 74,
   "metadata": {},
   "outputs": [
    {
     "data": {
      "text/html": [
       "<div>\n",
       "<style scoped>\n",
       "    .dataframe tbody tr th:only-of-type {\n",
       "        vertical-align: middle;\n",
       "    }\n",
       "\n",
       "    .dataframe tbody tr th {\n",
       "        vertical-align: top;\n",
       "    }\n",
       "\n",
       "    .dataframe thead th {\n",
       "        text-align: right;\n",
       "    }\n",
       "</style>\n",
       "<table border=\"1\" class=\"dataframe\">\n",
       "  <thead>\n",
       "    <tr style=\"text-align: right;\">\n",
       "      <th></th>\n",
       "      <th>userId</th>\n",
       "      <th>backward_days</th>\n",
       "      <th>user_type</th>\n",
       "      <th>cnt_sessionId</th>\n",
       "      <th>cnt_itemInSession</th>\n",
       "      <th>About</th>\n",
       "      <th>Add Friend</th>\n",
       "      <th>Add to Playlist</th>\n",
       "      <th>Cancel</th>\n",
       "      <th>Cancellation Confirmation</th>\n",
       "      <th>Downgrade</th>\n",
       "      <th>Error</th>\n",
       "      <th>Help</th>\n",
       "      <th>Home</th>\n",
       "      <th>Logout</th>\n",
       "      <th>NextSong</th>\n",
       "      <th>Roll Advert</th>\n",
       "      <th>Save Settings</th>\n",
       "      <th>Settings</th>\n",
       "      <th>Submit Downgrade</th>\n",
       "      <th>Submit Upgrade</th>\n",
       "      <th>Thumbs Down</th>\n",
       "      <th>Thumbs Up</th>\n",
       "      <th>Upgrade</th>\n",
       "    </tr>\n",
       "  </thead>\n",
       "  <tbody>\n",
       "    <tr>\n",
       "      <th>0</th>\n",
       "      <td>126</td>\n",
       "      <td>35</td>\n",
       "      <td>paying</td>\n",
       "      <td>1</td>\n",
       "      <td>17</td>\n",
       "      <td>NaN</td>\n",
       "      <td>1.0</td>\n",
       "      <td>NaN</td>\n",
       "      <td>NaN</td>\n",
       "      <td>NaN</td>\n",
       "      <td>1.0</td>\n",
       "      <td>NaN</td>\n",
       "      <td>NaN</td>\n",
       "      <td>3.0</td>\n",
       "      <td>2.0</td>\n",
       "      <td>10.0</td>\n",
       "      <td>NaN</td>\n",
       "      <td>NaN</td>\n",
       "      <td>NaN</td>\n",
       "      <td>NaN</td>\n",
       "      <td>NaN</td>\n",
       "      <td>NaN</td>\n",
       "      <td>NaN</td>\n",
       "      <td>NaN</td>\n",
       "    </tr>\n",
       "    <tr>\n",
       "      <th>1</th>\n",
       "      <td>19</td>\n",
       "      <td>0</td>\n",
       "      <td>paying</td>\n",
       "      <td>1</td>\n",
       "      <td>152</td>\n",
       "      <td>2.0</td>\n",
       "      <td>2.0</td>\n",
       "      <td>7.0</td>\n",
       "      <td>NaN</td>\n",
       "      <td>NaN</td>\n",
       "      <td>NaN</td>\n",
       "      <td>NaN</td>\n",
       "      <td>NaN</td>\n",
       "      <td>7.0</td>\n",
       "      <td>5.0</td>\n",
       "      <td>124.0</td>\n",
       "      <td>NaN</td>\n",
       "      <td>NaN</td>\n",
       "      <td>1.0</td>\n",
       "      <td>NaN</td>\n",
       "      <td>NaN</td>\n",
       "      <td>1.0</td>\n",
       "      <td>3.0</td>\n",
       "      <td>NaN</td>\n",
       "    </tr>\n",
       "    <tr>\n",
       "      <th>2</th>\n",
       "      <td>200004</td>\n",
       "      <td>42</td>\n",
       "      <td>paying</td>\n",
       "      <td>2</td>\n",
       "      <td>73</td>\n",
       "      <td>NaN</td>\n",
       "      <td>3.0</td>\n",
       "      <td>2.0</td>\n",
       "      <td>NaN</td>\n",
       "      <td>NaN</td>\n",
       "      <td>NaN</td>\n",
       "      <td>NaN</td>\n",
       "      <td>NaN</td>\n",
       "      <td>3.0</td>\n",
       "      <td>1.0</td>\n",
       "      <td>59.0</td>\n",
       "      <td>NaN</td>\n",
       "      <td>NaN</td>\n",
       "      <td>NaN</td>\n",
       "      <td>NaN</td>\n",
       "      <td>NaN</td>\n",
       "      <td>2.0</td>\n",
       "      <td>3.0</td>\n",
       "      <td>NaN</td>\n",
       "    </tr>\n",
       "    <tr>\n",
       "      <th>3</th>\n",
       "      <td>300002</td>\n",
       "      <td>7</td>\n",
       "      <td>downgraded</td>\n",
       "      <td>1</td>\n",
       "      <td>30</td>\n",
       "      <td>NaN</td>\n",
       "      <td>NaN</td>\n",
       "      <td>2.0</td>\n",
       "      <td>NaN</td>\n",
       "      <td>NaN</td>\n",
       "      <td>NaN</td>\n",
       "      <td>NaN</td>\n",
       "      <td>1.0</td>\n",
       "      <td>1.0</td>\n",
       "      <td>NaN</td>\n",
       "      <td>22.0</td>\n",
       "      <td>NaN</td>\n",
       "      <td>NaN</td>\n",
       "      <td>NaN</td>\n",
       "      <td>NaN</td>\n",
       "      <td>NaN</td>\n",
       "      <td>NaN</td>\n",
       "      <td>4.0</td>\n",
       "      <td>NaN</td>\n",
       "    </tr>\n",
       "    <tr>\n",
       "      <th>4</th>\n",
       "      <td>37</td>\n",
       "      <td>1</td>\n",
       "      <td>paying</td>\n",
       "      <td>1</td>\n",
       "      <td>99</td>\n",
       "      <td>NaN</td>\n",
       "      <td>NaN</td>\n",
       "      <td>1.0</td>\n",
       "      <td>NaN</td>\n",
       "      <td>NaN</td>\n",
       "      <td>NaN</td>\n",
       "      <td>NaN</td>\n",
       "      <td>NaN</td>\n",
       "      <td>5.0</td>\n",
       "      <td>2.0</td>\n",
       "      <td>85.0</td>\n",
       "      <td>1.0</td>\n",
       "      <td>NaN</td>\n",
       "      <td>NaN</td>\n",
       "      <td>NaN</td>\n",
       "      <td>NaN</td>\n",
       "      <td>1.0</td>\n",
       "      <td>4.0</td>\n",
       "      <td>NaN</td>\n",
       "    </tr>\n",
       "  </tbody>\n",
       "</table>\n",
       "</div>"
      ],
      "text/plain": [
       "   userId  backward_days   user_type  cnt_sessionId  cnt_itemInSession  About  \\\n",
       "0     126             35      paying              1                 17    NaN   \n",
       "1      19              0      paying              1                152    2.0   \n",
       "2  200004             42      paying              2                 73    NaN   \n",
       "3  300002              7  downgraded              1                 30    NaN   \n",
       "4      37              1      paying              1                 99    NaN   \n",
       "\n",
       "   Add Friend  Add to Playlist  Cancel  Cancellation Confirmation  Downgrade  \\\n",
       "0         1.0              NaN     NaN                        NaN        1.0   \n",
       "1         2.0              7.0     NaN                        NaN        NaN   \n",
       "2         3.0              2.0     NaN                        NaN        NaN   \n",
       "3         NaN              2.0     NaN                        NaN        NaN   \n",
       "4         NaN              1.0     NaN                        NaN        NaN   \n",
       "\n",
       "   Error  Help  Home  Logout  NextSong  Roll Advert  Save Settings  Settings  \\\n",
       "0    NaN   NaN   3.0     2.0      10.0          NaN            NaN       NaN   \n",
       "1    NaN   NaN   7.0     5.0     124.0          NaN            NaN       1.0   \n",
       "2    NaN   NaN   3.0     1.0      59.0          NaN            NaN       NaN   \n",
       "3    NaN   1.0   1.0     NaN      22.0          NaN            NaN       NaN   \n",
       "4    NaN   NaN   5.0     2.0      85.0          1.0            NaN       NaN   \n",
       "\n",
       "   Submit Downgrade  Submit Upgrade  Thumbs Down  Thumbs Up  Upgrade  \n",
       "0               NaN             NaN          NaN        NaN      NaN  \n",
       "1               NaN             NaN          1.0        3.0      NaN  \n",
       "2               NaN             NaN          2.0        3.0      NaN  \n",
       "3               NaN             NaN          NaN        4.0      NaN  \n",
       "4               NaN             NaN          1.0        4.0      NaN  "
      ]
     },
     "execution_count": 74,
     "metadata": {},
     "output_type": "execute_result"
    }
   ],
   "source": [
    "#Create as pandas dataframe to view graphs\n",
    "summary_data_new_pd = summary_data_new.toPandas()\n",
    "summary_data_new_pd.head()"
   ]
  },
  {
   "cell_type": "markdown",
   "metadata": {},
   "source": [
    "View as boxplot distribution of the total interactions per user over the last 2 week period, excluding 'free only' users."
   ]
  },
  {
   "cell_type": "code",
   "execution_count": 75,
   "metadata": {},
   "outputs": [
    {
     "data": {
      "image/png": "[encoded data removed]",
      "text/plain": [
       "<matplotlib.figure.Figure at 0x7fc34c422128>"
      ]
     },
     "metadata": {},
     "output_type": "display_data"
    }
   ],
   "source": [
    "#Boxplot interactions per user_type per day\n",
    "y='cnt_itemInSession'\n",
    "data=summary_data_new_pd[(summary_data_new_pd.backward_days<15) & \n",
    "                    (summary_data_new_pd.user_type!='free only')]\n",
    "with sns.axes_style(style='ticks'):\n",
    "    g=sns.factorplot(data=data, x=\"backward_days\", y=y, hue=\"user_type\", \n",
    "                     kind='box', size=4, aspect=2)\n",
    "    plt.title('Average {} per user type'.format(y)); "
   ]
  },
  {
   "cell_type": "markdown",
   "metadata": {},
   "source": [
    "Seems to show reduction in downgraded and cancelled users in the last 4 days, though the paid tier users have also reduced usage in the last few days.??"
   ]
  },
  {
   "cell_type": "code",
   "execution_count": 76,
   "metadata": {},
   "outputs": [
    {
     "data": {
      "image/png": "[encoded data removed]",
      "text/plain": [
       "<matplotlib.figure.Figure at 0x7fc34c42db38>"
      ]
     },
     "metadata": {},
     "output_type": "display_data"
    }
   ],
   "source": [
    "#Changed style to barchart\n",
    "data=summary_data_new_pd[(summary_data_new_pd.backward_days<15) & \n",
    "                         (summary_data_new_pd.user_type=='cancelled')]\n",
    "with sns.axes_style(style='ticks'):\n",
    "    g=sns.factorplot(data=data, x=\"backward_days\", y=y, hue=\"user_type\", \n",
    "                     kind='bar', size=4, aspect=2)\n",
    "    plt.title('Average {} per user type'.format(y)); "
   ]
  },
  {
   "cell_type": "markdown",
   "metadata": {},
   "source": [
    "The above charts seems to show a downwards trend from day 8 towards day 0 (churned date) for cancelled users. "
   ]
  },
  {
   "cell_type": "code",
   "execution_count": 77,
   "metadata": {},
   "outputs": [
    {
     "data": {
      "image/png": "[encoded data removed]",
      "text/plain": [
       "<matplotlib.figure.Figure at 0x7fc347ec2a58>"
      ]
     },
     "metadata": {},
     "output_type": "display_data"
    }
   ],
   "source": [
    "data=summary_data_new_pd[(summary_data_new_pd.backward_days<15) &\n",
    "                         (summary_data_new_pd.user_type=='downgraded')]\n",
    "with sns.axes_style(style='ticks'):\n",
    "    g=sns.factorplot(data=data, x=\"backward_days\", y=y, hue=\"user_type\", \n",
    "                     kind='bar', size=4, aspect=2)\n",
    "\n",
    "    plt.title('Average {} per user type'.format(y)); "
   ]
  },
  {
   "cell_type": "markdown",
   "metadata": {},
   "source": [
    "Downgraded users on the other hand have a less obvious trend pre-churn date, and a pretty irregular usage pattern prior to the last 4 days."
   ]
  },
  {
   "cell_type": "markdown",
   "metadata": {},
   "source": [
    "# Feature Engineering"
   ]
  },
  {
   "cell_type": "markdown",
   "metadata": {},
   "source": [
    "#### Add last weeks columns\n",
    "To incorporate some of the changes in usage we were seeing above I will add columns to the per user summary to represent the change in users' volume of interactions this week versus previous week."
   ]
  },
  {
   "cell_type": "code",
   "execution_count": 78,
   "metadata": {},
   "outputs": [],
   "source": [
    "#Sum of interactions per user in the last week\n",
    "last_week = df_new.filter(df_new.backward_days<7).groupBy('userId') \\\n",
    "    .agg(count('itemInSession').alias('last_week_cnt_itemInSession'))\n",
    "\n",
    "#Sum of interactions per user in the from the week before last\n",
    "prev_week = df_new.filter((df_new.backward_days>6) & (df_new.backward_days<14)) \\\n",
    "    .groupBy('userId') \\\n",
    "    .agg(count('itemInSession').alias('prev_week_cnt_itemInSession'))\n",
    "\n",
    "#Join both week's total per user\n",
    "week_comp = last_week.join(prev_week, on=['userId'],\n",
    "                                         how='inner')"
   ]
  },
  {
   "cell_type": "code",
   "execution_count": 79,
   "metadata": {
    "scrolled": true
   },
   "outputs": [
    {
     "name": "stdout",
     "output_type": "stream",
     "text": [
      "+------+---------------------------+---------------------------+------------------------+\n",
      "|userId|last_week_cnt_itemInSession|prev_week_cnt_itemInSession|cnt_itemInSession_change|\n",
      "+------+---------------------------+---------------------------+------------------------+\n",
      "|100010|                         33|                        112|     -0.7053571428571429|\n",
      "|   124|                        254|                        255|    -0.00392156862745098|\n",
      "|    51|                        994|                        871|     0.14121699196326062|\n",
      "|    15|                        417|                        227|      0.8370044052863436|\n",
      "|    54|                       1157|                        350|      2.3057142857142856|\n",
      "+------+---------------------------+---------------------------+------------------------+\n",
      "only showing top 5 rows\n",
      "\n"
     ]
    }
   ],
   "source": [
    "#add new column to calculate the proportional change in usage last week vs this week\n",
    "week_comp = week_comp.withColumn('cnt_itemInSession_change',\n",
    "            (col('last_week_cnt_itemInSession') - col('prev_week_cnt_itemInSession') )\n",
    "            / col('prev_week_cnt_itemInSession'))\n",
    "week_comp.show(5)"
   ]
  },
  {
   "cell_type": "code",
   "execution_count": 80,
   "metadata": {
    "scrolled": true
   },
   "outputs": [
    {
     "name": "stdout",
     "output_type": "stream",
     "text": [
      "root\n",
      " |-- artist: string (nullable = true)\n",
      " |-- auth: string (nullable = true)\n",
      " |-- firstName: string (nullable = true)\n",
      " |-- gender: string (nullable = true)\n",
      " |-- itemInSession: long (nullable = true)\n",
      " |-- lastName: string (nullable = true)\n",
      " |-- length: double (nullable = true)\n",
      " |-- level: string (nullable = true)\n",
      " |-- location: string (nullable = true)\n",
      " |-- method: string (nullable = true)\n",
      " |-- page: string (nullable = true)\n",
      " |-- registration: long (nullable = true)\n",
      " |-- sessionId: long (nullable = true)\n",
      " |-- song: string (nullable = true)\n",
      " |-- status: long (nullable = true)\n",
      " |-- ts: long (nullable = true)\n",
      " |-- userAgent: string (nullable = true)\n",
      " |-- userId: string (nullable = true)\n",
      " |-- year: string (nullable = true)\n",
      " |-- month: string (nullable = true)\n",
      " |-- day: string (nullable = true)\n",
      " |-- hour: string (nullable = true)\n",
      " |-- date: date (nullable = true)\n",
      " |-- reg_year: string (nullable = true)\n",
      " |-- reg_month: string (nullable = true)\n",
      " |-- reg_day: string (nullable = true)\n",
      " |-- reg_date: date (nullable = true)\n",
      " |-- cancelled: integer (nullable = true)\n",
      " |-- downgraded: integer (nullable = true)\n",
      " |-- pre_cancelled_events: long (nullable = true)\n",
      " |-- pre_downgraded_events: long (nullable = true)\n",
      " |-- user_type: string (nullable = false)\n",
      " |-- churn: integer (nullable = false)\n",
      "\n"
     ]
    }
   ],
   "source": [
    "df.printSchema()"
   ]
  },
  {
   "cell_type": "markdown",
   "metadata": {},
   "source": [
    "#### Add new column `cnt of days since last visit`\n",
    "While I have chosen to normalise the summary of user data per session (instead of per day) since it seemed less biased, I still think that daily usage figures are valid potential features.\n",
    "\n",
    "Therefore, I will add a new column to calculate the number of days still the last user site visit, compare to their average usage."
   ]
  },
  {
   "cell_type": "code",
   "execution_count": 81,
   "metadata": {},
   "outputs": [],
   "source": [
    "#Recreate the dataframe subset of pre-churn data\n",
    "df_sub2 = df.filter(((df.user_type=='downgraded') & (df.pre_downgraded_events=='1')) | \n",
    "                        ((df.user_type=='cancelled') & (df.pre_cancelled_events=='1')) | \n",
    "                        (df.user_type.isin(['free only','paying'])))"
   ]
  },
  {
   "cell_type": "code",
   "execution_count": 82,
   "metadata": {},
   "outputs": [],
   "source": [
    "#Create new summary daily dataframe per user \n",
    "df_daily = df_sub \\\n",
    "    .groupBy('userId','date') \\\n",
    "    .agg(countDistinct('sessionId').alias('cnt_sessionId'), \\\n",
    "        count('itemInSession').alias('cnt_itemInSession') \\\n",
    "     )"
   ]
  },
  {
   "cell_type": "code",
   "execution_count": 83,
   "metadata": {},
   "outputs": [],
   "source": [
    "#find the max_date per user\n",
    "df_max = df_sub \\\n",
    "    .groupBy('userId') \\\n",
    "    .agg(max('date').alias('max_date'))"
   ]
  },
  {
   "cell_type": "code",
   "execution_count": 84,
   "metadata": {},
   "outputs": [],
   "source": [
    "#join the 2 together on userId\n",
    "df_daily = df_daily.join(df_max, on=['userId'], how='inner')"
   ]
  },
  {
   "cell_type": "code",
   "execution_count": 85,
   "metadata": {
    "scrolled": true
   },
   "outputs": [
    {
     "data": {
      "text/plain": [
       "[Row(userId='10', date=datetime.date(2018, 10, 8), cnt_sessionId=1, cnt_itemInSession=70, max_date=datetime.date(2018, 11, 19)),\n",
       " Row(userId='10', date=datetime.date(2018, 10, 18), cnt_sessionId=1, cnt_itemInSession=345, max_date=datetime.date(2018, 11, 19)),\n",
       " Row(userId='10', date=datetime.date(2018, 10, 19), cnt_sessionId=1, cnt_itemInSession=104, max_date=datetime.date(2018, 11, 19)),\n",
       " Row(userId='10', date=datetime.date(2018, 10, 29), cnt_sessionId=1, cnt_itemInSession=25, max_date=datetime.date(2018, 11, 19)),\n",
       " Row(userId='10', date=datetime.date(2018, 11, 3), cnt_sessionId=1, cnt_itemInSession=78, max_date=datetime.date(2018, 11, 19))]"
      ]
     },
     "execution_count": 85,
     "metadata": {},
     "output_type": "execute_result"
    }
   ],
   "source": [
    "#Sort on userId and date\n",
    "df_daily_sorted = df_daily.sort(['userId','date'], ascending=True)\n",
    "df_daily_sorted.take(5)"
   ]
  },
  {
   "cell_type": "code",
   "execution_count": 86,
   "metadata": {
    "scrolled": true
   },
   "outputs": [
    {
     "name": "stdout",
     "output_type": "stream",
     "text": [
      "+------+----------+-------------+-----------------+----------+\n",
      "|userId|      date|cnt_sessionId|cnt_itemInSession|  max_date|\n",
      "+------+----------+-------------+-----------------+----------+\n",
      "|    10|2018-10-08|            1|               70|2018-11-19|\n",
      "+------+----------+-------------+-----------------+----------+\n",
      "only showing top 1 row\n",
      "\n"
     ]
    }
   ],
   "source": [
    "#Fillna(0) to remove any null values\n",
    "df_daily_sorted = df_daily_sorted.na.fill(value=0)\n",
    "df_daily_sorted.show(1)"
   ]
  },
  {
   "cell_type": "markdown",
   "metadata": {},
   "source": [
    "To calculate the difference in days between each visit I will need to create a lag in date per user daily record. This is so that i can get the both the current date and the previous visit date per user on the same line. From that point I can the calculate the difference between the 2.\n",
    "\n",
    "To do this I have created a window partition and a date and userId lag."
   ]
  },
  {
   "cell_type": "code",
   "execution_count": 87,
   "metadata": {},
   "outputs": [],
   "source": [
    "#window partition created to push the previous date value to the next line per user, using the lag function\n",
    "windowval = Window.partitionBy('userId').orderBy('date')\n",
    "df_daily_sorted = df_daily_sorted.withColumn(\"prev_date\", \n",
    "                                        lag(df_daily_sorted.date).over(windowval))\n",
    "\n",
    "df_daily_sorted = df_daily_sorted.withColumn(\"prev_userId\", \n",
    "                                        lag(df_daily_sorted.userId).over(windowval))"
   ]
  },
  {
   "cell_type": "code",
   "execution_count": 88,
   "metadata": {},
   "outputs": [],
   "source": [
    "#Returns the previous date if not null, date otherwise \n",
    "df_daily_sorted = df_daily_sorted.withColumn('prev_date', coalesce('prev_date', 'date'))"
   ]
  },
  {
   "cell_type": "code",
   "execution_count": 89,
   "metadata": {},
   "outputs": [
    {
     "data": {
      "text/plain": [
       "Row(userId='100010', date=datetime.date(2018, 10, 8), cnt_sessionId=1, cnt_itemInSession=40, max_date=datetime.date(2018, 11, 21), prev_date=datetime.date(2018, 10, 8), prev_userId=None)"
      ]
     },
     "execution_count": 89,
     "metadata": {},
     "output_type": "execute_result"
    }
   ],
   "source": [
    "df_daily_sorted.head()"
   ]
  },
  {
   "cell_type": "code",
   "execution_count": 90,
   "metadata": {},
   "outputs": [],
   "source": [
    "#add the days_since_prev_login as new column  \n",
    "col_diff = date_diff(df_daily_sorted.date, df_daily_sorted.prev_date)\n",
    "df_daily_sorted = df_daily_sorted.withColumn('days_since_prev_login',\n",
    "                           when(((df_daily_sorted.userId == df_daily_sorted.prev_userId) | \n",
    "                                 isnan(df_daily_sorted.prev_userId)), \n",
    "                                delta_days(col_diff).cast(IntegerType())).otherwise(lit(0)))"
   ]
  },
  {
   "cell_type": "code",
   "execution_count": 91,
   "metadata": {},
   "outputs": [
    {
     "name": "stdout",
     "output_type": "stream",
     "text": [
      "+------+-----------+----------+----------+---------------------+\n",
      "|userId|prev_userId|      date| prev_date|days_since_prev_login|\n",
      "+------+-----------+----------+----------+---------------------+\n",
      "|100010|       null|2018-10-08|2018-10-08|                    0|\n",
      "|100010|     100010|2018-10-15|2018-10-08|                    7|\n",
      "|100010|     100010|2018-10-16|2018-10-15|                    1|\n",
      "|100010|     100010|2018-10-20|2018-10-16|                    4|\n",
      "|100010|     100010|2018-11-05|2018-10-20|                   16|\n",
      "+------+-----------+----------+----------+---------------------+\n",
      "only showing top 5 rows\n",
      "\n"
     ]
    }
   ],
   "source": [
    "df_daily_sorted.select(['userId','prev_userId','date','prev_date','days_since_prev_login']).show(5)"
   ]
  },
  {
   "cell_type": "code",
   "execution_count": 92,
   "metadata": {},
   "outputs": [],
   "source": [
    "#new dataframe days since very last login before to max_date\n",
    "df_since_last_login = df_daily_sorted.select('userId','days_since_prev_login') \\\n",
    "        .where(df_daily_sorted.date==df_daily_sorted.max_date)\n",
    "\n",
    "#new dataframe average days between site visits\n",
    "df_avg_since_prev_login = df_daily_sorted \\\n",
    "    .groupBy('userId') \\\n",
    "    .agg(avg('days_since_prev_login').alias('avg_days_since_prev_login'))"
   ]
  },
  {
   "cell_type": "code",
   "execution_count": 93,
   "metadata": {},
   "outputs": [],
   "source": [
    "#join above new dataframe on userId\n",
    "df_login_join = df_avg_since_prev_login.join(df_since_last_login, on=['userId'], how='inner')"
   ]
  },
  {
   "cell_type": "code",
   "execution_count": 94,
   "metadata": {},
   "outputs": [
    {
     "name": "stdout",
     "output_type": "stream",
     "text": [
      "+------+-------------------------+---------------------+\n",
      "|userId|avg_days_since_prev_login|days_since_prev_login|\n",
      "+------+-------------------------+---------------------+\n",
      "|100010|        6.285714285714286|                   12|\n",
      "|200002|        6.428571428571429|                   23|\n",
      "|   125|                      0.0|                    0|\n",
      "|   124|       1.8181818181818181|                    1|\n",
      "|    51|       1.2307692307692308|                    1|\n",
      "+------+-------------------------+---------------------+\n",
      "only showing top 5 rows\n",
      "\n"
     ]
    }
   ],
   "source": [
    "df_login_join.show(5)"
   ]
  },
  {
   "cell_type": "code",
   "execution_count": 95,
   "metadata": {},
   "outputs": [
    {
     "data": {
      "text/plain": [
       "DataFrame[summary: string, userId: string, user_type: string, churn: string, cnt_sessionId: string, cnt_itemInSession: string, About: string, Add Friend: string, Add to Playlist: string, Cancel: string, Cancellation Confirmation: string, Downgrade: string, Error: string, Help: string, Home: string, Logout: string, NextSong: string, Roll Advert: string, Save Settings: string, Settings: string, Submit Downgrade: string, Submit Upgrade: string, Thumbs Down: string, Thumbs Up: string, Upgrade: string, days_membership: string, days_since_upgrade: string, days_range: string]"
      ]
     },
     "execution_count": 95,
     "metadata": {},
     "output_type": "execute_result"
    }
   ],
   "source": [
    "user_summary.describe()"
   ]
  },
  {
   "cell_type": "markdown",
   "metadata": {},
   "source": [
    "#### Updated features correlation matrix\n",
    "Join the above new columns to the summary dataframe so that I can see how well they correlate to `churn`. Expecting stronger correlation compared to existing columns, or my efforts of the above cells have been in vain."
   ]
  },
  {
   "cell_type": "code",
   "execution_count": 96,
   "metadata": {},
   "outputs": [],
   "source": [
    "#Recreate the original user_summary dataframe though it now has additional columns included\n",
    "user_summary = user_summary.join(df_login_join, on=['userId'], how='inner')"
   ]
  },
  {
   "cell_type": "code",
   "execution_count": 97,
   "metadata": {},
   "outputs": [],
   "source": [
    "user_summary = user_summary.join(week_comp, on=['userId'], how='inner')"
   ]
  },
  {
   "cell_type": "code",
   "execution_count": 98,
   "metadata": {},
   "outputs": [],
   "source": [
    "#convert to pandas dataframe to view graphs using seaborn\n",
    "user_summary_pd = user_summary.toPandas()"
   ]
  },
  {
   "cell_type": "code",
   "execution_count": 99,
   "metadata": {
    "scrolled": true
   },
   "outputs": [
    {
     "data": {
      "text/html": [
       "<div>\n",
       "<style scoped>\n",
       "    .dataframe tbody tr th:only-of-type {\n",
       "        vertical-align: middle;\n",
       "    }\n",
       "\n",
       "    .dataframe tbody tr th {\n",
       "        vertical-align: top;\n",
       "    }\n",
       "\n",
       "    .dataframe thead th {\n",
       "        text-align: right;\n",
       "    }\n",
       "</style>\n",
       "<table border=\"1\" class=\"dataframe\">\n",
       "  <thead>\n",
       "    <tr style=\"text-align: right;\">\n",
       "      <th></th>\n",
       "      <th>userId</th>\n",
       "      <th>user_type</th>\n",
       "      <th>reg_date</th>\n",
       "      <th>churn</th>\n",
       "      <th>upgrade_date</th>\n",
       "      <th>max_date</th>\n",
       "      <th>min_date</th>\n",
       "      <th>cnt_sessionId</th>\n",
       "      <th>cnt_itemInSession</th>\n",
       "      <th>About</th>\n",
       "      <th>Add Friend</th>\n",
       "      <th>Add to Playlist</th>\n",
       "      <th>Cancel</th>\n",
       "      <th>Cancellation Confirmation</th>\n",
       "      <th>Downgrade</th>\n",
       "      <th>...</th>\n",
       "      <th>Save Settings</th>\n",
       "      <th>Settings</th>\n",
       "      <th>Submit Downgrade</th>\n",
       "      <th>Submit Upgrade</th>\n",
       "      <th>Thumbs Down</th>\n",
       "      <th>Thumbs Up</th>\n",
       "      <th>Upgrade</th>\n",
       "      <th>days_membership</th>\n",
       "      <th>days_since_upgrade</th>\n",
       "      <th>days_range</th>\n",
       "      <th>avg_days_since_prev_login</th>\n",
       "      <th>days_since_prev_login</th>\n",
       "      <th>last_week_cnt_itemInSession</th>\n",
       "      <th>prev_week_cnt_itemInSession</th>\n",
       "      <th>cnt_itemInSession_change</th>\n",
       "    </tr>\n",
       "  </thead>\n",
       "  <tbody>\n",
       "    <tr>\n",
       "      <th>0</th>\n",
       "      <td>100010</td>\n",
       "      <td>free only</td>\n",
       "      <td>2018-09-27</td>\n",
       "      <td>0</td>\n",
       "      <td>1900-01-01</td>\n",
       "      <td>2018-11-21</td>\n",
       "      <td>2018-10-08</td>\n",
       "      <td>1.0</td>\n",
       "      <td>54.428571</td>\n",
       "      <td>0.142857</td>\n",
       "      <td>0.571429</td>\n",
       "      <td>1.000000</td>\n",
       "      <td>NaN</td>\n",
       "      <td>NaN</td>\n",
       "      <td>NaN</td>\n",
       "      <td>...</td>\n",
       "      <td>NaN</td>\n",
       "      <td>NaN</td>\n",
       "      <td>NaN</td>\n",
       "      <td>NaN</td>\n",
       "      <td>0.714286</td>\n",
       "      <td>2.428571</td>\n",
       "      <td>0.285714</td>\n",
       "      <td>55</td>\n",
       "      <td>43423</td>\n",
       "      <td>6.285714</td>\n",
       "      <td>6.285714</td>\n",
       "      <td>12</td>\n",
       "      <td>33</td>\n",
       "      <td>112</td>\n",
       "      <td>-0.705357</td>\n",
       "    </tr>\n",
       "    <tr>\n",
       "      <th>1</th>\n",
       "      <td>124</td>\n",
       "      <td>paying</td>\n",
       "      <td>2018-07-22</td>\n",
       "      <td>0</td>\n",
       "      <td>1900-01-01</td>\n",
       "      <td>2018-11-30</td>\n",
       "      <td>2018-10-01</td>\n",
       "      <td>1.0</td>\n",
       "      <td>166.379310</td>\n",
       "      <td>0.241379</td>\n",
       "      <td>2.551724</td>\n",
       "      <td>4.068966</td>\n",
       "      <td>NaN</td>\n",
       "      <td>NaN</td>\n",
       "      <td>1.413793</td>\n",
       "      <td>...</td>\n",
       "      <td>0.206897</td>\n",
       "      <td>0.689655</td>\n",
       "      <td>NaN</td>\n",
       "      <td>NaN</td>\n",
       "      <td>1.413793</td>\n",
       "      <td>5.896552</td>\n",
       "      <td>NaN</td>\n",
       "      <td>131</td>\n",
       "      <td>43432</td>\n",
       "      <td>2.068966</td>\n",
       "      <td>1.818182</td>\n",
       "      <td>1</td>\n",
       "      <td>254</td>\n",
       "      <td>255</td>\n",
       "      <td>-0.003922</td>\n",
       "    </tr>\n",
       "    <tr>\n",
       "      <th>2</th>\n",
       "      <td>51</td>\n",
       "      <td>cancelled</td>\n",
       "      <td>2018-09-27</td>\n",
       "      <td>1</td>\n",
       "      <td>1900-01-01</td>\n",
       "      <td>2018-10-17</td>\n",
       "      <td>2018-10-01</td>\n",
       "      <td>1.0</td>\n",
       "      <td>246.400000</td>\n",
       "      <td>0.200000</td>\n",
       "      <td>2.800000</td>\n",
       "      <td>5.200000</td>\n",
       "      <td>0.1</td>\n",
       "      <td>0.1</td>\n",
       "      <td>2.300000</td>\n",
       "      <td>...</td>\n",
       "      <td>0.100000</td>\n",
       "      <td>1.200000</td>\n",
       "      <td>NaN</td>\n",
       "      <td>NaN</td>\n",
       "      <td>2.100000</td>\n",
       "      <td>10.000000</td>\n",
       "      <td>NaN</td>\n",
       "      <td>20</td>\n",
       "      <td>43388</td>\n",
       "      <td>1.600000</td>\n",
       "      <td>1.230769</td>\n",
       "      <td>1</td>\n",
       "      <td>994</td>\n",
       "      <td>871</td>\n",
       "      <td>0.141217</td>\n",
       "    </tr>\n",
       "    <tr>\n",
       "      <th>3</th>\n",
       "      <td>15</td>\n",
       "      <td>paying</td>\n",
       "      <td>2018-09-29</td>\n",
       "      <td>0</td>\n",
       "      <td>1900-01-01</td>\n",
       "      <td>2018-11-25</td>\n",
       "      <td>2018-10-01</td>\n",
       "      <td>1.0</td>\n",
       "      <td>151.866667</td>\n",
       "      <td>0.133333</td>\n",
       "      <td>2.066667</td>\n",
       "      <td>3.933333</td>\n",
       "      <td>NaN</td>\n",
       "      <td>NaN</td>\n",
       "      <td>1.866667</td>\n",
       "      <td>...</td>\n",
       "      <td>0.133333</td>\n",
       "      <td>1.066667</td>\n",
       "      <td>NaN</td>\n",
       "      <td>NaN</td>\n",
       "      <td>0.933333</td>\n",
       "      <td>5.400000</td>\n",
       "      <td>NaN</td>\n",
       "      <td>57</td>\n",
       "      <td>43427</td>\n",
       "      <td>3.666667</td>\n",
       "      <td>2.894737</td>\n",
       "      <td>1</td>\n",
       "      <td>417</td>\n",
       "      <td>227</td>\n",
       "      <td>0.837004</td>\n",
       "    </tr>\n",
       "    <tr>\n",
       "      <th>4</th>\n",
       "      <td>54</td>\n",
       "      <td>downgraded</td>\n",
       "      <td>2018-07-25</td>\n",
       "      <td>1</td>\n",
       "      <td>1900-01-01</td>\n",
       "      <td>2018-10-15</td>\n",
       "      <td>2018-10-01</td>\n",
       "      <td>1.0</td>\n",
       "      <td>138.500000</td>\n",
       "      <td>0.083333</td>\n",
       "      <td>1.750000</td>\n",
       "      <td>3.250000</td>\n",
       "      <td>NaN</td>\n",
       "      <td>NaN</td>\n",
       "      <td>1.583333</td>\n",
       "      <td>...</td>\n",
       "      <td>0.083333</td>\n",
       "      <td>0.416667</td>\n",
       "      <td>0.083333</td>\n",
       "      <td>NaN</td>\n",
       "      <td>0.750000</td>\n",
       "      <td>5.750000</td>\n",
       "      <td>NaN</td>\n",
       "      <td>82</td>\n",
       "      <td>43386</td>\n",
       "      <td>1.166667</td>\n",
       "      <td>1.272727</td>\n",
       "      <td>1</td>\n",
       "      <td>1157</td>\n",
       "      <td>350</td>\n",
       "      <td>2.305714</td>\n",
       "    </tr>\n",
       "  </tbody>\n",
       "</table>\n",
       "<p>5 rows × 36 columns</p>\n",
       "</div>"
      ],
      "text/plain": [
       "   userId   user_type    reg_date  churn upgrade_date    max_date    min_date  \\\n",
       "0  100010   free only  2018-09-27      0   1900-01-01  2018-11-21  2018-10-08   \n",
       "1     124      paying  2018-07-22      0   1900-01-01  2018-11-30  2018-10-01   \n",
       "2      51   cancelled  2018-09-27      1   1900-01-01  2018-10-17  2018-10-01   \n",
       "3      15      paying  2018-09-29      0   1900-01-01  2018-11-25  2018-10-01   \n",
       "4      54  downgraded  2018-07-25      1   1900-01-01  2018-10-15  2018-10-01   \n",
       "\n",
       "   cnt_sessionId  cnt_itemInSession     About  Add Friend  Add to Playlist  \\\n",
       "0            1.0          54.428571  0.142857    0.571429         1.000000   \n",
       "1            1.0         166.379310  0.241379    2.551724         4.068966   \n",
       "2            1.0         246.400000  0.200000    2.800000         5.200000   \n",
       "3            1.0         151.866667  0.133333    2.066667         3.933333   \n",
       "4            1.0         138.500000  0.083333    1.750000         3.250000   \n",
       "\n",
       "   Cancel  Cancellation Confirmation  Downgrade            ...             \\\n",
       "0     NaN                        NaN        NaN            ...              \n",
       "1     NaN                        NaN   1.413793            ...              \n",
       "2     0.1                        0.1   2.300000            ...              \n",
       "3     NaN                        NaN   1.866667            ...              \n",
       "4     NaN                        NaN   1.583333            ...              \n",
       "\n",
       "   Save Settings  Settings  Submit Downgrade  Submit Upgrade  Thumbs Down  \\\n",
       "0            NaN       NaN               NaN             NaN     0.714286   \n",
       "1       0.206897  0.689655               NaN             NaN     1.413793   \n",
       "2       0.100000  1.200000               NaN             NaN     2.100000   \n",
       "3       0.133333  1.066667               NaN             NaN     0.933333   \n",
       "4       0.083333  0.416667          0.083333             NaN     0.750000   \n",
       "\n",
       "   Thumbs Up   Upgrade  days_membership  days_since_upgrade  days_range  \\\n",
       "0   2.428571  0.285714               55               43423    6.285714   \n",
       "1   5.896552       NaN              131               43432    2.068966   \n",
       "2  10.000000       NaN               20               43388    1.600000   \n",
       "3   5.400000       NaN               57               43427    3.666667   \n",
       "4   5.750000       NaN               82               43386    1.166667   \n",
       "\n",
       "   avg_days_since_prev_login  days_since_prev_login  \\\n",
       "0                   6.285714                     12   \n",
       "1                   1.818182                      1   \n",
       "2                   1.230769                      1   \n",
       "3                   2.894737                      1   \n",
       "4                   1.272727                      1   \n",
       "\n",
       "   last_week_cnt_itemInSession  prev_week_cnt_itemInSession  \\\n",
       "0                           33                          112   \n",
       "1                          254                          255   \n",
       "2                          994                          871   \n",
       "3                          417                          227   \n",
       "4                         1157                          350   \n",
       "\n",
       "   cnt_itemInSession_change  \n",
       "0                 -0.705357  \n",
       "1                 -0.003922  \n",
       "2                  0.141217  \n",
       "3                  0.837004  \n",
       "4                  2.305714  \n",
       "\n",
       "[5 rows x 36 columns]"
      ]
     },
     "execution_count": 99,
     "metadata": {},
     "output_type": "execute_result"
    }
   ],
   "source": [
    "#As above dividing all relevant columns by the 'cnt_sessionId' to normalize\n",
    "user_summary_pd_per_session = user_summary_pd.copy()\n",
    "cols_per_session = ['cnt_sessionId','cnt_itemInSession','About','Add Friend','Add to Playlist',\n",
    "            'Cancel','Cancellation Confirmation','Submit Downgrade',\n",
    "            'Downgrade','Error','Help','Home','Logout','NextSong','Roll Advert',\n",
    "            'Save Settings','Settings','Submit Upgrade','Thumbs Down','Thumbs Up',\n",
    "            'Upgrade',\n",
    "                #'days_membership','days_since_upgrade', 'churn'\n",
    "                'days_range']\n",
    "\n",
    "#Divide all summed columns by 'cnt_sessionId'\n",
    "user_summary_pd_per_session[cols_per_session] = user_summary_pd_per_session[cols_per_session] \\\n",
    "    .div(user_summary_pd_per_session.cnt_sessionId, axis=0)\n",
    "\n",
    "user_summary_pd_per_session.head()"
   ]
  },
  {
   "cell_type": "code",
   "execution_count": 100,
   "metadata": {},
   "outputs": [],
   "source": [
    "#list of columns to be used compared in the correlation matrix\n",
    "cols = ['cnt_sessionId','cnt_itemInSession','About','Add Friend','Add to Playlist',\n",
    "            'Cancel','Cancellation Confirmation','Submit Downgrade',\n",
    "            'Downgrade','Error','Help','Home','Logout','NextSong','Roll Advert',\n",
    "            'Save Settings','Settings','Submit Upgrade','Thumbs Down','Thumbs Up',\n",
    "            'Upgrade','days_membership','days_range','days_since_upgrade',\n",
    "            'avg_days_since_prev_login','days_since_prev_login','last_week_cnt_itemInSession',\n",
    "            'prev_week_cnt_itemInSession','cnt_itemInSession_change', 'churn']"
   ]
  },
  {
   "cell_type": "code",
   "execution_count": 102,
   "metadata": {},
   "outputs": [
    {
     "data": {
      "image/png": "[encoded data removed]",
      "text/plain": [
       "<matplotlib.figure.Figure at 0x7fc347de5748>"
      ]
     },
     "metadata": {
      "needs_background": "light"
     },
     "output_type": "display_data"
    }
   ],
   "source": [
    "fig, ax = plt.subplots(figsize=(12,8))\n",
    "ax = sns.heatmap(user_summary_pd_per_session[cols].corr(), cmap=\"YlGnBu\")\n",
    "ax.set_title(\"Correlation Matrix - Based on User Average Per Session\")\n",
    "plt.tight_layout()\n",
    "plt.show()"
   ]
  },
  {
   "cell_type": "markdown",
   "metadata": {},
   "source": [
    "The above correlation matrix is a comparison of almost all the model features that will be used for the models. The columns to be excluded would be the cnt_sessionId, since this is what I have divided all the page totals by, and the Cancel, Cancellation Confirmation and Submit Downgrade columns since the target column churn is derived from these."
   ]
  },
  {
   "cell_type": "code",
   "execution_count": 103,
   "metadata": {
    "scrolled": true
   },
   "outputs": [
    {
     "name": "stdout",
     "output_type": "stream",
     "text": [
      "root\n",
      " |-- userId: string (nullable = true)\n",
      " |-- user_type: string (nullable = false)\n",
      " |-- reg_date: date (nullable = true)\n",
      " |-- churn: integer (nullable = false)\n",
      " |-- upgrade_date: date (nullable = true)\n",
      " |-- max_date: date (nullable = true)\n",
      " |-- min_date: date (nullable = true)\n",
      " |-- cnt_sessionId: long (nullable = false)\n",
      " |-- cnt_itemInSession: long (nullable = false)\n",
      " |-- About: long (nullable = true)\n",
      " |-- Add Friend: long (nullable = true)\n",
      " |-- Add to Playlist: long (nullable = true)\n",
      " |-- Cancel: long (nullable = true)\n",
      " |-- Cancellation Confirmation: long (nullable = true)\n",
      " |-- Downgrade: long (nullable = true)\n",
      " |-- Error: long (nullable = true)\n",
      " |-- Help: long (nullable = true)\n",
      " |-- Home: long (nullable = true)\n",
      " |-- Logout: long (nullable = true)\n",
      " |-- NextSong: long (nullable = true)\n",
      " |-- Roll Advert: long (nullable = true)\n",
      " |-- Save Settings: long (nullable = true)\n",
      " |-- Settings: long (nullable = true)\n",
      " |-- Submit Downgrade: long (nullable = true)\n",
      " |-- Submit Upgrade: long (nullable = true)\n",
      " |-- Thumbs Down: long (nullable = true)\n",
      " |-- Thumbs Up: long (nullable = true)\n",
      " |-- Upgrade: long (nullable = true)\n",
      " |-- days_membership: integer (nullable = true)\n",
      " |-- days_since_upgrade: integer (nullable = true)\n",
      " |-- days_range: integer (nullable = true)\n",
      " |-- avg_days_since_prev_login: double (nullable = false)\n",
      " |-- days_since_prev_login: integer (nullable = true)\n",
      " |-- last_week_cnt_itemInSession: long (nullable = false)\n",
      " |-- prev_week_cnt_itemInSession: long (nullable = false)\n",
      " |-- cnt_itemInSession_change: double (nullable = false)\n",
      "\n"
     ]
    }
   ],
   "source": [
    "#Confirming that there are no NaN values in the user_summary dataframe \n",
    "user_summary = user_summary.fillna(0)\n",
    "user_summary.printSchema()"
   ]
  },
  {
   "cell_type": "markdown",
   "metadata": {},
   "source": [
    "#### Add Downgrade_New column\n",
    "Add new column `Downgrade_New` to replace `Downgrade` as a model feature. This so that I can exclude the last downgrade page visit made by users before downgrading, which might otherwise unfairly bias the model since that one interaction leeds to churn and would not be present in feature unlabeled data."
   ]
  },
  {
   "cell_type": "code",
   "execution_count": 104,
   "metadata": {},
   "outputs": [],
   "source": [
    "#For downgraded users reduce 'Downgrade' by 'Submit Downgrade' (in case multiple downgrades were made)\n",
    "reduce_downgrade = udf(lambda x, y: x-y)\n",
    "user_summary = user_summary.withColumn('Downgrade_New', \n",
    "     when(user_summary.user_type == 'downgraded', \n",
    "          reduce_downgrade(col('Downgrade'),col('Submit Downgrade')).cast(IntegerType())) \\\n",
    "     .otherwise(user_summary.Downgrade))"
   ]
  },
  {
   "cell_type": "code",
   "execution_count": 105,
   "metadata": {},
   "outputs": [
    {
     "data": {
      "text/plain": [
       "[Row(userId='54', user_type='downgraded', reg_date=datetime.date(2018, 7, 25), churn=1, upgrade_date=datetime.date(1900, 1, 1), max_date=datetime.date(2018, 10, 15), min_date=datetime.date(2018, 10, 1), cnt_sessionId=12, cnt_itemInSession=1662, About=1, Add Friend=21, Add to Playlist=39, Cancel=0, Cancellation Confirmation=0, Downgrade=19, Error=1, Help=8, Home=50, Logout=15, NextSong=1420, Roll Advert=3, Save Settings=1, Settings=5, Submit Downgrade=1, Submit Upgrade=0, Thumbs Down=9, Thumbs Up=69, Upgrade=0, days_membership=82, days_since_upgrade=43386, days_range=14, avg_days_since_prev_login=1.2727272727272727, days_since_prev_login=1, last_week_cnt_itemInSession=1157, prev_week_cnt_itemInSession=350, cnt_itemInSession_change=2.3057142857142856, Downgrade_New=18)]"
      ]
     },
     "execution_count": 105,
     "metadata": {},
     "output_type": "execute_result"
    }
   ],
   "source": [
    "#Example downgraded user 54. Can see 'Downgrade_New' is 1 less than 'Downgrade'\n",
    "user_summary.filter(user_summary.userId=='54').take(1)"
   ]
  },
  {
   "cell_type": "markdown",
   "metadata": {},
   "source": [
    "Translate the above updated non-pandas 'user_summary' dataframe into 'user_summary_per_session' dataframe by dividing all page interaction columns by 'cnt_sessionId', so that it can be used to drive a model."
   ]
  },
  {
   "cell_type": "code",
   "execution_count": 106,
   "metadata": {},
   "outputs": [
    {
     "data": {
      "text/plain": [
       "Row(userId='100010', user_type='free only', reg_date=datetime.date(2018, 9, 27), churn=0, upgrade_date=datetime.date(1900, 1, 1), max_date=datetime.date(2018, 11, 21), min_date=datetime.date(2018, 10, 8), cnt_sessionId=7, cnt_itemInSession=381, About=1, Add Friend=4, Add to Playlist=7, Cancel=0, Cancellation Confirmation=0, Downgrade=0, Error=0, Help=2, Home=11, Logout=5, NextSong=275, Roll Advert=52, Save Settings=0, Settings=0, Submit Downgrade=0, Submit Upgrade=0, Thumbs Down=5, Thumbs Up=17, Upgrade=2, days_membership=55, days_since_upgrade=43423, days_range=44, avg_days_since_prev_login=6.285714285714286, days_since_prev_login=12, last_week_cnt_itemInSession=33, prev_week_cnt_itemInSession=112, cnt_itemInSession_change=-0.7053571428571429, Downgrade_New=0)"
      ]
     },
     "execution_count": 106,
     "metadata": {},
     "output_type": "execute_result"
    }
   ],
   "source": [
    "user_summary_per_session = user_summary\n",
    "user_summary_per_session.head()"
   ]
  },
  {
   "cell_type": "markdown",
   "metadata": {},
   "source": [
    "Define the page interaction columns which i will be dividing by the 'cnt_sessionId' to average the users page interactions per session."
   ]
  },
  {
   "cell_type": "code",
   "execution_count": 107,
   "metadata": {},
   "outputs": [],
   "source": [
    "page_interactions = ['cnt_sessionId','cnt_itemInSession','About','Add Friend','Add to Playlist',\n",
    "            'Cancel','Cancellation Confirmation','Submit Downgrade','Downgrade',\n",
    "            'Downgrade_New','Error','Help','Home','Logout','NextSong','Roll Advert',\n",
    "            'Save Settings','Settings','Submit Upgrade','Thumbs Down','Thumbs Up',\n",
    "            'Upgrade']"
   ]
  },
  {
   "cell_type": "code",
   "execution_count": 108,
   "metadata": {},
   "outputs": [
    {
     "data": {
      "text/plain": [
       "Row(userId='100010', user_type='free only', reg_date=datetime.date(2018, 9, 27), churn=0, upgrade_date=datetime.date(1900, 1, 1), max_date=datetime.date(2018, 11, 21), min_date=datetime.date(2018, 10, 8), cnt_sessionId=7, cnt_itemInSession=381, About=1, Add Friend=4, Add to Playlist=7, Cancel=0, Cancellation Confirmation=0, Downgrade=0, Error=0, Help=2, Home=11, Logout=5, NextSong=275, Roll Advert=52, Save Settings=0, Settings=0, Submit Downgrade=0, Submit Upgrade=0, Thumbs Down=5, Thumbs Up=17, Upgrade=2, days_membership=55, days_since_upgrade=43423, days_range=44, avg_days_since_prev_login=6.285714285714286, days_since_prev_login=12, last_week_cnt_itemInSession=33, prev_week_cnt_itemInSession=112, cnt_itemInSession_change=-0.7053571428571429, Downgrade_New=0)"
      ]
     },
     "execution_count": 108,
     "metadata": {},
     "output_type": "execute_result"
    }
   ],
   "source": [
    "user_summary_per_session.head()"
   ]
  },
  {
   "cell_type": "code",
   "execution_count": 109,
   "metadata": {},
   "outputs": [],
   "source": [
    "#Udf to divide each column value by the cnt_sessionId value\n",
    "user_summary_per_session = user_summary\n",
    "\n",
    "divide_col = udf(lambda x, y: x/y)\n",
    "y = 'cnt_sessionId'\n",
    "\n",
    "for c in page_interactions: #.remove('days_membership')\n",
    "    user_summary_per_session = user_summary_per_session.withColumn(c,\n",
    "        divide_col(col(c),col(y)).cast(IntegerType()))"
   ]
  },
  {
   "cell_type": "markdown",
   "metadata": {},
   "source": [
    "# Modeling\n",
    "The models being used are RandomForestClassifier and LogisticRegression since both are classification models, and the analysis metric will be AUC."
   ]
  },
  {
   "cell_type": "markdown",
   "metadata": {},
   "source": [
    "### RandomForestClassifier Model\n",
    "The below list of features excludes `Cancel`,`Cancellation Confirmation`, `Submit Downgrade` and `Downgrade` columns which the label column `churn` is derived from."
   ]
  },
  {
   "cell_type": "code",
   "execution_count": 110,
   "metadata": {},
   "outputs": [],
   "source": [
    "#chosen model features\n",
    "features = ['cnt_itemInSession','About','Add Friend','Add to Playlist',\n",
    "            'Downgrade_New','Error','Help','Home','Logout','NextSong','Roll Advert',\n",
    "            'Save Settings','Settings','Submit Upgrade','Thumbs Down','Thumbs Up',\n",
    "            'Upgrade','days_membership','days_since_upgrade',\n",
    "            'avg_days_since_prev_login','days_since_prev_login','last_week_cnt_itemInSession',\n",
    "            'prev_week_cnt_itemInSession','cnt_itemInSession_change']\n",
    "\n",
    "#create new vector column based on the above lits of features\n",
    "assembler = VectorAssembler(inputCols=features, outputCol=\"features\")\n",
    "\n",
    "indexer = StringIndexer(inputCol=\"churn\", outputCol=\"label\")"
   ]
  },
  {
   "cell_type": "code",
   "execution_count": 111,
   "metadata": {},
   "outputs": [],
   "source": [
    "#Split the data into training and validation datasets\n",
    "x_train, x_test = user_summary_per_session.randomSplit([0.7, 0.3])"
   ]
  },
  {
   "cell_type": "markdown",
   "metadata": {},
   "source": [
    "#### 1st run of the model\n",
    "Initial randomforestclassifier hyperparameters are the estimator defaults (just stated below for visibility). At a later tuning phase i will experiment with other parameter values. This 1st version is to see what the default version produces."
   ]
  },
  {
   "cell_type": "code",
   "execution_count": 161,
   "metadata": {},
   "outputs": [],
   "source": [
    "#RandomForestClassifier with default hyperparameter values\n",
    "rf = RandomForestClassifier(labelCol=\"label\", featuresCol=\"features\", maxDepth=5, numTrees=20)\n",
    "\n",
    "#pipeline assembles the above vector assembler, output indexer and RandomForestClassifier\n",
    "pipeline = Pipeline(stages=[assembler, indexer, rf])\n",
    "\n",
    "#train the RandomForestClassifier model and use to create test predictions\n",
    "rf_Model = pipeline.fit(x_train)\n",
    "y_test = rf_Model.transform(x_test)"
   ]
  },
  {
   "cell_type": "code",
   "execution_count": 162,
   "metadata": {
    "scrolled": true
   },
   "outputs": [
    {
     "data": {
      "text/plain": [
       "40"
      ]
     },
     "execution_count": 162,
     "metadata": {},
     "output_type": "execute_result"
    }
   ],
   "source": [
    "#Number of correct predictions on using the above data on the validation dataset\n",
    "y_test.filter(y_test.label == y_test.prediction).count()"
   ]
  },
  {
   "cell_type": "code",
   "execution_count": 163,
   "metadata": {
    "scrolled": true
   },
   "outputs": [
    {
     "data": {
      "text/plain": [
       "48"
      ]
     },
     "execution_count": 163,
     "metadata": {},
     "output_type": "execute_result"
    }
   ],
   "source": [
    "#Number of total values in test data\n",
    "y_test.count()"
   ]
  },
  {
   "cell_type": "code",
   "execution_count": 164,
   "metadata": {},
   "outputs": [
    {
     "name": "stdout",
     "output_type": "stream",
     "text": [
      "Test Error = 0.173611\n"
     ]
    }
   ],
   "source": [
    "#use a binaryClassificationEvaluator since it is a binary problem, using AUC\n",
    "evaluator = BinaryClassificationEvaluator()\n",
    "accuracy = evaluator.evaluate(y_test, {evaluator.metricName: 'areaUnderROC'})\n",
    "print(\"Test Error = %g\" % (1.0 - accuracy))"
   ]
  },
  {
   "cell_type": "markdown",
   "metadata": {},
   "source": [
    "The above model produces pretty low test error considering only using default model hyperparameters.\n",
    "\n",
    "#### RandomForestClassifier Model Tuning \n",
    "Re-running using a paramgridbuilder and cross validator so to tune the maxdepth and numtrees parameters. Doubled the maxdepth value, and increased the numtrees to 50."
   ]
  },
  {
   "cell_type": "code",
   "execution_count": 165,
   "metadata": {},
   "outputs": [],
   "source": [
    "paramGrid = ParamGridBuilder() \\\n",
    "  .addGrid(rf.maxDepth, [5,10]) \\\n",
    "  .addGrid(rf.numTrees, [20,50]) \\\n",
    "  .build()\n",
    "\n",
    "cv = CrossValidator(estimator=pipeline, \n",
    "                    estimatorParamMaps=paramGrid,\n",
    "                    evaluator=BinaryClassificationEvaluator(metricName='areaUnderROC'),\n",
    "                    numFolds=3)\n",
    "\n",
    "cvModel = cv.fit(x_train)"
   ]
  },
  {
   "cell_type": "code",
   "execution_count": 166,
   "metadata": {},
   "outputs": [],
   "source": [
    "#zip cvModel getEstimatorParamMaps() and avgMetrics, and add to list\n",
    "param_list = list()\n",
    "\n",
    "for params, score in zip(cvModel.getEstimatorParamMaps(), cvModel.avgMetrics):\n",
    "      param_list.append((([{param.name: str(params[param])} for param in params]),\n",
    "                         \"Score: {:0.3f}\".format(score)))"
   ]
  },
  {
   "cell_type": "code",
   "execution_count": 167,
   "metadata": {},
   "outputs": [
    {
     "data": {
      "text/plain": [
       "[([{'maxDepth': '5'}, {'numTrees': '20'}], 'Score: 0.813'),\n",
       " ([{'maxDepth': '5'}, {'numTrees': '50'}], 'Score: 0.819'),\n",
       " ([{'maxDepth': '10'}, {'numTrees': '20'}], 'Score: 0.830'),\n",
       " ([{'maxDepth': '10'}, {'numTrees': '50'}], 'Score: 0.816')]"
      ]
     },
     "execution_count": 167,
     "metadata": {},
     "output_type": "execute_result"
    }
   ],
   "source": [
    "#print ParamMaps and corresponding AUC scores\n",
    "param_list"
   ]
  },
  {
   "cell_type": "markdown",
   "metadata": {},
   "source": [
    "Fromt the above training data AUC scores 'maxDepth': '5' and 'numTrees': '50' have produced the best model. "
   ]
  },
  {
   "cell_type": "code",
   "execution_count": 168,
   "metadata": {},
   "outputs": [],
   "source": [
    "predictions = cvModel.transform(x_test)"
   ]
  },
  {
   "cell_type": "code",
   "execution_count": 169,
   "metadata": {
    "scrolled": true
   },
   "outputs": [
    {
     "name": "stdout",
     "output_type": "stream",
     "text": [
      "40\n",
      "48\n"
     ]
    }
   ],
   "source": [
    "print(predictions.filter(predictions.label == predictions.prediction).count())\n",
    "print(predictions.count())"
   ]
  },
  {
   "cell_type": "markdown",
   "metadata": {},
   "source": [
    "Compute the model accuracy metrics for comparison to the LogisticRegression model. \n",
    "\n",
    "The below Test Error shows a slight improvement on the initial model above, so hyperparameter tuning did lead to an improvement."
   ]
  },
  {
   "cell_type": "code",
   "execution_count": 170,
   "metadata": {},
   "outputs": [
    {
     "name": "stdout",
     "output_type": "stream",
     "text": [
      "Test Error = 0.167535\n",
      "+-----+----------+-----+\n",
      "|label|prediction|count|\n",
      "+-----+----------+-----+\n",
      "|  1.0|       1.0|   18|\n",
      "|  0.0|       1.0|    2|\n",
      "|  1.0|       0.0|    6|\n",
      "|  0.0|       0.0|   22|\n",
      "+-----+----------+-----+\n",
      "\n",
      "n precision: 0.900\n",
      "n recall: 0.750\n",
      "n accuracy: 0.833\n",
      "n F1 score: 0.818\n"
     ]
    }
   ],
   "source": [
    "# calculate AUC accuracy metric on the validation data\n",
    "accuracy = evaluator.evaluate(predictions, {evaluator.metricName: 'areaUnderROC'})\n",
    "print(\"Test Error = %g\" % (1.0 - accuracy))\n",
    "# compute TN, TP, FN, and FP\n",
    "predictions.groupBy('label', 'prediction').count().show()\n",
    "# Calculate the elements of the confusion matrix\n",
    "TN = predictions.filter('prediction = 0 AND label = prediction').count()\n",
    "TP = predictions.filter('prediction = 1 AND label = prediction').count()\n",
    "FN = predictions.filter('prediction = 0 AND label <> prediction').count()\n",
    "FP = predictions.filter('prediction = 1 AND label <> prediction').count()\n",
    "# calculate accuracy, precision, recall, and F1-score\n",
    "accuracy = (TN + TP) / (TN + TP + FN + FP)\n",
    "precision = TP / (TP + FP)\n",
    "recall = TP / (TP + FN)\n",
    "F =  2 * (precision*recall) / (precision + recall)\n",
    "print('n precision: %0.3f' % precision)\n",
    "print('n recall: %0.3f' % recall)\n",
    "print('n accuracy: %0.3f' % accuracy)\n",
    "print('n F1 score: %0.3f' % F)"
   ]
  },
  {
   "cell_type": "markdown",
   "metadata": {},
   "source": [
    "### Logistic Regression Model"
   ]
  },
  {
   "cell_type": "markdown",
   "metadata": {},
   "source": [
    "For the LogisticRegression model I went straight to cross validation and hyperparameter tuning. I have tried a couple of variations of maxIter using the below code cells. Initially I used a `lr.maxIter, [1,5,10]` but I found that the highest value within that grid produced the best avgMetrics.\n",
    "\n",
    "Therefore in the below cells I have increased the maxIter to `lr.maxIter, [10,20,50]` to test whether increasing the maxIter further will further improve the model accuracy."
   ]
  },
  {
   "cell_type": "code",
   "execution_count": 129,
   "metadata": {},
   "outputs": [],
   "source": [
    "lr = LogisticRegression(labelCol=\"label\", featuresCol=\"features\")"
   ]
  },
  {
   "cell_type": "code",
   "execution_count": 130,
   "metadata": {},
   "outputs": [],
   "source": [
    "#utilising the same vector assembler and indexer as fed the above randomforestclassifier\n",
    "pipeline_lr = Pipeline(stages=[assembler, indexer, lr])"
   ]
  },
  {
   "cell_type": "code",
   "execution_count": 171,
   "metadata": {},
   "outputs": [],
   "source": [
    "paramGrid_lr = ParamGridBuilder() \\\n",
    "  .addGrid(lr.maxIter, [10,20,50]) \\\n",
    "  .addGrid(lr.regParam, [0.0,0.5,2.0]) \\\n",
    "  .build()\n",
    "\n",
    "cv_lr = CrossValidator(estimator=pipeline_lr, \n",
    "                    estimatorParamMaps=paramGrid_lr,\n",
    "                    evaluator=BinaryClassificationEvaluator(metricName='areaUnderROC'),\n",
    "                    numFolds=2)\n",
    "\n",
    "cvModel_lr = cv_lr.fit(x_train)"
   ]
  },
  {
   "cell_type": "code",
   "execution_count": 172,
   "metadata": {},
   "outputs": [],
   "source": [
    "#zip cvModel getEstimatorParamMaps() and avgMetrics, and add to list\n",
    "param_list = list()\n",
    "\n",
    "for params, score in zip(cvModel_lr.getEstimatorParamMaps(), cvModel_lr.avgMetrics):\n",
    "      param_list.append((([{param.name: str(params[param])} for param in params]),\n",
    "                         \"Score: {:0.3f}\".format(score)))"
   ]
  },
  {
   "cell_type": "code",
   "execution_count": 173,
   "metadata": {},
   "outputs": [
    {
     "data": {
      "text/plain": [
       "[([{'maxIter': '10'}, {'regParam': '0.0'}], 'Score: 0.834'),\n",
       " ([{'maxIter': '10'}, {'regParam': '0.5'}], 'Score: 0.856'),\n",
       " ([{'maxIter': '10'}, {'regParam': '2.0'}], 'Score: 0.847'),\n",
       " ([{'maxIter': '20'}, {'regParam': '0.0'}], 'Score: 0.808'),\n",
       " ([{'maxIter': '20'}, {'regParam': '0.5'}], 'Score: 0.848'),\n",
       " ([{'maxIter': '20'}, {'regParam': '2.0'}], 'Score: 0.846'),\n",
       " ([{'maxIter': '50'}, {'regParam': '0.0'}], 'Score: 0.773'),\n",
       " ([{'maxIter': '50'}, {'regParam': '0.5'}], 'Score: 0.848'),\n",
       " ([{'maxIter': '50'}, {'regParam': '2.0'}], 'Score: 0.846')]"
      ]
     },
     "execution_count": 173,
     "metadata": {},
     "output_type": "execute_result"
    }
   ],
   "source": [
    "#print ParamMaps and corresponding AUC scores\n",
    "param_list"
   ]
  },
  {
   "cell_type": "markdown",
   "metadata": {},
   "source": [
    "From the above list {'maxIter': '10', 'regParam': '0.5', 'Score: 0.856'} has produced the best model, so there was no benefit to increasing the maxIter parameter since was the best model from my previous 1,5,10 run."
   ]
  },
  {
   "cell_type": "code",
   "execution_count": 174,
   "metadata": {},
   "outputs": [],
   "source": [
    "predictions = cvModel_lr.transform(x_test)"
   ]
  },
  {
   "cell_type": "code",
   "execution_count": 175,
   "metadata": {
    "scrolled": true
   },
   "outputs": [
    {
     "name": "stdout",
     "output_type": "stream",
     "text": [
      "36\n",
      "48\n"
     ]
    }
   ],
   "source": [
    "print(predictions.filter(predictions.label == predictions.prediction).count())\n",
    "print(predictions.count())"
   ]
  },
  {
   "cell_type": "code",
   "execution_count": 176,
   "metadata": {},
   "outputs": [
    {
     "name": "stdout",
     "output_type": "stream",
     "text": [
      "Test Error = 0.232639\n",
      "+-----+----------+-----+\n",
      "|label|prediction|count|\n",
      "+-----+----------+-----+\n",
      "|  1.0|       1.0|   14|\n",
      "|  0.0|       1.0|    2|\n",
      "|  1.0|       0.0|   10|\n",
      "|  0.0|       0.0|   22|\n",
      "+-----+----------+-----+\n",
      "\n",
      "n precision: 0.875\n",
      "n recall: 0.583\n",
      "n accuracy: 0.750\n",
      "n F1 score: 0.700\n"
     ]
    }
   ],
   "source": [
    "# calculate AUC accuracy metric on the validation data\n",
    "accuracy = evaluator.evaluate(predictions, {evaluator.metricName: 'areaUnderROC'})\n",
    "print(\"Test Error = %g\" % (1.0 - accuracy))\n",
    "# compute TN, TP, FN, and FP\n",
    "predictions.groupBy('label', 'prediction').count().show()\n",
    "# Calculate the elements of the confusion matrix\n",
    "TN = predictions.filter('prediction = 0 AND label = prediction').count()\n",
    "TP = predictions.filter('prediction = 1 AND label = prediction').count()\n",
    "FN = predictions.filter('prediction = 0 AND label <> prediction').count()\n",
    "FP = predictions.filter('prediction = 1 AND label <> prediction').count()\n",
    "# calculate accuracy, precision, recall, and F1-score\n",
    "accuracy = (TN + TP) / (TN + TP + FN + FP)\n",
    "precision = TP / (TP + FP)\n",
    "recall = TP / (TP + FN)\n",
    "F =  2 * (precision*recall) / (precision + recall)\n",
    "print('n precision: %0.3f' % precision)\n",
    "print('n recall: %0.3f' % recall)\n",
    "print('n accuracy: %0.3f' % accuracy)\n",
    "print('n F1 score: %0.3f' % F)"
   ]
  },
  {
   "cell_type": "markdown",
   "metadata": {},
   "source": [
    "# Conclusion\n",
    "\n",
    "Of the two models tested the tuned RandomForestClassifier performed the best with the best AUC scores producing less than 17% error on the 128MB mini dataset that was used. It had better precision, and achieved a higher level of accuracy faster, even before tuning, while LogisticRegression model required more tuning and flex of the maxIter parameter."
   ]
  },
  {
   "cell_type": "code",
   "execution_count": null,
   "metadata": {},
   "outputs": [],
   "source": []
  },
  {
   "cell_type": "code",
   "execution_count": null,
   "metadata": {},
   "outputs": [],
   "source": []
  }
 ],
 "metadata": {
  "kernelspec": {
   "display_name": "Python 3",
   "language": "python",
   "name": "python3"
  },
  "language_info": {
   "codemirror_mode": {
    "name": "ipython",
    "version": 3
   },
   "file_extension": ".py",
   "mimetype": "text/x-python",
   "name": "python",
   "nbconvert_exporter": "python",
   "pygments_lexer": "ipython3",
   "version": "3.6.3"
  }
 },
 "nbformat": 4,
 "nbformat_minor": 2
}
